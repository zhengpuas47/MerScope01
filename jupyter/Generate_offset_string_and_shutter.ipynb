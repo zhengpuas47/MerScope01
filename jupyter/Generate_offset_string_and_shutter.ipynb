{
 "cells": [
  {
   "cell_type": "markdown",
   "metadata": {},
   "source": [
    "# Generate offset string in hal setting file, and corresponding shutter file\n",
    "\n",
    "By Pu Zheng\n",
    "\n",
    "2021.5.31"
   ]
  },
  {
   "cell_type": "code",
   "execution_count": 1,
   "metadata": {
    "collapsed": true
   },
   "outputs": [],
   "source": [
    "# import required packages\n",
    "import os, sys, time\n",
    "import numpy as np"
   ]
  },
  {
   "cell_type": "markdown",
   "metadata": {},
   "source": [
    "# generate the offset string\n",
    "\n",
    "paste the output string into \n",
    "</locked>\n",
    "  \t<hardware_z_scan>\n",
    "\t\t<z_offsets type=\"string\">"
   ]
  },
  {
   "cell_type": "code",
   "execution_count": 25,
   "metadata": {
    "collapsed": true
   },
   "outputs": [],
   "source": [
    "# required parameters\n",
    "num_steps = 50 #13\n",
    "step_size = 0.25 #1\n",
    "num_channels = 5 #3"
   ]
  },
  {
   "cell_type": "code",
   "execution_count": 19,
   "metadata": {
    "collapsed": true
   },
   "outputs": [],
   "source": [
    "# required parameters RNA\n",
    "num_steps = 13\n",
    "step_size = 1\n",
    "num_channels = 2"
   ]
  },
  {
   "cell_type": "code",
   "execution_count": 26,
   "metadata": {
    "collapsed": false
   },
   "outputs": [],
   "source": [
    "offset_string = []\n",
    "start_z = 0 #- (num_steps-1) * step_size / 2\n",
    "for _i in np.arange(num_steps):\n",
    "    offset_string.extend([str(round(start_z+_i*step_size, 2))]*num_channels)"
   ]
  },
  {
   "cell_type": "code",
   "execution_count": 21,
   "metadata": {
    "collapsed": false
   },
   "outputs": [
    {
     "name": "stdout",
     "output_type": "stream",
     "text": [
      "0,0,1,1,2,2,3,3,4,4,5,5,6,6,7,7,8,8,9,9,10,10,11,11,12,12\n"
     ]
    }
   ],
   "source": [
    "# copy the output of this box into the hal setting:\n",
    "print(','.join(offset_string))"
   ]
  },
  {
   "cell_type": "markdown",
   "metadata": {},
   "source": [
    "# generate the shutter file"
   ]
  },
  {
   "cell_type": "code",
   "execution_count": 22,
   "metadata": {
    "collapsed": true
   },
   "outputs": [],
   "source": [
    "all_channels= [750, 647, 561, 488, 405]\n",
    "\n",
    "ch_ids = [1, 0]\n",
    "#ch_ids = [0, 1, 2, 3]\n",
    "#ch_ids = [0, 3, ]\n",
    "#ch_ids = [2, 3, 4]\n",
    "#ch_ids = [0, 1, 2, 3, 4]"
   ]
  },
  {
   "cell_type": "code",
   "execution_count": 23,
   "metadata": {
    "collapsed": true
   },
   "outputs": [],
   "source": [
    "full_shutter_str = \"\"\n",
    "\n",
    "## header\n",
    "header = f\"\"\"<?xml version=\"1.0\" encoding=\"ISO-8859-1\"?>\n",
    "<repeat>\n",
    "  <oversampling>1</oversampling>\n",
    "  <frames>{num_steps*num_channels}</frames>\n",
    "  \"\"\"\n",
    "# append header\n",
    "full_shutter_str += header\n",
    "## loop through channels\n",
    "for _i  in np.arange(num_steps):\n",
    "    full_shutter_str += \"\"\"\n",
    "  \"\"\"\n",
    "    for _j, _ch in enumerate(ch_ids[:num_channels]):\n",
    "        # determine start time and end time\n",
    "        _start_time = _i * num_channels + _j\n",
    "        _end_time = _i * num_channels + _j + 1\n",
    "        # determine _channel string\n",
    "        if _ch < 0:\n",
    "            continue\n",
    "        else:\n",
    "            _ch_str = f\"\"\"<event>\n",
    "    <channel>{_ch}</channel>\n",
    "    <power>1</power>\n",
    "    <on>{_start_time:.1f}</on>\n",
    "    <off>{_end_time:.1f}</off>\n",
    "    <color>255,255,255</color>\n",
    "  </event>\n",
    "  \"\"\"\n",
    "        # append\n",
    "        full_shutter_str += _ch_str\n",
    "\n",
    "# append the tail\n",
    "full_shutter_str += \"\"\"\n",
    "</repeat>\"\"\""
   ]
  },
  {
   "cell_type": "code",
   "execution_count": 24,
   "metadata": {
    "collapsed": false,
    "scrolled": true
   },
   "outputs": [
    {
     "name": "stdout",
     "output_type": "stream",
     "text": [
      "<?xml version=\"1.0\" encoding=\"ISO-8859-1\"?>\n",
      "<repeat>\n",
      "  <oversampling>1</oversampling>\n",
      "  <frames>26</frames>\n",
      "  \n",
      "  <event>\n",
      "    <channel>1</channel>\n",
      "    <power>1</power>\n",
      "    <on>0.0</on>\n",
      "    <off>1.0</off>\n",
      "    <color>255,255,255</color>\n",
      "  </event>\n",
      "  <event>\n",
      "    <channel>0</channel>\n",
      "    <power>1</power>\n",
      "    <on>1.0</on>\n",
      "    <off>2.0</off>\n",
      "    <color>255,255,255</color>\n",
      "  </event>\n",
      "  \n",
      "  <event>\n",
      "    <channel>1</channel>\n",
      "    <power>1</power>\n",
      "    <on>2.0</on>\n",
      "    <off>3.0</off>\n",
      "    <color>255,255,255</color>\n",
      "  </event>\n",
      "  <event>\n",
      "    <channel>0</channel>\n",
      "    <power>1</power>\n",
      "    <on>3.0</on>\n",
      "    <off>4.0</off>\n",
      "    <color>255,255,255</color>\n",
      "  </event>\n",
      "  \n",
      "  <event>\n",
      "    <channel>1</channel>\n",
      "    <power>1</power>\n",
      "    <on>4.0</on>\n",
      "    <off>5.0</off>\n",
      "    <color>255,255,255</color>\n",
      "  </event>\n",
      "  <event>\n",
      "    <channel>0</channel>\n",
      "    <power>1</power>\n",
      "    <on>5.0</on>\n",
      "    <off>6.0</off>\n",
      "    <color>255,255,255</color>\n",
      "  </event>\n",
      "  \n",
      "  <event>\n",
      "    <channel>1</channel>\n",
      "    <power>1</power>\n",
      "    <on>6.0</on>\n",
      "    <off>7.0</off>\n",
      "    <color>255,255,255</color>\n",
      "  </event>\n",
      "  <event>\n",
      "    <channel>0</channel>\n",
      "    <power>1</power>\n",
      "    <on>7.0</on>\n",
      "    <off>8.0</off>\n",
      "    <color>255,255,255</color>\n",
      "  </event>\n",
      "  \n",
      "  <event>\n",
      "    <channel>1</channel>\n",
      "    <power>1</power>\n",
      "    <on>8.0</on>\n",
      "    <off>9.0</off>\n",
      "    <color>255,255,255</color>\n",
      "  </event>\n",
      "  <event>\n",
      "    <channel>0</channel>\n",
      "    <power>1</power>\n",
      "    <on>9.0</on>\n",
      "    <off>10.0</off>\n",
      "    <color>255,255,255</color>\n",
      "  </event>\n",
      "  \n",
      "  <event>\n",
      "    <channel>1</channel>\n",
      "    <power>1</power>\n",
      "    <on>10.0</on>\n",
      "    <off>11.0</off>\n",
      "    <color>255,255,255</color>\n",
      "  </event>\n",
      "  <event>\n",
      "    <channel>0</channel>\n",
      "    <power>1</power>\n",
      "    <on>11.0</on>\n",
      "    <off>12.0</off>\n",
      "    <color>255,255,255</color>\n",
      "  </event>\n",
      "  \n",
      "  <event>\n",
      "    <channel>1</channel>\n",
      "    <power>1</power>\n",
      "    <on>12.0</on>\n",
      "    <off>13.0</off>\n",
      "    <color>255,255,255</color>\n",
      "  </event>\n",
      "  <event>\n",
      "    <channel>0</channel>\n",
      "    <power>1</power>\n",
      "    <on>13.0</on>\n",
      "    <off>14.0</off>\n",
      "    <color>255,255,255</color>\n",
      "  </event>\n",
      "  \n",
      "  <event>\n",
      "    <channel>1</channel>\n",
      "    <power>1</power>\n",
      "    <on>14.0</on>\n",
      "    <off>15.0</off>\n",
      "    <color>255,255,255</color>\n",
      "  </event>\n",
      "  <event>\n",
      "    <channel>0</channel>\n",
      "    <power>1</power>\n",
      "    <on>15.0</on>\n",
      "    <off>16.0</off>\n",
      "    <color>255,255,255</color>\n",
      "  </event>\n",
      "  \n",
      "  <event>\n",
      "    <channel>1</channel>\n",
      "    <power>1</power>\n",
      "    <on>16.0</on>\n",
      "    <off>17.0</off>\n",
      "    <color>255,255,255</color>\n",
      "  </event>\n",
      "  <event>\n",
      "    <channel>0</channel>\n",
      "    <power>1</power>\n",
      "    <on>17.0</on>\n",
      "    <off>18.0</off>\n",
      "    <color>255,255,255</color>\n",
      "  </event>\n",
      "  \n",
      "  <event>\n",
      "    <channel>1</channel>\n",
      "    <power>1</power>\n",
      "    <on>18.0</on>\n",
      "    <off>19.0</off>\n",
      "    <color>255,255,255</color>\n",
      "  </event>\n",
      "  <event>\n",
      "    <channel>0</channel>\n",
      "    <power>1</power>\n",
      "    <on>19.0</on>\n",
      "    <off>20.0</off>\n",
      "    <color>255,255,255</color>\n",
      "  </event>\n",
      "  \n",
      "  <event>\n",
      "    <channel>1</channel>\n",
      "    <power>1</power>\n",
      "    <on>20.0</on>\n",
      "    <off>21.0</off>\n",
      "    <color>255,255,255</color>\n",
      "  </event>\n",
      "  <event>\n",
      "    <channel>0</channel>\n",
      "    <power>1</power>\n",
      "    <on>21.0</on>\n",
      "    <off>22.0</off>\n",
      "    <color>255,255,255</color>\n",
      "  </event>\n",
      "  \n",
      "  <event>\n",
      "    <channel>1</channel>\n",
      "    <power>1</power>\n",
      "    <on>22.0</on>\n",
      "    <off>23.0</off>\n",
      "    <color>255,255,255</color>\n",
      "  </event>\n",
      "  <event>\n",
      "    <channel>0</channel>\n",
      "    <power>1</power>\n",
      "    <on>23.0</on>\n",
      "    <off>24.0</off>\n",
      "    <color>255,255,255</color>\n",
      "  </event>\n",
      "  \n",
      "  <event>\n",
      "    <channel>1</channel>\n",
      "    <power>1</power>\n",
      "    <on>24.0</on>\n",
      "    <off>25.0</off>\n",
      "    <color>255,255,255</color>\n",
      "  </event>\n",
      "  <event>\n",
      "    <channel>0</channel>\n",
      "    <power>1</power>\n",
      "    <on>25.0</on>\n",
      "    <off>26.0</off>\n",
      "    <color>255,255,255</color>\n",
      "  </event>\n",
      "  \n",
      "</repeat>\n"
     ]
    }
   ],
   "source": [
    "print(full_shutter_str)"
   ]
  },
  {
   "cell_type": "markdown",
   "metadata": {},
   "source": [
    "## save this shutter file"
   ]
  },
  {
   "cell_type": "code",
   "execution_count": 18,
   "metadata": {
    "collapsed": false
   },
   "outputs": [
    {
     "name": "stdout",
     "output_type": "stream",
     "text": [
      "-- save the shutter to file: C:\\Users\\neoSTORM6\\Documents\\STORM6\\example_scripts\\hal\\13_steps_n1000\\shutter_750_647_s13.xml\n"
     ]
    }
   ],
   "source": [
    "parent_folder = r'C:\\Users\\neoSTORM6\\Documents\\STORM6\\example_scripts\\hal'\n",
    "save_folder = os.path.join(parent_folder, f'{num_steps}_steps_n{int(step_size*1000)}')\n",
    "if not os.path.exists(save_folder):\n",
    "    os.makedirs(save_folder)\n",
    "    print(f\"creating save folder: {save_folder}\")\n",
    "save_basename = \"shutter_\" + '_'.join([str(all_channels[_id]) for _id in ch_ids[:num_channels]]) + f'_s{num_steps}.xml'\n",
    "save_filename = os.path.join(save_folder, save_basename)\n",
    "overwrite = False\n",
    "if not os.path.isfile(save_filename) or overwrite:\n",
    "    print(f\"-- save the shutter to file: {save_filename}\")\n",
    "    # write\n",
    "    with open(save_filename, 'w') as _fp:\n",
    "        _fp.write(full_shutter_str)\n",
    "else:\n",
    "    print(f\"-- shutter file: {save_filename} already exists, skip\")"
   ]
  },
  {
   "cell_type": "code",
   "execution_count": null,
   "metadata": {
    "collapsed": true
   },
   "outputs": [],
   "source": []
  }
 ],
 "metadata": {
  "kernelspec": {
   "display_name": "Python 3",
   "language": "python",
   "name": "python3"
  },
  "language_info": {
   "codemirror_mode": {
    "name": "ipython",
    "version": 3
   },
   "file_extension": ".py",
   "mimetype": "text/x-python",
   "name": "python",
   "nbconvert_exporter": "python",
   "pygments_lexer": "ipython3",
   "version": "3.9.5"
  }
 },
 "nbformat": 4,
 "nbformat_minor": 2
}
