{
 "cells": [
  {
   "cell_type": "code",
   "execution_count": 3,
   "metadata": {
    "collapsed": true
   },
   "outputs": [],
   "source": [
    "import os\n",
    "\n",
    "old_folder = r'D:\\Pu\\20220203-P_brain_M1_nonclear\\Alignment'\n",
    "\n",
    "before_position_file = os.path.join(old_folder, '10x_positions_before.txt')\n",
    "\n",
    "new_folder = r'D:\\Pu\\20220206-P_brain_CTP11-1000_CTP12_from_0203\\Alignment'\n",
    "\n",
    "after_position_file = os.path.join(new_folder, '10x_positions_after.txt')"
   ]
  },
  {
   "cell_type": "code",
   "execution_count": 4,
   "metadata": {
    "collapsed": false
   },
   "outputs": [
    {
     "data": {
      "text/plain": [
       "(True, True)"
      ]
     },
     "execution_count": 4,
     "metadata": {},
     "output_type": "execute_result"
    }
   ],
   "source": [
    "os.path.isfile(before_position_file), os.path.isfile(after_position_file)"
   ]
  },
  {
   "cell_type": "markdown",
   "metadata": {},
   "source": [
    "# Calculate rotation matrix"
   ]
  },
  {
   "cell_type": "code",
   "execution_count": 5,
   "metadata": {
    "collapsed": true
   },
   "outputs": [],
   "source": [
    "import numpy as np\n",
    "import os\n",
    "# 1. alignment for manually picked points\n",
    "def align_manual_points(pos_file_before, pos_file_after,\n",
    "                        save=True, save_folder=None, save_filename='', verbose=True):\n",
    "    \"\"\"Function to align two manually picked position files, \n",
    "    they should follow exactly the same order and of same length.\n",
    "    Inputs:\n",
    "        pos_file_before: full filename for positions file before translation\n",
    "        pos_file_after: full filename for positions file after translation\n",
    "        save: whether save rotation and translation info, bool (default: True)\n",
    "        save_folder: where to save rotation and translation info, None or string (default: same folder as pos_file_before)\n",
    "        save_filename: filename specified to save rotation and translation points\n",
    "        verbose: say something! bool (default: True)\n",
    "    Outputs:\n",
    "        R: rotation for positions, 2x2 array\n",
    "        T: traslation of positions, array of 2\n",
    "    Here's example for how to translate points\n",
    "        translated_ps_before = np.dot(ps_before, R) + t\n",
    "    \"\"\"\n",
    "    # load position_before\n",
    "    if os.path.isfile(pos_file_before):\n",
    "        ps_before = np.loadtxt(pos_file_before, delimiter=',')\n",
    "\n",
    "    # load position_after\n",
    "    if os.path.isfile(pos_file_after):\n",
    "        ps_after = np.loadtxt(pos_file_after, delimiter=',')\n",
    "\n",
    "    # do SVD decomposition to get best fit for rigid-translation\n",
    "    c_before = np.mean(ps_before, axis=0)\n",
    "    c_after = np.mean(ps_after, axis=0)\n",
    "    H = np.dot((ps_before - c_before).T, (ps_after - c_after))\n",
    "    U, _, V = np.linalg.svd(H)  # do SVD\n",
    "    # calcluate rotation\n",
    "    R = np.dot(V, U.T).T\n",
    "    if np.linalg.det(R) < 0:\n",
    "        R[:, -1] = -1 * R[:, -1]\n",
    "    # calculate translation\n",
    "    t = - np.dot(c_before, R) + c_after\n",
    "    # here's example for how to translate points\n",
    "    # translated_ps_before = np.dot(ps_before, R) + t\n",
    "    # save\n",
    "    if save:\n",
    "        if save_folder is None:\n",
    "            save_folder = os.path.dirname(pos_file_before)\n",
    "        if not os.path.exists(save_folder):\n",
    "            os.makedirs(save_folder)\n",
    "        if len(save_filename) > 0:\n",
    "            save_filename += '_'\n",
    "        rotation_name = os.path.join(save_folder, save_filename+'rotation')\n",
    "        translation_name = os.path.join(\n",
    "            save_folder, save_filename+'translation')\n",
    "        np.save(rotation_name, R)\n",
    "        np.save(translation_name, t)\n",
    "\n",
    "    return R, t"
   ]
  },
  {
   "cell_type": "code",
   "execution_count": 7,
   "metadata": {
    "collapsed": false
   },
   "outputs": [
    {
     "data": {
      "text/plain": [
       "(array([[ 9.99999975e-01,  2.24075509e-04],\n",
       "        [-2.24075509e-04,  9.99999975e-01]]),\n",
       " array([-1128.24887507,   548.09393696]))"
      ]
     },
     "execution_count": 7,
     "metadata": {},
     "output_type": "execute_result"
    }
   ],
   "source": [
    "R, T = align_manual_points(before_position_file, after_position_file, save=False, save_folder=new_folder)\n",
    "R, T"
   ]
  },
  {
   "cell_type": "markdown",
   "metadata": {},
   "source": [
    "# Translate 60x positions"
   ]
  },
  {
   "cell_type": "code",
   "execution_count": 31,
   "metadata": {
    "collapsed": true
   },
   "outputs": [],
   "source": [
    "old_positions = np.loadtxt(os.path.join(os.path.dirname(old_folder), 'positions_all.txt'), delimiter=',')"
   ]
  },
  {
   "cell_type": "code",
   "execution_count": 32,
   "metadata": {
    "collapsed": false
   },
   "outputs": [
    {
     "name": "stdout",
     "output_type": "stream",
     "text": [
      "[[-4190.93630948  1830.50769591]\n",
      " [-4190.89149438  1630.50770093]\n",
      " [-4190.84667927  1430.50770595]\n",
      " [-4190.80186417  1230.50771097]\n",
      " [-3990.80186919  1230.55252607]\n",
      " [-3990.8466843   1430.55252105]\n",
      " [-3990.8914994   1630.55251603]\n",
      " [-3990.9363145   1830.55251101]\n",
      " [-3990.9811296   2030.55250599]\n",
      " [-3790.98113462  2030.59732109]\n",
      " [-3790.93631952  1830.59732611]\n",
      " [-3790.89150442  1630.59733113]\n",
      " [-3790.84668932  1430.59733615]\n",
      " [-3790.80187421  1230.59734117]\n",
      " [-3590.80187924  1230.64215628]\n",
      " [-3590.84669434  1430.64215126]\n",
      " [-3590.89150944  1630.64214623]\n",
      " [-3590.93632454  1830.64214121]\n",
      " [-3590.98113964  2030.64213619]\n",
      " [-3391.02595977  2230.68694627]\n",
      " [-3390.98114466  2030.68695129]\n",
      " [-3390.93632956  1830.68695631]\n",
      " [-3390.89151446  1630.68696134]\n",
      " [-3390.84669936  1430.68696636]\n",
      " [-3390.80188426  1230.68697138]\n",
      " [-3190.75707418  1030.7317915 ]\n",
      " [-3190.80188928  1230.73178648]\n",
      " [-3190.84670438  1430.73178146]\n",
      " [-3190.89151948  1630.73177644]\n",
      " [-3190.93633458  1830.73177142]\n",
      " [-3190.98114968  2030.7317664 ]\n",
      " [-2990.98115471  2030.7765815 ]\n",
      " [-2990.9363396   1830.77658652]\n",
      " [-2990.8915245   1630.77659154]\n",
      " [-2990.8467094   1430.77659656]\n",
      " [-2990.8018943   1230.77660158]\n",
      " [-2790.80189932  1230.82141668]\n",
      " [-2790.84671442  1430.82141166]\n",
      " [-2790.89152952  1630.82140664]\n",
      " [-2790.93634462  1830.82140162]\n",
      " [-2790.98115973  2030.8213966 ]\n",
      " [-2791.02597483  2230.82139158]\n",
      " [-4399.79180984  4309.56095874]\n",
      " [-4399.74699474  4109.56096376]\n",
      " [-4399.70217964  3909.56096878]\n",
      " [-4399.65736454  3709.5609738 ]\n",
      " [-4199.61255446  3509.60579393]\n",
      " [-4199.65736956  3709.60578891]\n",
      " [-4199.70218466  3909.60578389]\n",
      " [-4199.74699976  4109.60577886]\n",
      " [-3999.79181988  4309.65058895]\n",
      " [-3999.74700478  4109.65059397]\n",
      " [-3999.70218968  3909.65059899]\n",
      " [-3999.65737458  3709.65060401]\n",
      " [-3999.61255948  3509.65060903]\n",
      " [-3799.6125645   3509.69542413]\n",
      " [-3799.6573796   3709.69541911]\n",
      " [-3799.7021947   3909.69541409]\n",
      " [-3799.7470098   4109.69540907]\n",
      " [-3799.79182491  4309.69540405]\n",
      " [-3599.79182993  4309.74021915]\n",
      " [-3599.74701482  4109.74022417]\n",
      " [-3599.70219972  3909.74022919]\n",
      " [-3599.65738462  3709.74023421]\n",
      " [-3599.61256952  3509.74023923]\n",
      " [-3399.61257454  3509.78505433]\n",
      " [-3399.65738964  3709.78504931]\n",
      " [-3399.70220474  3909.78504429]\n",
      " [-3399.74701985  4109.78503927]\n",
      " [-3399.79183495  4309.78503425]\n",
      " [-3199.79183997  4309.82984935]\n",
      " [-3199.74702487  4109.82985437]\n",
      " [-3199.70220977  3909.82985939]\n",
      " [-3199.65739466  3709.82986442]\n",
      " [-3199.61257956  3509.82986944]\n",
      " [-2999.56776948  3309.87468956]\n",
      " [-2999.61258458  3509.87468454]\n",
      " [-2999.65739968  3709.87467952]\n",
      " [-2999.70221479  3909.8746745 ]\n",
      " [-2999.74702989  4109.87466948]\n",
      " [-2999.79184499  4309.87466445]\n",
      " [ 1617.14188921  2821.00916885]\n",
      " [ 1817.3659597   1821.05400906]\n",
      " [ 1817.3211446   2021.05400404]\n",
      " [ 1817.2763295   2221.05399902]\n",
      " [ 1817.23151439  2421.053994  ]\n",
      " [ 1817.18669929  2621.05398898]\n",
      " [ 1817.14188419  2821.05398395]\n",
      " [ 2017.14187917  2821.09879906]\n",
      " [ 2017.18669427  2621.09880408]\n",
      " [ 2017.23150937  2421.0988091 ]\n",
      " [ 2017.27632448  2221.09881412]\n",
      " [ 2017.32113958  2021.09881914]\n",
      " [ 2017.36595468  1821.09882416]\n",
      " [ 2217.41076476  1621.14364428]\n",
      " [ 2217.36594966  1821.14363926]\n",
      " [ 2217.32113456  2021.14363424]\n",
      " [ 2217.27631945  2221.14362922]\n",
      " [ 2217.23150435  2421.1436242 ]\n",
      " [ 2217.18668925  2621.14361918]\n",
      " [ 2217.14187415  2821.14361416]\n",
      " [ 2417.14186913  2821.18842926]\n",
      " [ 2417.18668423  2621.18843428]\n",
      " [ 2417.23149933  2421.1884393 ]\n",
      " [ 2417.27631443  2221.18844432]\n",
      " [ 2417.32112954  2021.18844934]\n",
      " [ 2417.36594464  1821.18845437]\n",
      " [ 2617.36593962  1821.23326947]\n",
      " [ 2617.32112451  2021.23326445]\n",
      " [ 2617.27630941  2221.23325943]\n",
      " [ 2617.23149431  2421.2332544 ]\n",
      " [ 2617.18667921  2621.23324938]\n",
      " [ 2617.14186411  2821.23324436]\n",
      " [ 2817.14185909  2821.27805946]\n",
      " [ 2817.18667419  2621.27806448]\n",
      " [ 2817.23148929  2421.27806951]\n",
      " [ 2817.27630439  2221.27807453]\n",
      " [ 2817.32111949  2021.27807955]\n",
      " [ 3017.32111447  2021.32289465]\n",
      " [ 3017.27629937  2221.32288963]\n",
      " [ 3017.23148427  2421.32288461]\n",
      " [ 3017.18666917  2621.32287959]\n",
      " [ 3217.14184904  2821.36768967]\n",
      " [ 3217.18666415  2621.36769469]\n",
      " [ 3217.23147925  2421.36769971]\n",
      " [ 3217.27629435  2221.36770473]\n",
      " [ 3217.32110945  2021.36770975]\n",
      " [ 3417.27628933  2221.41251983]\n",
      " [ 2348.08718103   387.5728947 ]\n",
      " [ 2348.13199614   187.57289972]\n",
      " [ 2548.31125152  -612.38226509]\n",
      " [ 2548.26643642  -412.38227011]\n",
      " [ 2548.22162132  -212.38227513]\n",
      " [ 2548.17680622   -12.38228016]\n",
      " [ 2548.13199111   187.61771482]\n",
      " [ 2548.08717601   387.6177098 ]\n",
      " [ 2748.04235589   587.66251988]\n",
      " [ 2748.08717099   387.6625249 ]\n",
      " [ 2748.13198609   187.66252992]\n",
      " [ 2748.1768012    -12.33746505]\n",
      " [ 2748.2216163   -212.33746003]\n",
      " [ 2748.2664314   -412.33745501]\n",
      " [ 2948.26642638  -412.29263991]\n",
      " [ 2948.22161128  -212.29264493]\n",
      " [ 2948.17679617   -12.29264995]\n",
      " [ 2948.13198107   187.70734503]\n",
      " [ 2948.08716597   387.70734001]\n",
      " [ 2948.04235087   587.70733498]\n",
      " [ 3148.04234585   587.75215009]\n",
      " [ 3148.08716095   387.75215511]\n",
      " [ 3148.13197605   187.75216013]\n",
      " [ 3148.17679115   -12.24783485]\n",
      " [ 3148.22160626  -212.24782983]\n",
      " [ 3148.26642136  -412.24782481]\n",
      " [ 3348.26641634  -412.20300971]\n",
      " [ 3348.22160123  -212.20301473]\n",
      " [ 3348.17678613   -12.20301975]\n",
      " [ 3348.13197103   187.79697523]\n",
      " [ 3348.08715593   387.79697021]\n",
      " [ 3348.04234083   587.79696519]\n",
      " [ 3548.08715091   387.84178531]\n",
      " [ 3548.13196601   187.84179033]\n",
      " [ 3548.17678111   -12.15820465]\n",
      " [ 3548.22159621  -212.15819963]\n",
      " [ 3748.22159119  -212.11338452]\n",
      " [ 3748.17677609   -12.11338955]\n",
      " [ 3748.13196099   187.88660543]\n",
      " [ 3748.08714589   387.88660041]\n",
      " [ 3948.17677107   -12.06857444]]\n"
     ]
    }
   ],
   "source": [
    "new_positions = np.dot(old_positions, R) + T\n",
    "print(new_positions)"
   ]
  },
  {
   "cell_type": "code",
   "execution_count": 33,
   "metadata": {
    "collapsed": false
   },
   "outputs": [
    {
     "name": "stdout",
     "output_type": "stream",
     "text": [
      "D:\\Pu\\20220206-P_brain_CTP11-1000_CTP12_from_0203\\Alignment\\translated_positions_all.txt\n"
     ]
    }
   ],
   "source": [
    "save_filename = os.path.join(new_folder, 'translated_positions_all.txt')\n",
    "print(save_filename)\n",
    "np.savetxt(save_filename, new_positions, fmt='%.2f', delimiter=',')"
   ]
  },
  {
   "cell_type": "markdown",
   "metadata": {},
   "source": [
    "# Manual adjust positions"
   ]
  },
  {
   "cell_type": "code",
   "execution_count": 20,
   "metadata": {
    "collapsed": true
   },
   "outputs": [],
   "source": [
    "manual_positions_before_file = os.path.join(os.path.dirname(old_folder), '60x_positions_before.txt')"
   ]
  },
  {
   "cell_type": "code",
   "execution_count": 21,
   "metadata": {
    "collapsed": false
   },
   "outputs": [
    {
     "name": "stdout",
     "output_type": "stream",
     "text": [
      "[[-3972.85  -184.53]\n",
      " [-3872.85  4210.38]\n",
      " [ 4307.13  2872.71]\n",
      " [ 5636.25 -1272.36]]\n",
      "[[-5101.05742668   362.67372321]\n",
      " [-5002.04222089  4757.60602042]\n",
      " [ 3178.23731284  3421.76898719]\n",
      " [ 4508.28608814  -723.00308551]]\n"
     ]
    }
   ],
   "source": [
    "manual_positions = np.loadtxt(manual_positions_before_file, delimiter=',')\n",
    "print(manual_positions)\n",
    "translated_manual_positions = np.dot(manual_positions, R) + T\n",
    "print(translated_manual_positions)"
   ]
  },
  {
   "cell_type": "code",
   "execution_count": 29,
   "metadata": {
    "collapsed": false
   },
   "outputs": [
    {
     "data": {
      "text/plain": [
       "array([[ -7.49257332,   0.37627679],\n",
       "       [ -3.95777911,   2.39397958],\n",
       "       [ -5.23731284,  -8.76898719],\n",
       "       [ -8.28608814, -10.99691449]])"
      ]
     },
     "execution_count": 29,
     "metadata": {},
     "output_type": "execute_result"
    }
   ],
   "source": [
    "manual_real_positions = [\n",
    "    [-5108.55, 363.05],\n",
    "    [-5006, 4760],\n",
    "    [3173, 3413],\n",
    "    [4500, -734],\n",
    "]\n",
    "manual_shifts = np.array(manual_real_positions) - translated_manual_positions[:len(manual_real_positions)]\n",
    "manual_shifts"
   ]
  },
  {
   "cell_type": "code",
   "execution_count": 30,
   "metadata": {
    "collapsed": false
   },
   "outputs": [
    {
     "data": {
      "text/plain": [
       "array([-6.24343835, -4.24891133])"
      ]
     },
     "execution_count": 30,
     "metadata": {},
     "output_type": "execute_result"
    }
   ],
   "source": [
    "manual_shift = np.mean(manual_shifts, axis=0)\n",
    "manual_shift"
   ]
  },
  {
   "cell_type": "code",
   "execution_count": 34,
   "metadata": {
    "collapsed": true
   },
   "outputs": [],
   "source": [
    "adjusted_new_positions = new_positions + manual_shift"
   ]
  },
  {
   "cell_type": "code",
   "execution_count": 35,
   "metadata": {
    "collapsed": false
   },
   "outputs": [
    {
     "name": "stdout",
     "output_type": "stream",
     "text": [
      "D:\\Pu\\20220206-P_brain_CTP11-1000_CTP12_from_0203\\Alignment\\adjusted_translated_positions_all.txt\n"
     ]
    }
   ],
   "source": [
    "adj_save_filename = os.path.join(new_folder, 'adjusted_translated_positions_all.txt')\n",
    "print(adj_save_filename)\n",
    "np.savetxt(adj_save_filename, adjusted_new_positions, fmt='%.2f', delimiter=',')"
   ]
  },
  {
   "cell_type": "code",
   "execution_count": null,
   "metadata": {
    "collapsed": true
   },
   "outputs": [],
   "source": []
  }
 ],
 "metadata": {
  "kernelspec": {
   "display_name": "Python 3",
   "language": "python",
   "name": "python3"
  },
  "language_info": {
   "codemirror_mode": {
    "name": "ipython",
    "version": 3
   },
   "file_extension": ".py",
   "mimetype": "text/x-python",
   "name": "python",
   "nbconvert_exporter": "python",
   "pygments_lexer": "ipython3",
   "version": "3.9.5"
  }
 },
 "nbformat": 4,
 "nbformat_minor": 0
}
