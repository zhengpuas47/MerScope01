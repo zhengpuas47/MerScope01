{
 "cells": [
  {
   "cell_type": "code",
   "execution_count": 67,
   "id": "9a8d878c-3c4d-4a8b-8a96-cd9a7fa16fda",
   "metadata": {},
   "outputs": [],
   "source": [
    "import serial\n",
    "import time"
   ]
  },
  {
   "cell_type": "code",
   "execution_count": 45,
   "id": "e852a595-a9fd-45bc-9822-875235a46ae6",
   "metadata": {},
   "outputs": [],
   "source": [
    "# Create serial port\n",
    "valves = serial.Serial(\n",
    "    port=\"COM6\", baudrate=9600, timeout=0.25)"
   ]
  },
  {
   "cell_type": "code",
   "execution_count": 46,
   "id": "cb31ff6a",
   "metadata": {},
   "outputs": [
    {
     "data": {
      "text/plain": [
       "[b'/0@\\x03\\r\\n', b'/0o\\x03\\r\\n', b'/0o\\x03\\r\\n']"
      ]
     },
     "execution_count": 46,
     "metadata": {},
     "output_type": "execute_result"
    }
   ],
   "source": [
    "# Initialize the 1st valve to the right most position\n",
    "valves.write('/1ZR\\r'.encode())\n",
    "# init\n",
    "valves.write(\"/1h30001R\\r\".encode()) # enable h-factor commands\n",
    "valves.write(\"/1h20000R\\r\".encode()) # init valve\n",
    "#valves.write(\"/1h20001R\\r\".encode()) # enable valve movement\n",
    "valves.readlines()#.decode()\n"
   ]
  },
  {
   "cell_type": "code",
   "execution_count": 6,
   "id": "3ca40fff",
   "metadata": {},
   "outputs": [
    {
     "data": {
      "text/plain": [
       "'/0@\\x03\\r\\n'"
      ]
     },
     "execution_count": 6,
     "metadata": {},
     "output_type": "execute_result"
    }
   ],
   "source": [
    "# Initialize the 2nd valve\n",
    "valves.write('/2ZR\\r'.encode())\n",
    "valves.readline().decode()"
   ]
  },
  {
   "cell_type": "code",
   "execution_count": 7,
   "id": "542cb9ba",
   "metadata": {},
   "outputs": [
    {
     "data": {
      "text/plain": [
       "'/0@\\x03\\r\\n'"
      ]
     },
     "execution_count": 7,
     "metadata": {},
     "output_type": "execute_result"
    }
   ],
   "source": [
    "# Initialize the 2nd valve\n",
    "valves.write('/3ZR\\r'.encode())\n",
    "valves.readline().decode()"
   ]
  },
  {
   "cell_type": "code",
   "execution_count": 8,
   "id": "ec1431a6",
   "metadata": {},
   "outputs": [
    {
     "data": {
      "text/plain": [
       "'/0@\\x03\\r\\n'"
      ]
     },
     "execution_count": 8,
     "metadata": {},
     "output_type": "execute_result"
    }
   ],
   "source": [
    "# Initialize the 2nd valve\n",
    "valves.write('/4ZR\\r'.encode())\n",
    "valves.readline().decode()"
   ]
  },
  {
   "cell_type": "code",
   "execution_count": 47,
   "id": "fbc40690",
   "metadata": {},
   "outputs": [
    {
     "data": {
      "text/plain": [
       "'0'"
      ]
     },
     "execution_count": 47,
     "metadata": {},
     "output_type": "execute_result"
    }
   ],
   "source": [
    "# Query valve status, zero means fine\n",
    "#0 - Valve initialized\n",
    "#1 - Valve not initialized\n",
    "#0 - No valve initialization error\n",
    "#2 - Valve initialization error\n",
    "#0 - No valve stall\n",
    "#4 - Valve stall\n",
    "#0 - Valve enabled\n",
    "#16 - Valve not enabled\n",
    "#0 - Valve is not busy\n",
    "#32 - Valve is busy\n",
    "string = '/1?20000R\\r'\n",
    "\n",
    "valves.write(string.encode())\n",
    "valves.readline().rstrip().decode().split('`')[1].split('\\x03')[0]"
   ]
  },
  {
   "cell_type": "code",
   "execution_count": 48,
   "id": "6d56751f",
   "metadata": {},
   "outputs": [
    {
     "data": {
      "text/plain": [
       "'3'"
      ]
     },
     "execution_count": 48,
     "metadata": {},
     "output_type": "execute_result"
    }
   ],
   "source": [
    "# Query valve type, output=3 means 8-way 45-degree valves\n",
    "string = '/1?21000R\\r'\n",
    "\n",
    "valves.write(string.encode())\n",
    "valves.readline().rstrip().decode().split('`')[1].split('\\x03')[0]"
   ]
  },
  {
   "cell_type": "markdown",
   "id": "74c8271c",
   "metadata": {},
   "source": [
    "## Move valves"
   ]
  },
  {
   "cell_type": "code",
   "execution_count": 51,
   "id": "5180a4a2",
   "metadata": {},
   "outputs": [
    {
     "data": {
      "text/plain": [
       "'/0@\\x03\\r\\n'"
      ]
     },
     "execution_count": 51,
     "metadata": {},
     "output_type": "execute_result"
    }
   ],
   "source": [
    "# move valve in shortest direction\n",
    "target_pos = 1\n",
    "valve_status_string = f'/1h2600{target_pos}R\\r'\n",
    "valveOutput = valves.write(valve_status_string.encode())\n",
    "time.sleep(0.1)\n",
    "valves.readline().decode()#.split('`')[1].split('\\x03')[0]"
   ]
  },
  {
   "cell_type": "code",
   "execution_count": 52,
   "id": "fa906f57",
   "metadata": {},
   "outputs": [
    {
     "data": {
      "text/plain": [
       "'1'"
      ]
     },
     "execution_count": 52,
     "metadata": {},
     "output_type": "execute_result"
    }
   ],
   "source": [
    "# Query valve position, \n",
    "# this should report as the target_pos set above:\n",
    "string = '/1?24000R\\r'\n",
    "\n",
    "valves.write(string.encode())\n",
    "time.sleep(0.1)\n",
    "valves.readline().rstrip().decode().split('`')[1].split('\\x03')[0]"
   ]
  },
  {
   "cell_type": "markdown",
   "id": "21423669",
   "metadata": {},
   "source": [
    "### valve2"
   ]
  },
  {
   "cell_type": "code",
   "execution_count": 25,
   "id": "93b72693",
   "metadata": {},
   "outputs": [
    {
     "name": "stdout",
     "output_type": "stream",
     "text": [
      "10\n"
     ]
    },
    {
     "data": {
      "text/plain": [
       "'/0`2\\x03\\r\\n'"
      ]
     },
     "execution_count": 25,
     "metadata": {},
     "output_type": "execute_result"
    }
   ],
   "source": [
    "# move valve in shortest direction\n",
    "target_pos = 3\n",
    "valve_status_string = f'/2h2400{target_pos}R\\r'\n",
    "valveOutput = valves.write(valve_status_string.encode())\n",
    "print(valveOutput)\n",
    "valves.readline().decode().split('`')[1].split('\\x03')[0]"
   ]
  },
  {
   "cell_type": "code",
   "execution_count": 28,
   "id": "79f40dec",
   "metadata": {},
   "outputs": [
    {
     "data": {
      "text/plain": [
       "'3'"
      ]
     },
     "execution_count": 28,
     "metadata": {},
     "output_type": "execute_result"
    }
   ],
   "source": [
    "# Query valve position, \n",
    "# this should report as the target_pos set above:\n",
    "string = '/2?24000R\\r'\n",
    "\n",
    "valves.write(string.encode())\n",
    "valves.readline().rstrip().decode().split('`')[1].split('\\x03')[0]"
   ]
  },
  {
   "cell_type": "markdown",
   "id": "e19d7af1",
   "metadata": {},
   "source": [
    "# Terminate interaction"
   ]
  },
  {
   "cell_type": "code",
   "execution_count": 55,
   "id": "13eedd54-2a02-46a2-b65f-e3f9041c9543",
   "metadata": {},
   "outputs": [],
   "source": [
    "valves.close()"
   ]
  },
  {
   "cell_type": "markdown",
   "id": "3b67bf39",
   "metadata": {},
   "source": [
    "# Syringe "
   ]
  },
  {
   "cell_type": "code",
   "execution_count": 69,
   "id": "8a51083f",
   "metadata": {},
   "outputs": [],
   "source": [
    "# Create serial port\n",
    "syringe = serial.Serial(\n",
    "    port=\"COM5\", baudrate=9600, timeout=0.25)"
   ]
  },
  {
   "cell_type": "code",
   "execution_count": 70,
   "id": "3b1c78ab",
   "metadata": {},
   "outputs": [
    {
     "data": {
      "text/plain": [
       "[b'/0@\\x03\\r\\n']"
      ]
     },
     "execution_count": 70,
     "metadata": {},
     "output_type": "execute_result"
    }
   ],
   "source": [
    "# initialize \n",
    "# Initialize the 1st valve to the right most position\n",
    "syringe.write('/1ZR\\r'.encode())\n",
    "# init\n",
    "#syringe.write(\"/1h30001R\\r\".encode()) # enable h-factor commands\n",
    "#syringe.write(\"/1h20000R\\r\".encode()) # init valve\n",
    "#syringe.write(\"/1h20001R\\r\".encode()) # enable valve movement\n",
    "syringe.readlines()#.decode()"
   ]
  },
  {
   "cell_type": "code",
   "execution_count": 72,
   "id": "6c540771",
   "metadata": {},
   "outputs": [
    {
     "data": {
      "text/plain": [
       "'0'"
      ]
     },
     "execution_count": 72,
     "metadata": {},
     "output_type": "execute_result"
    }
   ],
   "source": [
    "# Syringe status, zero means fine\n",
    "\n",
    "string = '/1?10000R\\r'\n",
    "syringe.write(string.encode())\n",
    "syringe.readline().rstrip().decode().split('`')[1].split('\\x03')[0]"
   ]
  },
  {
   "cell_type": "code",
   "execution_count": 73,
   "id": "250f09da",
   "metadata": {},
   "outputs": [
    {
     "data": {
      "text/plain": [
       "'1'"
      ]
     },
     "execution_count": 73,
     "metadata": {},
     "output_type": "execute_result"
    }
   ],
   "source": [
    "# Syringe Mode\n",
    "#Syringe Mode queries the syringe. Response to query is decoded to determine\n",
    "#the syringe mode.\n",
    "#PSD/4 Response: xx where xx is decoded as the sum of:\n",
    "#0 - standard mode set\n",
    "#1 - high-resolution mode set\n",
    "#0 - syringe overload not ignored\n",
    "#2 - syringe overload ignored\n",
    "#0 - enable initialization sensor\n",
    "#4 - disable initialization sensor\n",
    "#0 - enable initialize\n",
    "#8 - disable initialize\n",
    "\n",
    "string = '/1?11000R\\r'\n",
    "syringe.write(string.encode())\n",
    "syringe.readline().rstrip().decode().split('`')[1].split('\\x03')[0]"
   ]
  },
  {
   "cell_type": "code",
   "execution_count": 74,
   "id": "6a2363b7",
   "metadata": {},
   "outputs": [
    {
     "data": {
      "text/plain": [
       "'0'"
      ]
     },
     "execution_count": 74,
     "metadata": {},
     "output_type": "execute_result"
    }
   ],
   "source": [
    "# check syringe valve status: zero means fine\n",
    "string = '/1?20000R\\r'\n",
    "syringe.write(string.encode())\n",
    "syringe.readline().rstrip().decode().split('`')[1].split('\\x03')[0]"
   ]
  },
  {
   "cell_type": "code",
   "execution_count": 75,
   "id": "f182c87f",
   "metadata": {},
   "outputs": [
    {
     "data": {
      "text/plain": [
       "'3'"
      ]
     },
     "execution_count": 75,
     "metadata": {},
     "output_type": "execute_result"
    }
   ],
   "source": [
    "# check syringe valve type: output=3 means 8-way 45-degree valves\n",
    "valve_status_string = '/1?21000R\\r'\n",
    "valveOutput = syringe.write(valve_status_string.encode())\n",
    "syringe.readline().decode().split('`')[1].split('\\x03')[0]"
   ]
  },
  {
   "cell_type": "code",
   "execution_count": 77,
   "id": "7e22f185",
   "metadata": {},
   "outputs": [
    {
     "data": {
      "text/plain": [
       "'/0@\\x03\\r\\n'"
      ]
     },
     "execution_count": 77,
     "metadata": {},
     "output_type": "execute_result"
    }
   ],
   "source": [
    "# move valve in shortest direction\n",
    "target_pos = 2\n",
    "valve_status_string = f'/1h2600{target_pos}R\\r'\n",
    "valveOutput = syringe.write(valve_status_string.encode())\n",
    "syringe.readline().decode()#.split('`')[1].split('\\x03')[0]"
   ]
  },
  {
   "cell_type": "code",
   "execution_count": 62,
   "id": "148e2066",
   "metadata": {},
   "outputs": [
    {
     "data": {
      "text/plain": [
       "'1'"
      ]
     },
     "execution_count": 62,
     "metadata": {},
     "output_type": "execute_result"
    }
   ],
   "source": [
    "# check syringe valve position: this should report as the target_pos set above:\n",
    "valve_status_string = '/1?24000R\\r'\n",
    "valveOutput = syringe.write(valve_status_string.encode())\n",
    "syringe.readline().decode().split('`')[1].split('\\x03')[0]"
   ]
  },
  {
   "cell_type": "code",
   "execution_count": 65,
   "id": "0e228250",
   "metadata": {},
   "outputs": [
    {
     "data": {
      "text/plain": [
       "18"
      ]
     },
     "execution_count": 65,
     "metadata": {},
     "output_type": "execute_result"
    }
   ],
   "source": [
    "# flow:\n",
    "syringe.write(f'/1h2600{1}V{40}A{9600}R\\r'.encode()) # 9600 means 1ml, V40 means 1ml/min"
   ]
  },
  {
   "cell_type": "code",
   "execution_count": null,
   "id": "ffac5af6",
   "metadata": {},
   "outputs": [],
   "source": [
    "# flow:\n",
    "syringe.write(f'/1h2600{1}V{40}A{9600}R\\r'.encode())"
   ]
  },
  {
   "cell_type": "code",
   "execution_count": 66,
   "id": "0ea77e97",
   "metadata": {},
   "outputs": [],
   "source": [
    "syringe.close()"
   ]
  },
  {
   "cell_type": "code",
   "execution_count": null,
   "id": "0328b800",
   "metadata": {},
   "outputs": [],
   "source": []
  }
 ],
 "metadata": {
  "kernelspec": {
   "display_name": "Python 3 (ipykernel)",
   "language": "python",
   "name": "python3"
  },
  "language_info": {
   "codemirror_mode": {
    "name": "ipython",
    "version": 3
   },
   "file_extension": ".py",
   "mimetype": "text/x-python",
   "name": "python",
   "nbconvert_exporter": "python",
   "pygments_lexer": "ipython3",
   "version": "3.10.12"
  }
 },
 "nbformat": 4,
 "nbformat_minor": 5
}
