{
 "cells": [
  {
   "cell_type": "code",
   "execution_count": 1,
   "id": "9a8d878c-3c4d-4a8b-8a96-cd9a7fa16fda",
   "metadata": {},
   "outputs": [],
   "source": [
    "import serial"
   ]
  },
  {
   "cell_type": "code",
   "execution_count": 2,
   "id": "e852a595-a9fd-45bc-9822-875235a46ae6",
   "metadata": {},
   "outputs": [],
   "source": [
    "# Create serial port\n",
    "valves = serial.Serial(\n",
    "    port=\"COM5\", baudrate=9600, timeout=0.25)"
   ]
  },
  {
   "cell_type": "code",
   "execution_count": 10,
   "id": "cb31ff6a",
   "metadata": {},
   "outputs": [
    {
     "data": {
      "text/plain": [
       "'/0`0\\x03\\r\\n'"
      ]
     },
     "execution_count": 10,
     "metadata": {},
     "output_type": "execute_result"
    }
   ],
   "source": [
    "# Initialize the 1st valve to the right most position\n",
    "valves.write('/1ZR\\r'.encode())\n",
    "# init\n",
    "valves.write(\"/1h30001R\\r\".encode()) # enable h-factor commands\n",
    "valves.write(\"/1h20000R\\r\".encode()) # init valve\n",
    "valves.write(\"/1h20001R\\r\".encode()) # enable valve movement\n",
    "valves.readline().decode()\n"
   ]
  },
  {
   "cell_type": "code",
   "execution_count": 4,
   "id": "3ca40fff",
   "metadata": {},
   "outputs": [
    {
     "data": {
      "text/plain": [
       "'/0o\\x03\\r\\n'"
      ]
     },
     "execution_count": 4,
     "metadata": {},
     "output_type": "execute_result"
    }
   ],
   "source": [
    "# Initialize the 2nd valve\n",
    "valves.write('/2ZR\\r'.encode())\n",
    "valves.readline().decode()"
   ]
  },
  {
   "cell_type": "code",
   "execution_count": 5,
   "id": "542cb9ba",
   "metadata": {},
   "outputs": [
    {
     "data": {
      "text/plain": [
       "'/0o\\x03\\r\\n'"
      ]
     },
     "execution_count": 5,
     "metadata": {},
     "output_type": "execute_result"
    }
   ],
   "source": [
    "# Initialize the 2nd valve\n",
    "valves.write('/3ZR\\r'.encode())\n",
    "valves.readline().decode()"
   ]
  },
  {
   "cell_type": "code",
   "execution_count": 6,
   "id": "ec1431a6",
   "metadata": {},
   "outputs": [
    {
     "data": {
      "text/plain": [
       "'/0@\\x03\\r\\n'"
      ]
     },
     "execution_count": 6,
     "metadata": {},
     "output_type": "execute_result"
    }
   ],
   "source": [
    "# Initialize the 2nd valve\n",
    "valves.write('/4ZR\\r'.encode())\n",
    "valves.readline().decode()"
   ]
  },
  {
   "cell_type": "code",
   "execution_count": 44,
   "id": "fbc40690",
   "metadata": {},
   "outputs": [
    {
     "data": {
      "text/plain": [
       "'3'"
      ]
     },
     "execution_count": 44,
     "metadata": {},
     "output_type": "execute_result"
    }
   ],
   "source": [
    "# Query valve status, zero means fine\n",
    "#0 - Valve initialized\n",
    "#1 - Valve not initialized\n",
    "#0 - No valve initialization error\n",
    "#2 - Valve initialization error\n",
    "#0 - No valve stall\n",
    "#4 - Valve stall\n",
    "#0 - Valve enabled\n",
    "#16 - Valve not enabled\n",
    "#0 - Valve is not busy\n",
    "#32 - Valve is busy\n",
    "string = '/1?20000R\\r'\n",
    "\n",
    "valves.write(string.encode())\n",
    "valves.readline().rstrip().decode().split('`')[1].split('\\x03')[0]"
   ]
  },
  {
   "cell_type": "code",
   "execution_count": 45,
   "id": "6d56751f",
   "metadata": {},
   "outputs": [
    {
     "data": {
      "text/plain": [
       "'3'"
      ]
     },
     "execution_count": 45,
     "metadata": {},
     "output_type": "execute_result"
    }
   ],
   "source": [
    "# Query valve type, output=3 means 8-way 45-degree valves\n",
    "string = '/1?21000R\\r'\n",
    "\n",
    "valves.write(string.encode())\n",
    "valves.readline().rstrip().decode().split('`')[1].split('\\x03')[0]"
   ]
  },
  {
   "cell_type": "markdown",
   "id": "74c8271c",
   "metadata": {},
   "source": [
    "## Move valves"
   ]
  },
  {
   "cell_type": "code",
   "execution_count": 46,
   "id": "5180a4a2",
   "metadata": {},
   "outputs": [
    {
     "name": "stdout",
     "output_type": "stream",
     "text": [
      "10\n"
     ]
    },
    {
     "data": {
      "text/plain": [
       "'/0`3\\x03\\r\\n'"
      ]
     },
     "execution_count": 46,
     "metadata": {},
     "output_type": "execute_result"
    }
   ],
   "source": [
    "# move valve in shortest direction\n",
    "target_pos = 1\n",
    "valve_status_string = f'/1h2600{target_pos}R\\r'\n",
    "valveOutput = valves.write(valve_status_string.encode())\n",
    "print(valveOutput)\n",
    "valves.readline().decode()#.split('`')[1].split('\\x03')[0]"
   ]
  },
  {
   "cell_type": "code",
   "execution_count": 52,
   "id": "fa906f57",
   "metadata": {},
   "outputs": [
    {
     "data": {
      "text/plain": [
       "'1'"
      ]
     },
     "execution_count": 52,
     "metadata": {},
     "output_type": "execute_result"
    }
   ],
   "source": [
    "# Query valve position, \n",
    "# this should report as the target_pos set above:\n",
    "string = '/1?24000R\\r'\n",
    "\n",
    "valves.write(string.encode())\n",
    "valves.readline().rstrip().decode().split('`')[1].split('\\x03')[0]"
   ]
  },
  {
   "cell_type": "markdown",
   "id": "21423669",
   "metadata": {},
   "source": [
    "### valve2"
   ]
  },
  {
   "cell_type": "code",
   "execution_count": 112,
   "id": "93b72693",
   "metadata": {},
   "outputs": [
    {
     "name": "stdout",
     "output_type": "stream",
     "text": [
      "10\n"
     ]
    },
    {
     "data": {
      "text/plain": [
       "'/0@\\x03\\r\\n'"
      ]
     },
     "execution_count": 112,
     "metadata": {},
     "output_type": "execute_result"
    }
   ],
   "source": [
    "# move valve in shortest direction\n",
    "target_pos = 3\n",
    "valve_status_string = f'/2h2600{target_pos}R\\r'\n",
    "valveOutput = valves.write(valve_status_string.encode())\n",
    "print(valveOutput)\n",
    "valves.readline().decode()#.split('`')[1].split('\\x03')[0]"
   ]
  },
  {
   "cell_type": "code",
   "execution_count": 113,
   "id": "79f40dec",
   "metadata": {},
   "outputs": [
    {
     "data": {
      "text/plain": [
       "'3'"
      ]
     },
     "execution_count": 113,
     "metadata": {},
     "output_type": "execute_result"
    }
   ],
   "source": [
    "# Query valve position, \n",
    "# this should report as the target_pos set above:\n",
    "string = '/2?24000R\\r'\n",
    "\n",
    "valves.write(string.encode())\n",
    "valves.readline().rstrip().decode().split('`')[1].split('\\x03')[0]"
   ]
  },
  {
   "cell_type": "code",
   "execution_count": null,
   "id": "5ac54193",
   "metadata": {},
   "outputs": [],
   "source": []
  },
  {
   "cell_type": "code",
   "execution_count": null,
   "id": "31dc02b7",
   "metadata": {},
   "outputs": [],
   "source": []
  },
  {
   "cell_type": "markdown",
   "id": "e19d7af1",
   "metadata": {},
   "source": [
    "# Terminate interaction"
   ]
  },
  {
   "cell_type": "code",
   "execution_count": 4,
   "id": "13eedd54-2a02-46a2-b65f-e3f9041c9543",
   "metadata": {},
   "outputs": [],
   "source": [
    "# input at 4\n",
    "# output at 5\n",
    "# bypass at 7\n",
    "valves.close()"
   ]
  },
  {
   "cell_type": "code",
   "execution_count": null,
   "id": "3b1c78ab",
   "metadata": {},
   "outputs": [],
   "source": []
  }
 ],
 "metadata": {
  "kernelspec": {
   "display_name": "Python 3 (ipykernel)",
   "language": "python",
   "name": "python3"
  },
  "language_info": {
   "codemirror_mode": {
    "name": "ipython",
    "version": 3
   },
   "file_extension": ".py",
   "mimetype": "text/x-python",
   "name": "python",
   "nbconvert_exporter": "python",
   "pygments_lexer": "ipython3",
   "version": "3.10.10"
  }
 },
 "nbformat": 4,
 "nbformat_minor": 5
}
