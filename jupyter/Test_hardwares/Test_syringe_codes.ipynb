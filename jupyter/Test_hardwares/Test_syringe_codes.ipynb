{
 "cells": [
  {
   "cell_type": "code",
   "execution_count": 1,
   "id": "9a8d878c-3c4d-4a8b-8a96-cd9a7fa16fda",
   "metadata": {},
   "outputs": [],
   "source": [
    "import serial"
   ]
  },
  {
   "cell_type": "code",
   "execution_count": 2,
   "id": "e852a595-a9fd-45bc-9822-875235a46ae6",
   "metadata": {},
   "outputs": [],
   "source": [
    "# Create serial port\n",
    "syringe = serial.Serial(\n",
    "    port=\"COM7\", baudrate=9600, timeout=0.25)"
   ]
  },
  {
   "cell_type": "code",
   "execution_count": 3,
   "id": "dce980f6-0a4e-488a-8652-aab0a4211a6f",
   "metadata": {},
   "outputs": [
    {
     "data": {
      "text/plain": [
       "[b'/0@\\x03\\r\\n',\n",
       " b'/0@\\x03\\r\\n',\n",
       " b'/0o\\x03\\r\\n',\n",
       " b'/0o\\x03\\r\\n',\n",
       " b'/0o\\x03\\r\\n']"
      ]
     },
     "execution_count": 3,
     "metadata": {},
     "output_type": "execute_result"
    }
   ],
   "source": [
    "#Initialize Commands: \n",
    "syringe.write(\"/1h30001R\\r\".encode())\n",
    "syringe.write(\"/1h20000R\\r\".encode())\n",
    "syringe.write(\"/1h20001R\\r\".encode())\n",
    "syringe.write(\"/1h10010R\\r\".encode())\n",
    "#Set ValveHead Type\n",
    "syringe.write(\"/1h21003R\\r\".encode())\n",
    "syringe.readlines()"
   ]
  },
  {
   "cell_type": "code",
   "execution_count": 47,
   "id": "9030140d",
   "metadata": {},
   "outputs": [
    {
     "data": {
      "text/plain": [
       "10"
      ]
     },
     "execution_count": 47,
     "metadata": {},
     "output_type": "execute_result"
    }
   ],
   "source": [
    "syringe.write(\"/1h21003R\\r\".encode())"
   ]
  },
  {
   "cell_type": "markdown",
   "id": "d03e0d3b-813e-4bcc-8e9c-2160d15efadd",
   "metadata": {},
   "source": [
    "# Get Pump"
   ]
  },
  {
   "cell_type": "code",
   "execution_count": 198,
   "id": "e94ab29f-21a0-4d3a-a179-8931a3c52a0a",
   "metadata": {},
   "outputs": [
    {
     "name": "stdout",
     "output_type": "stream",
     "text": [
      "5\n"
     ]
    },
    {
     "data": {
      "text/plain": [
       "'0'"
      ]
     },
     "execution_count": 198,
     "metadata": {},
     "output_type": "execute_result"
    }
   ],
   "source": [
    "pump_string = '/1?R\\r'\n",
    "\n",
    "pumpOutput = syringe.write(pump_string.encode())\n",
    "print(pumpOutput)\n",
    "syringe.readline().decode().split('`')[1].split('\\x03')[0]"
   ]
  },
  {
   "cell_type": "markdown",
   "id": "54a68dae-3a18-488c-9840-b39e43341ade",
   "metadata": {},
   "source": [
    "?10000 - Syringe Status\n",
    "Syringe Status queries the syringe. Response to query is decoded to determine\n",
    "the syringe status.\n",
    "PSD/4 Response: xx where xx is decoded as the sum of:\n",
    "0 - Syringe initialized\n",
    "1 - Syringe not initialized\n",
    "0 - No syringe stall or overload\n",
    "6 - Syringe stall\n",
    "0 - No initialization error\n",
    "8 - Syringe initialization error"
   ]
  },
  {
   "cell_type": "code",
   "execution_count": 199,
   "id": "7597fe4b-9dd3-4f15-93b6-9af67120c885",
   "metadata": {},
   "outputs": [
    {
     "data": {
      "text/plain": [
       "'0'"
      ]
     },
     "execution_count": 199,
     "metadata": {},
     "output_type": "execute_result"
    }
   ],
   "source": [
    "# Syringe status, zero means fine\n",
    "\n",
    "string = '/1?10000R\\r'\n",
    "\n",
    "syringe.write(string.encode())\n",
    "syringe.readline().rstrip().decode().split('`')[1].split('\\x03')[0]"
   ]
  },
  {
   "cell_type": "markdown",
   "id": "d2babd34-3e0b-42b8-92eb-1a8e9f2b795e",
   "metadata": {},
   "source": [
    "?11000 - Syringe Mode\n",
    "Syringe Mode queries the syringe. Response to query is decoded to determine\n",
    "the syringe mode.\n",
    "PSD/4 Response: xx where xx is decoded as the sum of:\n",
    "0 - standard mode set\n",
    "1 - high-resolution mode set\n",
    "0 - syringe overload not ignored\n",
    "2 - syringe overload ignored\n",
    "0 - enable initialization sensor\n",
    "4 - disable initialization sensor\n",
    "0 - enable initialize\n",
    "8 - disable initialize"
   ]
  },
  {
   "cell_type": "code",
   "execution_count": 200,
   "id": "0bcd749e-0ee7-49bc-a7cc-28c0c13b6783",
   "metadata": {},
   "outputs": [
    {
     "data": {
      "text/plain": [
       "'0'"
      ]
     },
     "execution_count": 200,
     "metadata": {},
     "output_type": "execute_result"
    }
   ],
   "source": [
    "# Syringe status, zero means fine\n",
    "\n",
    "string = '/1?11000R\\r'\n",
    "\n",
    "syringe.write(string.encode())\n",
    "syringe.readline().rstrip().decode().split('`')[1].split('\\x03')[0]"
   ]
  },
  {
   "cell_type": "markdown",
   "id": "b2ba2051-22ed-491d-811c-ba18fa922bfd",
   "metadata": {},
   "source": [
    "# Get Valve"
   ]
  },
  {
   "cell_type": "markdown",
   "id": "be2fb658-7dcd-41bf-b2a0-5571cd498560",
   "metadata": {},
   "source": [
    "?20000 - Valve Status\n",
    "Valve Status queries the valve. Response to query is decoded to determine the\n",
    "valve status.\n",
    "PSD/4 Response: xx where xx is decoded as the sum of:\n",
    "0 - Valve initialized\n",
    "1 - Valve not initialized\n",
    "0 - No valve initialization error\n",
    "2 - Valve initialization error\n",
    "0 - No valve stall\n",
    "4 - Valve stall\n",
    "0 - Valve enabled\n",
    "16 - Valve not enabled\n",
    "0 - Valve is not busy\n",
    "32 - Valve is busy"
   ]
  },
  {
   "cell_type": "code",
   "execution_count": 201,
   "id": "bce6e0dc-e735-49e0-b8e3-6cba286f4f89",
   "metadata": {},
   "outputs": [
    {
     "data": {
      "text/plain": [
       "'0'"
      ]
     },
     "execution_count": 201,
     "metadata": {},
     "output_type": "execute_result"
    }
   ],
   "source": [
    "# Syringe status, zero means fine\n",
    "\n",
    "string = '/1?20000R\\r'\n",
    "\n",
    "syringe.write(string.encode())\n",
    "syringe.readline().rstrip().decode().split('`')[1].split('\\x03')[0]"
   ]
  },
  {
   "cell_type": "code",
   "execution_count": 233,
   "id": "0b0352ff-50f3-45da-9b64-0165e7c421f2",
   "metadata": {},
   "outputs": [
    {
     "name": "stdout",
     "output_type": "stream",
     "text": [
      "10\n"
     ]
    },
    {
     "data": {
      "text/plain": [
       "'3'"
      ]
     },
     "execution_count": 233,
     "metadata": {},
     "output_type": "execute_result"
    }
   ],
   "source": [
    "valve_status_string = '/1?21000R\\r'\n",
    "valveOutput = syringe.write(valve_status_string.encode())\n",
    "print(valveOutput)\n",
    "syringe.readline().decode().split('`')[1].split('\\x03')[0]"
   ]
  },
  {
   "cell_type": "code",
   "execution_count": 241,
   "id": "2e7343d8-507a-4663-8c5c-10c7303acd2a",
   "metadata": {},
   "outputs": [
    {
     "name": "stdout",
     "output_type": "stream",
     "text": [
      "10\n"
     ]
    },
    {
     "data": {
      "text/plain": [
       "'1'"
      ]
     },
     "execution_count": 241,
     "metadata": {},
     "output_type": "execute_result"
    }
   ],
   "source": [
    "valve_status_string = '/1?23000R\\r'\n",
    "valveOutput = syringe.write(valve_status_string.encode())\n",
    "print(valveOutput)\n",
    "syringe.readline().decode().split('`')[1].split('\\x03')[0]"
   ]
  },
  {
   "cell_type": "code",
   "execution_count": 4,
   "id": "f5aeefbc-c49d-48b0-9d70-a9cbd70f77f3",
   "metadata": {},
   "outputs": [
    {
     "name": "stdout",
     "output_type": "stream",
     "text": [
      "10\n"
     ]
    },
    {
     "data": {
      "text/plain": [
       "'1'"
      ]
     },
     "execution_count": 4,
     "metadata": {},
     "output_type": "execute_result"
    }
   ],
   "source": [
    "valve_status_string = '/1?24000R\\r'\n",
    "valveOutput = syringe.write(valve_status_string.encode())\n",
    "print(valveOutput)\n",
    "syringe.readline().decode().split('`')[1].split('\\x03')[0]"
   ]
  },
  {
   "cell_type": "markdown",
   "id": "c187dfb9-cbeb-4bf4-af2c-72cce21d8ebf",
   "metadata": {},
   "source": [
    "# Move pump / valve"
   ]
  },
  {
   "cell_type": "code",
   "execution_count": 246,
   "id": "547682da-39d1-48d4-94e9-7133004d8755",
   "metadata": {},
   "outputs": [
    {
     "name": "stdout",
     "output_type": "stream",
     "text": [
      "10\n"
     ]
    },
    {
     "data": {
      "text/plain": [
       "'/0@\\x03\\r\\n'"
      ]
     },
     "execution_count": 246,
     "metadata": {},
     "output_type": "execute_result"
    }
   ],
   "source": [
    "valve_status_string = '/1h23006R\\r'\n",
    "valveOutput = syringe.write(valve_status_string.encode())\n",
    "print(valveOutput)\n",
    "syringe.readline().decode()#.split('`')[1].split('\\x03')[0]"
   ]
  },
  {
   "cell_type": "code",
   "execution_count": 18,
   "id": "8289cc38",
   "metadata": {},
   "outputs": [
    {
     "data": {
      "text/plain": [
       "17"
      ]
     },
     "execution_count": 18,
     "metadata": {},
     "output_type": "execute_result"
    }
   ],
   "source": [
    "syringe.write(f'/1h2400{1}V{30}A100R\\r'.encode())"
   ]
  },
  {
   "cell_type": "code",
   "execution_count": 55,
   "id": "04dfe992",
   "metadata": {},
   "outputs": [
    {
     "data": {
      "text/plain": [
       "10"
      ]
     },
     "execution_count": 55,
     "metadata": {},
     "output_type": "execute_result"
    }
   ],
   "source": [
    "syringe.write(f'/1h26007R\\r'.encode())"
   ]
  },
  {
   "cell_type": "code",
   "execution_count": 40,
   "id": "c3acbac8",
   "metadata": {},
   "outputs": [
    {
     "data": {
      "text/plain": [
       "17"
      ]
     },
     "execution_count": 40,
     "metadata": {},
     "output_type": "execute_result"
    }
   ],
   "source": [
    "syringe.write(f'/1h2600{1}V{30}A100R\\r'.encode())"
   ]
  },
  {
   "cell_type": "code",
   "execution_count": 46,
   "id": "cafcb6ec",
   "metadata": {},
   "outputs": [
    {
     "data": {
      "text/plain": [
       "17"
      ]
     },
     "execution_count": 46,
     "metadata": {},
     "output_type": "execute_result"
    }
   ],
   "source": [
    "syringe.write(f'/1h2600{7}V{30}A100R\\r'.encode())"
   ]
  },
  {
   "cell_type": "code",
   "execution_count": 189,
   "id": "fe131860-c4de-4006-a532-dfc413ab8687",
   "metadata": {},
   "outputs": [
    {
     "data": {
      "text/plain": [
       "[]"
      ]
     },
     "execution_count": 189,
     "metadata": {},
     "output_type": "execute_result"
    }
   ],
   "source": [
    "syringe.readlines()"
   ]
  },
  {
   "cell_type": "code",
   "execution_count": 129,
   "id": "58fb1b1b-cb12-4129-985c-7ee3c94f026c",
   "metadata": {},
   "outputs": [
    {
     "name": "stdout",
     "output_type": "stream",
     "text": [
      "10\n"
     ]
    },
    {
     "data": {
      "text/plain": [
       "'/0@\\x03\\r\\n'"
      ]
     },
     "execution_count": 129,
     "metadata": {},
     "output_type": "execute_result"
    }
   ],
   "source": [
    "string = '/1h27135R\\r'\n",
    "valveOutput = syringe.write(string.encode())\n",
    "print(valveOutput)\n",
    "syringe.readline().decode()#.split('`')[1].split('\\x03')[0]"
   ]
  },
  {
   "cell_type": "code",
   "execution_count": 261,
   "id": "f15b98f8-ed29-4acc-8409-6a383c29a4b4",
   "metadata": {},
   "outputs": [
    {
     "name": "stdout",
     "output_type": "stream",
     "text": [
      "15\n"
     ]
    },
    {
     "data": {
      "text/plain": [
       "'/0@\\x03\\r\\n'"
      ]
     },
     "execution_count": 261,
     "metadata": {},
     "output_type": "execute_result"
    }
   ],
   "source": [
    "string = '/1h24004V50A150R\\r' # take 120ul at speed of 50ul/s from angle 135 (input)\n",
    "string = '/1h24007V50A0R\\r' # take 120ul at speed of 50ul/s from angle 135 (input)\n",
    "#string = '/1h27270V50A0R\\r' # put syringe back to 0 at speed of 50ul/s to angle 270 (Bypass chamber to waste)\n",
    "valveOutput = syringe.write(string.encode())\n",
    "print(valveOutput)\n",
    "syringe.readline().decode()#.split('`')[1].split('\\x03')[0]"
   ]
  },
  {
   "cell_type": "markdown",
   "id": "e19d7af1",
   "metadata": {},
   "source": [
    "# Terminate interaction"
   ]
  },
  {
   "cell_type": "code",
   "execution_count": 56,
   "id": "13eedd54-2a02-46a2-b65f-e3f9041c9543",
   "metadata": {},
   "outputs": [],
   "source": [
    "# input at 4\n",
    "# output at 5\n",
    "# bypass at 7\n",
    "syringe.close()"
   ]
  },
  {
   "cell_type": "code",
   "execution_count": null,
   "id": "3b1c78ab",
   "metadata": {},
   "outputs": [],
   "source": []
  }
 ],
 "metadata": {
  "kernelspec": {
   "display_name": "halenv",
   "language": "python",
   "name": "python3"
  },
  "language_info": {
   "codemirror_mode": {
    "name": "ipython",
    "version": 3
   },
   "file_extension": ".py",
   "mimetype": "text/x-python",
   "name": "python",
   "nbconvert_exporter": "python",
   "pygments_lexer": "ipython3",
   "version": "3.10.12"
  }
 },
 "nbformat": 4,
 "nbformat_minor": 5
}
