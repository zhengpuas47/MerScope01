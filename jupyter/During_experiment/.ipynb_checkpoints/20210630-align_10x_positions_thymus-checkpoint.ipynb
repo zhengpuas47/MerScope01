{
 "cells": [
  {
   "cell_type": "code",
   "execution_count": 1,
   "metadata": {
    "collapsed": false
   },
   "outputs": [
    {
     "name": "stdout",
     "output_type": "stream",
     "text": [
      "28580\n"
     ]
    }
   ],
   "source": [
    "%run \"E:\\Users\\puzheng\\Documents\\Startup_py3.py\"\n",
    "sys.path.append(r\"E:\\Users\\puzheng\\Documents\")\n",
    "\n",
    "import ImageAnalysis3 as ia\n",
    "%matplotlib notebook\n",
    "\n",
    "from ImageAnalysis3 import *\n",
    "print(os.getpid())"
   ]
  },
  {
   "cell_type": "markdown",
   "metadata": {},
   "source": [
    "# calculate rotation and transposition matrix"
   ]
  },
  {
   "cell_type": "code",
   "execution_count": 2,
   "metadata": {
    "collapsed": true
   },
   "outputs": [],
   "source": [
    "data_folder = r'\\\\storm6-pc\\STORM6-FLASHDrive\\Pu\\20201127-NOAcr_CTP-08_E14_brain_no_clearing'\n",
    "before_position_file = os.path.join(data_folder, '10x_positions.txt')\n",
    "after_position_file = os.path.join(data_folder, '10x_positions_after.txt')\n"
   ]
  },
  {
   "cell_type": "code",
   "execution_count": 3,
   "metadata": {
    "collapsed": false
   },
   "outputs": [
    {
     "name": "stdout",
     "output_type": "stream",
     "text": [
      "- Manually picked points aligned, rotation:\n",
      "[[ 0.99989683 -0.01436443]\n",
      " [ 0.01436443  0.99989683]],\n",
      " translation:[ 593.98776915 -207.2862716 ]\n"
     ]
    }
   ],
   "source": [
    "R, T = alignment_tools.align_manual_points(before_position_file, after_position_file, save=False)\n"
   ]
  },
  {
   "cell_type": "markdown",
   "metadata": {},
   "source": [
    "# transpose 60x positions"
   ]
  },
  {
   "cell_type": "code",
   "execution_count": 4,
   "metadata": {
    "collapsed": true
   },
   "outputs": [],
   "source": [
    "old_positions = np.loadtxt(os.path.join(data_folder, 'positions_all.txt'), delimiter=',')"
   ]
  },
  {
   "cell_type": "code",
   "execution_count": 5,
   "metadata": {
    "collapsed": false,
    "scrolled": true
   },
   "outputs": [
    {
     "name": "stdout",
     "output_type": "stream",
     "text": [
      "[[-3331.05751255 -4073.80416197]\n",
      " [-3328.19755482 -3874.72470385]\n",
      " [-3325.33759709 -3675.64524574]\n",
      " [-3322.4790758  -3476.66577732]\n",
      " [-3319.61911806 -3277.5863192 ]\n",
      " [-3316.75916033 -3078.50686109]\n",
      " [-3117.7796919  -3081.36538238]\n",
      " [-3120.63964963 -3280.4448405 ]\n",
      " [-3123.49960737 -3479.52429861]\n",
      " [-3126.35812866 -3678.50376703]\n",
      " [-3129.21808639 -3877.58322515]\n",
      " [-3132.07804413 -4076.66268326]\n",
      " [-2932.99858602 -4079.52264099]\n",
      " [-2930.13862828 -3880.44318288]\n",
      " [-2927.27867055 -3681.36372477]\n",
      " [-2924.42014926 -3482.38425634]\n",
      " [-2921.56019152 -3283.30479823]\n",
      " [-2918.70023379 -3084.22534012]\n",
      " [-2719.62077568 -3087.08529785]\n",
      " [-2722.48073341 -3286.16475596]\n",
      " [-2725.34069115 -3485.24421407]\n",
      " [-2728.19921244 -3684.2236825 ]\n",
      " [-2731.05917017 -3883.30314061]\n",
      " [-2733.9191279  -4082.38259872]\n",
      " [-2534.93965948 -4085.24112001]\n",
      " [-2532.07970174 -3886.1616619 ]\n",
      " [-2529.21974401 -3687.08220379]\n",
      " [-2526.36122272 -3488.10273536]\n",
      " [-2523.50126498 -3289.02327725]\n",
      " [-2520.64130725 -3089.94381914]\n",
      " [-2321.56184914 -3092.80377688]\n",
      " [-2324.42180687 -3291.88323499]\n",
      " [-2327.28176461 -3490.9626931 ]\n",
      " [-2330.1402859  -3689.94216153]\n",
      " [-2333.00024363 -3889.02161964]\n",
      " [-2335.86020137 -4088.10107775]\n",
      " [-2136.78074325 -4090.96103548]\n",
      " [-2133.92078552 -3891.88157737]\n",
      " [-2131.06082779 -3692.80211926]\n",
      " [-2128.2023065  -3493.82265083]\n",
      " [-2125.34234876 -3294.74319272]\n",
      " [-2122.48239103 -3095.66373461]\n",
      " [-1923.5029226  -3098.5222559 ]\n",
      " [-1934.94131709 -3894.74009866]\n",
      " [-4747.52926138 -3100.9569824 ]\n",
      " [-4744.67074009 -2901.97751397]\n",
      " [-4741.81078235 -2702.89805586]\n",
      " [-4738.95082462 -2503.81859775]\n",
      " [-4539.87136651 -2506.67855548]\n",
      " [-4542.73132424 -2705.75801359]\n",
      " [-4545.59128197 -2904.83747171]\n",
      " [-4548.44980327 -3103.81694013]\n",
      " [-4551.309761   -3302.89639824]\n",
      " [-4554.16828229 -3501.87586667]\n",
      " [-4357.94878191 -3703.81528252]\n",
      " [-4352.23030289 -3305.75635598]\n",
      " [-4349.37034515 -3106.67689787]\n",
      " [-4346.51182386 -2907.69742944]\n",
      " [-4343.65186613 -2708.61797133]\n",
      " [-4340.7919084  -2509.53851322]]\n"
     ]
    }
   ],
   "source": [
    "new_positions = np.dot(old_positions, R) + T\n",
    "print(new_positions)"
   ]
  },
  {
   "cell_type": "code",
   "execution_count": 6,
   "metadata": {
    "collapsed": false
   },
   "outputs": [
    {
     "name": "stdout",
     "output_type": "stream",
     "text": [
      "\\\\storm6-pc\\STORM6-FLASHDrive\\Pu\\20201127-NOAcr_CTP-08_E14_brain_no_clearing\\translated_positions_all.txt\n"
     ]
    }
   ],
   "source": [
    "save_filename = os.path.join(data_folder, 'translated_positions_all.txt')\n",
    "print(save_filename)\n",
    "np.savetxt(save_filename, new_positions, fmt='%.2f', delimiter=',')"
   ]
  },
  {
   "cell_type": "markdown",
   "metadata": {},
   "source": [
    "# further adjust manually"
   ]
  },
  {
   "cell_type": "code",
   "execution_count": 8,
   "metadata": {
    "collapsed": true
   },
   "outputs": [],
   "source": [
    "manual_shift = np.array([-28.1,  -8.7])\n",
    "adjusted_new_positions = new_positions + manual_shift"
   ]
  },
  {
   "cell_type": "code",
   "execution_count": 9,
   "metadata": {
    "collapsed": false
   },
   "outputs": [
    {
     "name": "stdout",
     "output_type": "stream",
     "text": [
      "\\\\storm6-pc\\STORM6-FLASHDrive\\Pu\\20201127-NOAcr_CTP-08_E14_brain_no_clearing\\adjusted_translated_positions_all.txt\n"
     ]
    }
   ],
   "source": [
    "adj_save_filename = os.path.join(data_folder, 'adjusted_translated_positions_all.txt')\n",
    "print(adj_save_filename)\n",
    "np.savetxt(adj_save_filename, adjusted_new_positions, fmt='%.2f', delimiter=',')"
   ]
  },
  {
   "cell_type": "code",
   "execution_count": null,
   "metadata": {
    "collapsed": true
   },
   "outputs": [],
   "source": []
  }
 ],
 "metadata": {
  "kernelspec": {
   "display_name": "Python 3",
   "language": "python",
   "name": "python3"
  },
  "language_info": {
   "codemirror_mode": {
    "name": "ipython",
    "version": 3
   },
   "file_extension": ".py",
   "mimetype": "text/x-python",
   "name": "python",
   "nbconvert_exporter": "python",
   "pygments_lexer": "ipython3",
   "version": "3.9.5"
  }
 },
 "nbformat": 4,
 "nbformat_minor": 4
}
