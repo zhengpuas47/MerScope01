{
 "cells": [
  {
   "cell_type": "markdown",
   "metadata": {},
   "source": [
    "# calculate rotation and transposition matrix"
   ]
  },
  {
   "cell_type": "code",
   "execution_count": 2,
   "metadata": {
    "collapsed": false
   },
   "outputs": [],
   "source": [
    "import os\n",
    "\n",
    "data_folder = r'D:\\Shiwei\\20210613-P_Forebrain_smFISH_CTP09\\10xPOS'\n",
    "before_position_file = os.path.join(data_folder, '10x_positions_before.txt')\n",
    "after_position_file = os.path.join(data_folder, '10x_positions_after.txt')\n"
   ]
  },
  {
   "cell_type": "code",
   "execution_count": 3,
   "metadata": {
    "collapsed": true
   },
   "outputs": [],
   "source": [
    "import numpy as np\n",
    "import os, sys\n",
    "# 1. alignment for manually picked points\n",
    "def align_manual_points(pos_file_before, pos_file_after,\n",
    "                        save=True, save_folder=None, save_filename='', verbose=True):\n",
    "    \"\"\"Function to align two manually picked position files, \n",
    "    they should follow exactly the same order and of same length.\n",
    "    Inputs:\n",
    "        pos_file_before: full filename for positions file before translation\n",
    "        pos_file_after: full filename for positions file after translation\n",
    "        save: whether save rotation and translation info, bool (default: True)\n",
    "        save_folder: where to save rotation and translation info, None or string (default: same folder as pos_file_before)\n",
    "        save_filename: filename specified to save rotation and translation points\n",
    "        verbose: say something! bool (default: True)\n",
    "    Outputs:\n",
    "        R: rotation for positions, 2x2 array\n",
    "        T: traslation of positions, array of 2\n",
    "    Here's example for how to translate points\n",
    "        translated_ps_before = np.dot(ps_before, R) + t\n",
    "    \"\"\"\n",
    "    # load position_before\n",
    "    if os.path.isfile(pos_file_before):\n",
    "        ps_before = np.loadtxt(pos_file_before, delimiter=',')\n",
    "\n",
    "    # load position_after\n",
    "    if os.path.isfile(pos_file_after):\n",
    "        ps_after = np.loadtxt(pos_file_after, delimiter=',')\n",
    "\n",
    "    # do SVD decomposition to get best fit for rigid-translation\n",
    "    c_before = np.mean(ps_before, axis=0)\n",
    "    c_after = np.mean(ps_after, axis=0)\n",
    "    H = np.dot((ps_before - c_before).T, (ps_after - c_after))\n",
    "    U, _, V = np.linalg.svd(H)  # do SVD\n",
    "    # calcluate rotation\n",
    "    R = np.dot(V, U.T).T\n",
    "    if np.linalg.det(R) < 0:\n",
    "        R[:, -1] = -1 * R[:, -1]\n",
    "    # calculate translation\n",
    "    t = - np.dot(c_before, R) + c_after\n",
    "    # here's example for how to translate points\n",
    "    # translated_ps_before = np.dot(ps_before, R) + t\n",
    "    # save\n",
    "    if save:\n",
    "        if save_folder is None:\n",
    "            save_folder = os.path.dirname(pos_file_before)\n",
    "        if not os.path.exists(save_folder):\n",
    "            os.makedirs(save_folder)\n",
    "        if len(save_filename) > 0:\n",
    "            save_filename += '_'\n",
    "        rotation_name = os.path.join(save_folder, save_filename+'rotation')\n",
    "        translation_name = os.path.join(\n",
    "            save_folder, save_filename+'translation')\n",
    "        np.save(rotation_name, R)\n",
    "        np.save(translation_name, t)\n",
    "\n",
    "    return R, t"
   ]
  },
  {
   "cell_type": "code",
   "execution_count": 4,
   "metadata": {
    "collapsed": true
   },
   "outputs": [],
   "source": [
    "R, T = align_manual_points(before_position_file, after_position_file, save=False)\n"
   ]
  },
  {
   "cell_type": "code",
   "execution_count": 5,
   "metadata": {
    "collapsed": false
   },
   "outputs": [
    {
     "data": {
      "text/plain": [
       "(array([[ 0.99930144,  0.03737155],\n",
       "        [-0.03737155,  0.99930144]]),\n",
       " array([630.2851915 , -81.10854413]))"
      ]
     },
     "execution_count": 5,
     "metadata": {},
     "output_type": "execute_result"
    }
   ],
   "source": [
    "R, T"
   ]
  },
  {
   "cell_type": "markdown",
   "metadata": {},
   "source": [
    "# transpose 60x positions"
   ]
  },
  {
   "cell_type": "code",
   "execution_count": 6,
   "metadata": {
    "collapsed": true
   },
   "outputs": [],
   "source": [
    "old_positions = np.loadtxt(os.path.join(data_folder, 'positions_all.txt'), delimiter=',')"
   ]
  },
  {
   "cell_type": "code",
   "execution_count": 7,
   "metadata": {
    "collapsed": false
   },
   "outputs": [
    {
     "data": {
      "text/plain": [
       "array([[ 355., 6585.],\n",
       "       [ 355., 6795.],\n",
       "       [ 355., 7005.],\n",
       "       [ 355., 7215.],\n",
       "       [ 565., 7215.],\n",
       "       [ 565., 7005.],\n",
       "       [ 565., 6795.],\n",
       "       [ 565., 6585.],\n",
       "       [ 775., 6585.],\n",
       "       [ 775., 6795.],\n",
       "       [ 775., 7005.],\n",
       "       [ 775., 7215.],\n",
       "       [ 985., 7215.],\n",
       "       [ 985., 7005.],\n",
       "       [ 985., 6795.],\n",
       "       [ 985., 6585.],\n",
       "       [1195., 6585.],\n",
       "       [1195., 6795.],\n",
       "       [1195., 7005.],\n",
       "       [1195., 7215.],\n",
       "       [1405., 7215.],\n",
       "       [1405., 7005.],\n",
       "       [1405., 6795.],\n",
       "       [1405., 6585.],\n",
       "       [1615., 6585.],\n",
       "       [1615., 6795.],\n",
       "       [1615., 7005.],\n",
       "       [1615., 7215.],\n",
       "       [1825., 7215.],\n",
       "       [1825., 7005.],\n",
       "       [1825., 6795.],\n",
       "       [1825., 6585.],\n",
       "       [2035., 6585.],\n",
       "       [2035., 6795.],\n",
       "       [2035., 7005.],\n",
       "       [2035., 7215.],\n",
       "       [2245., 7215.],\n",
       "       [2245., 7005.],\n",
       "       [2245., 6795.],\n",
       "       [2245., 6585.],\n",
       "       [2460., 5850.],\n",
       "       [2460., 6060.],\n",
       "       [2460., 6270.],\n",
       "       [2460., 6480.],\n",
       "       [2460., 6690.],\n",
       "       [2670., 6690.],\n",
       "       [2670., 6480.],\n",
       "       [2670., 6270.],\n",
       "       [2670., 6060.],\n",
       "       [2670., 5850.],\n",
       "       [2880., 5850.],\n",
       "       [2880., 6060.],\n",
       "       [2880., 6270.],\n",
       "       [2880., 6480.],\n",
       "       [2880., 6690.],\n",
       "       [3090., 6690.],\n",
       "       [3090., 6480.],\n",
       "       [3090., 6270.],\n",
       "       [3090., 6060.],\n",
       "       [3090., 5850.],\n",
       "       [3300., 5850.],\n",
       "       [3300., 6060.],\n",
       "       [3300., 6270.],\n",
       "       [3300., 6480.],\n",
       "       [ 775., 5525.],\n",
       "       [ 775., 5735.],\n",
       "       [ 985., 5735.],\n",
       "       [ 985., 5525.],\n",
       "       [1195., 5525.],\n",
       "       [1195., 5735.],\n",
       "       [1405., 5735.],\n",
       "       [1405., 5525.],\n",
       "       [1615., 5525.],\n",
       "       [1615., 5735.],\n",
       "       [1825., 5735.],\n",
       "       [1825., 5525.],\n",
       "       [ 485., 3980.],\n",
       "       [ 485., 4190.],\n",
       "       [ 485., 4400.],\n",
       "       [ 485., 4610.],\n",
       "       [ 485., 4820.],\n",
       "       [ 695., 4820.],\n",
       "       [ 695., 4610.],\n",
       "       [ 695., 4400.],\n",
       "       [ 695., 4190.],\n",
       "       [ 695., 3980.],\n",
       "       [ 905., 3980.],\n",
       "       [ 905., 4190.],\n",
       "       [ 905., 4400.],\n",
       "       [ 905., 4610.],\n",
       "       [ 905., 4820.],\n",
       "       [1115., 4820.],\n",
       "       [1115., 4610.],\n",
       "       [1115., 4400.],\n",
       "       [1115., 4190.],\n",
       "       [1115., 3980.]])"
      ]
     },
     "execution_count": 7,
     "metadata": {},
     "output_type": "execute_result"
    }
   ],
   "source": [
    "old_positions"
   ]
  },
  {
   "cell_type": "code",
   "execution_count": 8,
   "metadata": {
    "collapsed": false,
    "scrolled": true
   },
   "outputs": [
    {
     "name": "stdout",
     "output_type": "stream",
     "text": [
      "[[ 738.94554928 6512.55833604]\n",
      " [ 731.09752389 6722.41163836]\n",
      " [ 723.2494985  6932.26494069]\n",
      " [ 715.40147311 7142.11824302]\n",
      " [ 925.25477543 7149.96626841]\n",
      " [ 933.10280082 6940.11296608]\n",
      " [ 940.95082621 6730.25966375]\n",
      " [ 948.7988516  6520.40636143]\n",
      " [1158.65215393 6528.25438682]\n",
      " [1150.80412854 6738.10768914]\n",
      " [1142.95610315 6947.96099147]\n",
      " [1135.10807776 7157.8142938 ]\n",
      " [1344.96138009 7165.66231919]\n",
      " [1352.80940548 6955.80901686]\n",
      " [1360.65743087 6745.95571453]\n",
      " [1368.50545626 6536.10241221]\n",
      " [1578.35875858 6543.9504376 ]\n",
      " [1570.51073319 6753.80373992]\n",
      " [1562.6627078  6963.65704225]\n",
      " [1554.81468241 7173.51034458]\n",
      " [1764.66798474 7181.35836997]\n",
      " [1772.51601013 6971.50506764]\n",
      " [1780.36403552 6761.65176531]\n",
      " [1788.21206091 6551.79846299]\n",
      " [1998.06536324 6559.64648838]\n",
      " [1990.21733785 6769.4997907 ]\n",
      " [1982.36931246 6979.35309303]\n",
      " [1974.52128707 7189.20639536]\n",
      " [2184.37458939 7197.05442075]\n",
      " [2192.22261478 6987.20111842]\n",
      " [2200.07064017 6777.34781609]\n",
      " [2207.91866556 6567.49451377]\n",
      " [2417.77196789 6575.34253916]\n",
      " [2409.9239425  6785.19584148]\n",
      " [2402.07591711 6995.04914381]\n",
      " [2394.22789172 7204.90244614]\n",
      " [2604.08119405 7212.75047153]\n",
      " [2611.92921944 7002.8971692 ]\n",
      " [2619.77724483 6793.04386687]\n",
      " [2627.62527022 6583.19056455]\n",
      " [2869.94316861 5856.73888954]\n",
      " [2862.09514322 6066.59219187]\n",
      " [2854.24711783 6276.44549419]\n",
      " [2846.39909244 6486.29879652]\n",
      " [2838.55106705 6696.15209885]\n",
      " [3048.40436937 6704.00012424]\n",
      " [3056.25239476 6494.14682191]\n",
      " [3064.10042015 6284.29351958]\n",
      " [3071.94844554 6074.44021726]\n",
      " [3079.79647093 5864.58691493]\n",
      " [3289.64977326 5872.43494032]\n",
      " [3281.80174787 6082.28824265]\n",
      " [3273.95372248 6292.14154497]\n",
      " [3266.10569709 6501.9948473 ]\n",
      " [3258.2576717  6711.84814963]\n",
      " [3468.11097403 6719.69617502]\n",
      " [3475.95899942 6509.84287269]\n",
      " [3483.80702481 6299.98957036]\n",
      " [3491.6550502  6090.13626804]\n",
      " [3499.50307559 5880.28296571]\n",
      " [3709.35637791 5888.1309911 ]\n",
      " [3701.50835252 6097.98429343]\n",
      " [3693.66032713 6307.83759575]\n",
      " [3685.81230174 6517.69089808]\n",
      " [1198.26599637 5468.99486078]\n",
      " [1190.41797098 5678.84816311]\n",
      " [1400.27127331 5686.6961885 ]\n",
      " [1408.1192987  5476.84288617]\n",
      " [1617.97260103 5484.69091156]\n",
      " [1610.12457564 5694.54421389]\n",
      " [1819.97787796 5702.39223928]\n",
      " [1827.82590335 5492.53893695]\n",
      " [2037.67920568 5500.38696234]\n",
      " [2029.83118029 5710.24026467]\n",
      " [2239.68448262 5718.08829006]\n",
      " [2247.53250801 5508.23498773]\n",
      " [ 966.20762282 3914.23638718]\n",
      " [ 958.35959743 4124.0896895 ]\n",
      " [ 950.51157204 4333.94299183]\n",
      " [ 942.66354665 4543.79629416]\n",
      " [ 934.81552126 4753.64959648]\n",
      " [1144.66882358 4761.49762187]\n",
      " [1152.51684897 4551.64431955]\n",
      " [1160.36487436 4341.79101722]\n",
      " [1168.21289975 4131.93771489]\n",
      " [1176.06092514 3922.08441257]\n",
      " [1385.91422747 3929.93243796]\n",
      " [1378.06620208 4139.78574028]\n",
      " [1370.21817669 4349.63904261]\n",
      " [1362.3701513  4559.49234494]\n",
      " [1354.52212591 4769.34564726]\n",
      " [1564.37542824 4777.19367265]\n",
      " [1572.22345363 4567.34037033]\n",
      " [1580.07147902 4357.487068  ]\n",
      " [1587.91950441 4147.63376567]\n",
      " [1595.7675298  3937.78046335]]\n"
     ]
    }
   ],
   "source": [
    "new_positions = np.dot(old_positions, R) + T\n",
    "print(new_positions)"
   ]
  },
  {
   "cell_type": "code",
   "execution_count": 9,
   "metadata": {
    "collapsed": false
   },
   "outputs": [
    {
     "name": "stdout",
     "output_type": "stream",
     "text": [
      "D:\\Shiwei\\20210613-P_Forebrain_smFISH_CTP09\\10xPOS\\translated_positions_all.txt\n"
     ]
    }
   ],
   "source": [
    "save_filename = os.path.join(data_folder, 'translated_positions_all.txt')\n",
    "print(save_filename)\n",
    "np.savetxt(save_filename, new_positions, fmt='%.2f', delimiter=',')"
   ]
  },
  {
   "cell_type": "markdown",
   "metadata": {},
   "source": [
    "# further adjust manually"
   ]
  },
  {
   "cell_type": "code",
   "execution_count": 10,
   "metadata": {
    "collapsed": false
   },
   "outputs": [
    {
     "data": {
      "text/plain": [
       "array([[-163.92,  -41.05],\n",
       "       [-163.75,  -41.75],\n",
       "       [-164.77,  -42.78]])"
      ]
     },
     "execution_count": 10,
     "metadata": {},
     "output_type": "execute_result"
    }
   ],
   "source": [
    "adjust_before = np.array([[1190.42,  5678.85],[1158.65, 6528.25],[1595.77, 3937.78]])\n",
    "\n",
    "adjust_after = np.array([[1026.5,    5637.8],[994.9, 6486.5],[1431,  3895]])\n",
    "\n",
    "\n",
    "delta_adjust = adjust_after - adjust_before\n",
    "delta_adjust"
   ]
  },
  {
   "cell_type": "code",
   "execution_count": 11,
   "metadata": {
    "collapsed": false
   },
   "outputs": [
    {
     "data": {
      "text/plain": [
       "array([-164.14666667,  -41.86      ])"
      ]
     },
     "execution_count": 11,
     "metadata": {},
     "output_type": "execute_result"
    }
   ],
   "source": [
    "manual_shift= np.mean(delta_adjust,axis=0)\n",
    "manual_shift"
   ]
  },
  {
   "cell_type": "code",
   "execution_count": 12,
   "metadata": {
    "collapsed": true
   },
   "outputs": [],
   "source": [
    "#manual_shift = np.array([-28.1,  -8.7])\n",
    "adjusted_new_positions = new_positions + manual_shift"
   ]
  },
  {
   "cell_type": "code",
   "execution_count": 13,
   "metadata": {
    "collapsed": false
   },
   "outputs": [
    {
     "name": "stdout",
     "output_type": "stream",
     "text": [
      "D:\\Shiwei\\20210613-P_Forebrain_smFISH_CTP09\\10xPOS\\adjusted_translated_positions_all.txt\n"
     ]
    }
   ],
   "source": [
    "adj_save_filename = os.path.join(data_folder, 'adjusted_translated_positions_all.txt')\n",
    "print(adj_save_filename)\n",
    "np.savetxt(adj_save_filename, adjusted_new_positions, fmt='%.2f', delimiter=',')"
   ]
  },
  {
   "cell_type": "code",
   "execution_count": null,
   "metadata": {
    "collapsed": true
   },
   "outputs": [],
   "source": []
  }
 ],
 "metadata": {
  "kernelspec": {
   "display_name": "Python 3",
   "language": "python",
   "name": "python3"
  },
  "language_info": {
   "codemirror_mode": {
    "name": "ipython",
    "version": 3
   },
   "file_extension": ".py",
   "mimetype": "text/x-python",
   "name": "python",
   "nbconvert_exporter": "python",
   "pygments_lexer": "ipython3",
   "version": "3.9.5"
  }
 },
 "nbformat": 4,
 "nbformat_minor": 4
}
