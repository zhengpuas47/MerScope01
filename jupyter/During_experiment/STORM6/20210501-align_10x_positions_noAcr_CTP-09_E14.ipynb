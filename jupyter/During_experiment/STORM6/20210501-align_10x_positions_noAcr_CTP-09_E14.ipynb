{
 "cells": [
  {
   "cell_type": "markdown",
   "metadata": {},
   "source": [
    "# calculate rotation and transposition matrix"
   ]
  },
  {
   "cell_type": "code",
   "execution_count": 7,
   "metadata": {},
   "outputs": [],
   "source": [
    "data_folder = r'D:\\Shiwei\\20210423-E14_Forebrain_smRNA'\n",
    "before_position_file = os.path.join(data_folder, '10x_positions.txt')\n",
    "after_position_file = os.path.join(data_folder, '10x_positions_after.txt')\n"
   ]
  },
  {
   "cell_type": "code",
   "execution_count": 8,
   "metadata": {},
   "outputs": [],
   "source": [
    "import numpy as np\n",
    "import os, sys\n",
    "# 1. alignment for manually picked points\n",
    "def align_manual_points(pos_file_before, pos_file_after,\n",
    "                        save=True, save_folder=None, save_filename='', verbose=True):\n",
    "    \"\"\"Function to align two manually picked position files, \n",
    "    they should follow exactly the same order and of same length.\n",
    "    Inputs:\n",
    "        pos_file_before: full filename for positions file before translation\n",
    "        pos_file_after: full filename for positions file after translation\n",
    "        save: whether save rotation and translation info, bool (default: True)\n",
    "        save_folder: where to save rotation and translation info, None or string (default: same folder as pos_file_before)\n",
    "        save_filename: filename specified to save rotation and translation points\n",
    "        verbose: say something! bool (default: True)\n",
    "    Outputs:\n",
    "        R: rotation for positions, 2x2 array\n",
    "        T: traslation of positions, array of 2\n",
    "    Here's example for how to translate points\n",
    "        translated_ps_before = np.dot(ps_before, R) + t\n",
    "    \"\"\"\n",
    "    # load position_before\n",
    "    if os.path.isfile(pos_file_before):\n",
    "        ps_before = np.loadtxt(pos_file_before, delimiter=',')\n",
    "\n",
    "    # load position_after\n",
    "    if os.path.isfile(pos_file_after):\n",
    "        ps_after = np.loadtxt(pos_file_after, delimiter=',')\n",
    "\n",
    "    # do SVD decomposition to get best fit for rigid-translation\n",
    "    c_before = np.mean(ps_before, axis=0)\n",
    "    c_after = np.mean(ps_after, axis=0)\n",
    "    H = np.dot((ps_before - c_before).T, (ps_after - c_after))\n",
    "    U, _, V = np.linalg.svd(H)  # do SVD\n",
    "    # calcluate rotation\n",
    "    R = np.dot(V, U.T).T\n",
    "    if np.linalg.det(R) < 0:\n",
    "        R[:, -1] = -1 * R[:, -1]\n",
    "    # calculate translation\n",
    "    t = - np.dot(c_before, R) + c_after\n",
    "    # here's example for how to translate points\n",
    "    # translated_ps_before = np.dot(ps_before, R) + t\n",
    "    # save\n",
    "    if save:\n",
    "        if save_folder is None:\n",
    "            save_folder = os.path.dirname(pos_file_before)\n",
    "        if not os.path.exists(save_folder):\n",
    "            os.makedirs(save_folder)\n",
    "        if len(save_filename) > 0:\n",
    "            save_filename += '_'\n",
    "        rotation_name = os.path.join(save_folder, save_filename+'rotation')\n",
    "        translation_name = os.path.join(\n",
    "            save_folder, save_filename+'translation')\n",
    "        np.save(rotation_name, R)\n",
    "        np.save(translation_name, t)\n",
    "\n",
    "    return R, t"
   ]
  },
  {
   "cell_type": "code",
   "execution_count": 9,
   "metadata": {},
   "outputs": [],
   "source": [
    "R, T = align_manual_points(before_position_file, after_position_file, save=False)\n"
   ]
  },
  {
   "cell_type": "code",
   "execution_count": 10,
   "metadata": {},
   "outputs": [
    {
     "output_type": "execute_result",
     "data": {
      "text/plain": [
       "(array([[ 0.99957146, -0.0292728 ],\n",
       "        [ 0.0292728 ,  0.99957146]]), array([-874.28797339, -551.78765221]))"
      ]
     },
     "metadata": {},
     "execution_count": 10
    }
   ],
   "source": [
    "R, T"
   ]
  },
  {
   "cell_type": "markdown",
   "metadata": {},
   "source": [
    "# transpose 60x positions"
   ]
  },
  {
   "cell_type": "code",
   "execution_count": 11,
   "metadata": {},
   "outputs": [],
   "source": [
    "old_positions = np.loadtxt(os.path.join(data_folder, 'positions_all.txt'), delimiter=',')"
   ]
  },
  {
   "cell_type": "code",
   "execution_count": 12,
   "metadata": {
    "scrolled": true
   },
   "outputs": [
    {
     "output_type": "stream",
     "name": "stdout",
     "text": [
      "[[ -408.14550219  -458.09279355]\n [ -401.67035977  -236.98758662]\n [ -395.19521736   -15.88237969]\n [ -388.72300222   205.12287009]\n [ -382.2478598    426.22807702]\n [ -375.77271739   647.33328395]\n [ -154.66751046   640.85814153]\n [ -161.14265288   419.7529346 ]\n [ -167.61779529   198.64772768]\n [ -174.09001043   -22.35752211]\n [ -180.56515284  -243.46272903]\n [ -187.04029526  -464.56793596]\n [   34.06491167  -471.04307838]\n [   40.54005409  -249.93787145]\n [   47.0151965    -28.83266452]\n [   53.48741164   192.17258526]\n [   59.96255405   413.27779219]\n [   66.43769647   634.38299912]\n [  287.54290339   627.9078567 ]\n [  281.06776098   406.80264977]\n [  274.59261856   185.69744285]\n [  268.12040343   -35.30780694]\n [  261.64526101  -256.41301386]\n [  255.1701186   -477.51822079]\n [  476.27532553  -483.99336321]\n [  482.75046794  -262.88815628]\n [  489.22561036   -41.78294935]\n [  495.69782549   179.22230043]\n [  502.17296791   400.32750736]\n [  508.64811032   621.43271429]\n [-1053.5963707  -1943.23508516]\n [-1047.12122829 -1722.12987823]\n [-1040.64608587 -1501.0246713 ]\n [-1034.17094346 -1279.91946437]\n [-1027.69580104 -1058.81425745]\n [ -806.59059411 -1065.28939986]\n [ -813.06573653 -1286.39460679]\n [ -819.54087894 -1507.49981372]\n [ -826.01602136 -1728.60502065]\n [ -832.49116377 -1949.71022757]\n [ -611.38595684 -1956.18536999]\n [ -604.91081443 -1735.08016306]\n [ -598.43567201 -1513.97495613]\n [ -591.9605296  -1292.8697492 ]\n [ -585.48538718 -1071.76454228]\n [ -364.38018026 -1078.23968469]\n [ -370.85532267 -1299.34489162]\n [ -377.33046509 -1520.45009855]\n [ -383.8056075  -1741.55530548]\n [ -390.28074992 -1962.6605124 ]\n [ -169.17554299 -1969.13565482]\n [ -162.70040057 -1748.03044789]\n [ -156.22525816 -1526.92524096]\n [ -149.75011574 -1305.82003403]\n [ -143.27497333 -1084.71482711]\n [   77.8302336  -1091.18996952]\n [   71.35509119 -1312.29517645]\n [   64.87994877 -1533.40038338]\n [   58.40480635 -1754.50559031]\n [   51.92966394 -1975.61079723]\n [  273.03487087 -1982.08593965]\n [  279.51001328 -1760.98073272]\n [  285.9851557  -1539.87552579]\n [  292.46029811 -1318.77031887]\n [  298.93544053 -1097.66511194]\n [-1835.23474075 -1594.90507144]\n [-1828.75959834 -1373.79986451]\n [-1822.2873832  -1152.79461473]\n [-1815.81224079  -931.6894078 ]\n [-1809.33709837  -710.58420087]\n [-1802.86195596  -489.47899394]\n [-1581.75674903  -495.95413636]\n [-1588.23189145  -717.05934329]\n [-1594.70703386  -938.16455021]\n [-1601.18217628 -1159.26975714]\n [-1607.65439141 -1380.27500692]\n [-1614.12953383 -1601.38021385]\n [-1620.60467624 -1822.48542078]\n [-1410.0470878  -1951.36425981]\n [-1404.21126324 -1752.08969356]\n [-1394.98612897 -1568.26096105]\n [-1377.78700337  -326.09210837]\n [-1136.38344687  -202.7658151 ]\n [ -917.40858173   -59.59446693]\n [ -725.25221885    84.36227035]\n [ -608.62096927   268.87721966]\n [ -603.3463042    448.99000102]\n [ -843.05402518   252.73281209]\n [-1086.26346341    68.08310249]\n [-1337.69077851  -135.50416239]]\n"
     ]
    }
   ],
   "source": [
    "new_positions = np.dot(old_positions, R) + T\n",
    "print(new_positions)"
   ]
  },
  {
   "cell_type": "code",
   "execution_count": 13,
   "metadata": {},
   "outputs": [
    {
     "output_type": "stream",
     "name": "stdout",
     "text": [
      "D:\\Shiwei\\20210423-E14_Forebrain_smRNA\\translated_positions_all.txt\n"
     ]
    }
   ],
   "source": [
    "save_filename = os.path.join(data_folder, 'translated_positions_all.txt')\n",
    "print(save_filename)\n",
    "np.savetxt(save_filename, new_positions, fmt='%.2f', delimiter=',')"
   ]
  },
  {
   "cell_type": "markdown",
   "metadata": {},
   "source": [
    "# further adjust manually"
   ]
  },
  {
   "cell_type": "code",
   "execution_count": 14,
   "metadata": {},
   "outputs": [
    {
     "output_type": "execute_result",
     "data": {
      "text/plain": [
       "array([[-97.35, -15.33],\n",
       "       [-96.08, -20.32],\n",
       "       [-93.  , -21.  ]])"
      ]
     },
     "metadata": {},
     "execution_count": 14
    }
   ],
   "source": [
    "adjust_before = np.array([[508.65,621.43],[-388.72, 205.12],[-1034.2, -1279.9]])\n",
    "\n",
    "adjust_after = np.array([[411.3,606.1],[-484.8, 184.8],[-1127.2,-1300.9]])\n",
    "\n",
    "\n",
    "delta_adjust = adjust_after - adjust_before\n",
    "delta_adjust"
   ]
  },
  {
   "cell_type": "code",
   "execution_count": 16,
   "metadata": {},
   "outputs": [
    {
     "output_type": "execute_result",
     "data": {
      "text/plain": [
       "array([-95.47666667, -18.88333333])"
      ]
     },
     "metadata": {},
     "execution_count": 16
    }
   ],
   "source": [
    "manual_shift= np.mean(delta_adjust,axis=0)\n",
    "manual_shift"
   ]
  },
  {
   "cell_type": "code",
   "execution_count": 17,
   "metadata": {},
   "outputs": [],
   "source": [
    "#manual_shift = np.array([-28.1,  -8.7])\n",
    "adjusted_new_positions = new_positions + manual_shift"
   ]
  },
  {
   "cell_type": "code",
   "execution_count": 18,
   "metadata": {},
   "outputs": [
    {
     "output_type": "stream",
     "name": "stdout",
     "text": [
      "D:\\Shiwei\\20210423-E14_Forebrain_smRNA\\adjusted_translated_positions_all.txt\n"
     ]
    }
   ],
   "source": [
    "adj_save_filename = os.path.join(data_folder, 'adjusted_translated_positions_all.txt')\n",
    "print(adj_save_filename)\n",
    "np.savetxt(adj_save_filename, adjusted_new_positions, fmt='%.2f', delimiter=',')"
   ]
  },
  {
   "cell_type": "code",
   "execution_count": null,
   "metadata": {},
   "outputs": [],
   "source": []
  }
 ],
 "metadata": {
  "kernelspec": {
   "name": "python3",
   "display_name": "Python 3.5.4 64-bit ('py35': conda)"
  },
  "language_info": {
   "codemirror_mode": {
    "name": "ipython",
    "version": 3
   },
   "file_extension": ".py",
   "mimetype": "text/x-python",
   "name": "python",
   "nbconvert_exporter": "python",
   "pygments_lexer": "ipython3",
   "version": "3.5.4"
  }
 },
 "nbformat": 4,
 "nbformat_minor": 4
}