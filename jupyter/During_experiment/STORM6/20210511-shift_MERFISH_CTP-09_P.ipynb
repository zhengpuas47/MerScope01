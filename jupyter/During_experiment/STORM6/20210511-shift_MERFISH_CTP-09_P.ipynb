{
 "cells": [
  {
   "cell_type": "markdown",
   "metadata": {},
   "source": [
    "# calculate rotation and transposition matrix"
   ]
  },
  {
   "cell_type": "code",
   "execution_count": 5,
   "metadata": {},
   "outputs": [],
   "source": [
    "data_folder = r'D:\\Shiwei\\20210503-P_Forebrain_CTP09_from0423smRNA_cleared'\n",
    "before_position_file = os.path.join(data_folder, '10x_positions_before.txt')\n",
    "after_position_file = os.path.join(data_folder, '10x_positions_after.txt')\n"
   ]
  },
  {
   "cell_type": "code",
   "execution_count": 6,
   "metadata": {},
   "outputs": [],
   "source": [
    "import numpy as np\n",
    "import os, sys\n",
    "# 1. alignment for manually picked points\n",
    "def align_manual_points(pos_file_before, pos_file_after,\n",
    "                        save=True, save_folder=None, save_filename='', verbose=True):\n",
    "    \"\"\"Function to align two manually picked position files, \n",
    "    they should follow exactly the same order and of same length.\n",
    "    Inputs:\n",
    "        pos_file_before: full filename for positions file before translation\n",
    "        pos_file_after: full filename for positions file after translation\n",
    "        save: whether save rotation and translation info, bool (default: True)\n",
    "        save_folder: where to save rotation and translation info, None or string (default: same folder as pos_file_before)\n",
    "        save_filename: filename specified to save rotation and translation points\n",
    "        verbose: say something! bool (default: True)\n",
    "    Outputs:\n",
    "        R: rotation for positions, 2x2 array\n",
    "        T: traslation of positions, array of 2\n",
    "    Here's example for how to translate points\n",
    "        translated_ps_before = np.dot(ps_before, R) + t\n",
    "    \"\"\"\n",
    "    # load position_before\n",
    "    if os.path.isfile(pos_file_before):\n",
    "        ps_before = np.loadtxt(pos_file_before, delimiter=',')\n",
    "\n",
    "    # load position_after\n",
    "    if os.path.isfile(pos_file_after):\n",
    "        ps_after = np.loadtxt(pos_file_after, delimiter=',')\n",
    "\n",
    "    # do SVD decomposition to get best fit for rigid-translation\n",
    "    c_before = np.mean(ps_before, axis=0)\n",
    "    c_after = np.mean(ps_after, axis=0)\n",
    "    H = np.dot((ps_before - c_before).T, (ps_after - c_after))\n",
    "    U, _, V = np.linalg.svd(H)  # do SVD\n",
    "    # calcluate rotation\n",
    "    R = np.dot(V, U.T).T\n",
    "    if np.linalg.det(R) < 0:\n",
    "        R[:, -1] = -1 * R[:, -1]\n",
    "    # calculate translation\n",
    "    t = - np.dot(c_before, R) + c_after\n",
    "    # here's example for how to translate points\n",
    "    # translated_ps_before = np.dot(ps_before, R) + t\n",
    "    # save\n",
    "    if save:\n",
    "        if save_folder is None:\n",
    "            save_folder = os.path.dirname(pos_file_before)\n",
    "        if not os.path.exists(save_folder):\n",
    "            os.makedirs(save_folder)\n",
    "        if len(save_filename) > 0:\n",
    "            save_filename += '_'\n",
    "        rotation_name = os.path.join(save_folder, save_filename+'rotation')\n",
    "        translation_name = os.path.join(\n",
    "            save_folder, save_filename+'translation')\n",
    "        np.save(rotation_name, R)\n",
    "        np.save(translation_name, t)\n",
    "\n",
    "    return R, t"
   ]
  },
  {
   "cell_type": "code",
   "execution_count": 7,
   "metadata": {},
   "outputs": [],
   "source": [
    "R, T = align_manual_points(before_position_file, after_position_file, save=False)\n"
   ]
  },
  {
   "cell_type": "code",
   "execution_count": 8,
   "metadata": {},
   "outputs": [
    {
     "output_type": "execute_result",
     "data": {
      "text/plain": [
       "(array([[ 0.99997233,  0.00743838],\n",
       "        [-0.00743838,  0.99997233]]), array([ 127.58025184, 1222.50281245]))"
      ]
     },
     "metadata": {},
     "execution_count": 8
    }
   ],
   "source": [
    "R, T"
   ]
  },
  {
   "cell_type": "markdown",
   "metadata": {},
   "source": [
    "# transpose 60x positions"
   ]
  },
  {
   "cell_type": "code",
   "execution_count": 9,
   "metadata": {},
   "outputs": [],
   "source": [
    "old_positions = np.loadtxt(os.path.join(data_folder, 'positions_all.txt'), delimiter=',')"
   ]
  },
  {
   "cell_type": "code",
   "execution_count": 11,
   "metadata": {},
   "outputs": [
    {
     "output_type": "execute_result",
     "data": {
      "text/plain": [
       "array([[-2540.9,   201.8],\n",
       "       [-2540.9,   423. ],\n",
       "       [-2540.9,   644.2],\n",
       "       [-2540.9,   865.3],\n",
       "       [-2540.9,  1086.5],\n",
       "       [-2540.9,  1307.7],\n",
       "       [-2319.7,  1307.7],\n",
       "       [-2319.7,  1086.5],\n",
       "       [-2319.7,   865.3],\n",
       "       [-2319.7,   644.2],\n",
       "       [-2319.7,   423. ],\n",
       "       [-2319.7,   201.8],\n",
       "       [-2098.5,   201.8],\n",
       "       [-2098.5,   423. ],\n",
       "       [-2098.5,   644.2],\n",
       "       [-2098.5,   865.3],\n",
       "       [-2098.5,  1086.5],\n",
       "       [-2098.5,  1307.7],\n",
       "       [-1877.4,  1307.7],\n",
       "       [-1877.4,  1086.5],\n",
       "       [-1877.4,   865.3],\n",
       "       [-1877.4,   644.2],\n",
       "       [-1877.4,   423. ],\n",
       "       [-1877.4,   201.8],\n",
       "       [-1656.2,   201.8],\n",
       "       [-1656.2,   423. ],\n",
       "       [-1656.2,   644.2],\n",
       "       [-1656.2,   865.3],\n",
       "       [-1656.2,  1086.5],\n",
       "       [-1656.2,  1307.7],\n",
       "       [-1435. ,  1307.7],\n",
       "       [-1435. ,  1086.5],\n",
       "       [-1435. ,   865.3],\n",
       "       [-1435. ,   644.2],\n",
       "       [-1435. ,   423. ],\n",
       "       [-1435. ,   201.8],\n",
       "       [-3259.9,  1655.7],\n",
       "       [-3259.9,  1876.8],\n",
       "       [-3259.9,  2098. ],\n",
       "       [-3038.7,  2098. ],\n",
       "       [-3038.7,  1876.8],\n",
       "       [-3038.7,  1655.7],\n",
       "       [-2817.5,  1655.7],\n",
       "       [-2817.5,  1876.8],\n",
       "       [-2817.5,  2098. ],\n",
       "       [-2596.3,  2098. ],\n",
       "       [-2596.3,  1876.8],\n",
       "       [-2596.3,  1655.7],\n",
       "       [-2375.1,  1655.7],\n",
       "       [-2375.1,  1876.8],\n",
       "       [-2375.1,  2098. ],\n",
       "       [-2153.9,  2098. ],\n",
       "       [-2153.9,  1876.8],\n",
       "       [-2153.9,  1655.7],\n",
       "       [-1932.8,  1655.7],\n",
       "       [-1932.8,  1876.8],\n",
       "       [-1932.8,  2098. ],\n",
       "       [-1711.6,  2098. ],\n",
       "       [-1711.6,  1876.8],\n",
       "       [-1711.6,  1655.7],\n",
       "       [-1490.4,  1655.7],\n",
       "       [-1490.4,  1876.8],\n",
       "       [-1490.4,  2098. ],\n",
       "       [-1269.2,  2098. ],\n",
       "       [-1269.2,  1876.8],\n",
       "       [-1269.2,  1655.7],\n",
       "       [-1048. ,  1655.7],\n",
       "       [-1048. ,  1876.8],\n",
       "       [-1048. ,  2098. ],\n",
       "       [ -826.8,  2098. ],\n",
       "       [ -826.8,  1876.8],\n",
       "       [ -826.8,  1655.7],\n",
       "       [-2150. ,  2738.4],\n",
       "       [-2150. ,  2959.6],\n",
       "       [-2150. ,  3180.8],\n",
       "       [-2150. ,  3401.9],\n",
       "       [-2150. ,  3623.1],\n",
       "       [-2150. ,  3844.3],\n",
       "       [-1928.8,  3844.3],\n",
       "       [-1928.8,  3623.1],\n",
       "       [-1928.8,  3401.9],\n",
       "       [-1928.8,  3180.8],\n",
       "       [-1928.8,  2959.6],\n",
       "       [-1928.8,  2738.4],\n",
       "       [-1707.6,  2738.4],\n",
       "       [-1707.6,  2959.6],\n",
       "       [-1707.6,  3180.8],\n",
       "       [-1707.6,  3401.9],\n",
       "       [-1707.6,  3623.1],\n",
       "       [-1707.6,  3844.3],\n",
       "       [-1486.5,  3844.3],\n",
       "       [-1486.5,  3623.1],\n",
       "       [-1486.5,  3401.9],\n",
       "       [-1486.5,  3180.8],\n",
       "       [-1486.5,  2959.6],\n",
       "       [-1486.5,  2738.4],\n",
       "       [-1265.3,  2738.4],\n",
       "       [-1265.3,  2959.6],\n",
       "       [-1265.3,  3180.8],\n",
       "       [-1265.3,  3401.9],\n",
       "       [-1265.3,  3623.1],\n",
       "       [-1265.3,  3844.3],\n",
       "       [-1044.1,  3844.3],\n",
       "       [-1044.1,  3623.1],\n",
       "       [-1044.1,  3401.9],\n",
       "       [-1044.1,  3180.8],\n",
       "       [-1044.1,  2959.6],\n",
       "       [-1044.1,  2738.4]])"
      ]
     },
     "metadata": {},
     "execution_count": 11
    }
   ],
   "source": [
    "old_positions"
   ]
  },
  {
   "cell_type": "code",
   "execution_count": 10,
   "metadata": {
    "scrolled": true
   },
   "outputs": [
    {
     "output_type": "stream",
     "name": "stdout",
     "text": [
      "[[-2414.75051952  1405.39704156]\n [-2416.3958899   1626.59092202]\n [-2418.04126028  1847.78480249]\n [-2419.68588682  2068.87868573]\n [-2421.3312572   2290.07256619]\n [-2422.97662758  2511.26644666]\n [-2201.78274711  2512.91181704]\n [-2200.13737673  2291.71793657]\n [-2198.49200635  2070.52405611]\n [-2196.84737981  1849.43017287]\n [-2195.20200943  1628.2362924 ]\n [-2193.55663905  1407.04241194]\n [-1972.36275858  1408.68778232]\n [-1974.00812896  1629.88166278]\n [-1975.65349934  1851.07554325]\n [-1977.29812588  2072.16942649]\n [-1978.94349626  2293.36330695]\n [-1980.58886664  2514.55718742]\n [-1759.49498341  2516.20181396]\n [-1757.84961303  2295.0079335 ]\n [-1756.20424265  2073.81405303]\n [-1754.55961611  1852.72016979]\n [-1752.91424573  1631.52628933]\n [-1751.26887535  1410.33240886]\n [-1530.07499488  1411.97777924]\n [-1531.72036526  1633.17165971]\n [-1533.36573564  1854.36554017]\n [-1535.01036218  2075.45942341]\n [-1536.65573256  2296.65330388]\n [-1538.30110294  2517.84718434]\n [-1317.10722247  2519.49255472]\n [-1315.46185209  2298.29867426]\n [-1313.81648171  2077.10479379]\n [-1312.17185517  1856.01091055]\n [-1310.52648479  1634.81703009]\n [-1308.88111441  1413.62314962]\n [-3144.54529371  2853.90862161]\n [-3146.18992025  3075.00250485]\n [-3147.83529063  3296.19638531]\n [-2926.64141016  3297.84175569]\n [-2924.99603978  3076.64787523]\n [-2923.35141324  2855.55399199]\n [-2702.15753277  2857.19936237]\n [-2703.80215932  3078.29324561]\n [-2705.4475297   3299.48712607]\n [-2484.25364923  3301.13249646]\n [-2482.60827885  3079.93861599]\n [-2480.96365231  2858.84473275]\n [-2259.76977184  2860.49010313]\n [-2261.41439838  3081.58398637]\n [-2263.05976876  3302.77786684]\n [-2041.86588829  3304.42323722]\n [-2040.22051791  3083.22935675]\n [-2038.57589137  2862.13547351]\n [-1817.48200814  2863.78010006]\n [-1819.12663468  3084.87398329]\n [-1820.77200506  3306.06786376]\n [-1599.57812459  3307.71323414]\n [-1597.93275421  3086.51935367]\n [-1596.28812767  2865.42547044]\n [-1375.0942472   2867.07084082]\n [-1376.73887374  3088.16472405]\n [-1378.38424412  3309.35860452]\n [-1157.19036366  3311.0039749 ]\n [-1155.54499328  3089.81009443]\n [-1153.90036674  2868.7162112 ]\n [ -932.70648627  2870.36158158]\n [ -934.35111281  3091.45546481]\n [ -935.99648319  3312.64934528]\n [ -714.80260272  3314.29471566]\n [ -713.15723234  3093.10083519]\n [ -711.5126058   2872.00695196]\n [-2042.72953684  3944.83453014]\n [-2044.37490722  4166.02841061]\n [-2046.0202776   4387.22229108]\n [-2047.66490414  4608.31617431]\n [-2049.31027452  4829.51005478]\n [-2050.9556449   5050.70393525]\n [-1829.76176443  5052.34930563]\n [-1828.11639405  4831.15542516]\n [-1826.47102367  4609.96154469]\n [-1824.82639713  4388.86766146]\n [-1823.18102675  4167.67378099]\n [-1821.53565637  3946.47990052]\n [-1600.3417759   3948.1252709 ]\n [-1601.98714628  4169.31915137]\n [-1603.63251666  4390.51303184]\n [-1605.2771432   4611.60691507]\n [-1606.92251358  4832.80079554]\n [-1608.56788396  5053.99467601]\n [-1387.47400073  5055.63930255]\n [-1385.82863035  4834.44542208]\n [-1384.18325997  4613.25154162]\n [-1382.53863343  4392.15765838]\n [-1380.89326305  4170.96377791]\n [-1379.24789267  3949.76989745]\n [-1158.0540122   3951.41526783]\n [-1159.69938258  4172.60914829]\n [-1161.34475296  4393.80302876]\n [-1162.9893795   4614.896912  ]\n [-1164.63474988  4836.09079246]\n [-1166.28012026  5057.28467293]\n [ -945.08623979  5058.93004331]\n [ -943.44086941  4837.73616284]\n [ -941.79549903  4616.54228238]\n [ -940.15087249  4395.44839914]\n [ -938.50550211  4174.25451867]\n [ -936.86013173  3953.06063821]]\n"
     ]
    }
   ],
   "source": [
    "new_positions = np.dot(old_positions, R) + T\n",
    "print(new_positions)"
   ]
  },
  {
   "cell_type": "code",
   "execution_count": 12,
   "metadata": {},
   "outputs": [
    {
     "output_type": "stream",
     "name": "stdout",
     "text": [
      "D:\\Shiwei\\20210503-P_Forebrain_CTP09_from0423smRNA_cleared\\translated_positions_all.txt\n"
     ]
    }
   ],
   "source": [
    "save_filename = os.path.join(data_folder, 'translated_positions_all.txt')\n",
    "print(save_filename)\n",
    "np.savetxt(save_filename, new_positions, fmt='%.2f', delimiter=',')"
   ]
  },
  {
   "cell_type": "markdown",
   "metadata": {},
   "source": [
    "# further adjust manually"
   ]
  },
  {
   "cell_type": "code",
   "execution_count": 13,
   "metadata": {},
   "outputs": [
    {
     "output_type": "execute_result",
     "data": {
      "text/plain": [
       "array([[-82.65, -14.6 ],\n",
       "       [-81.49, -15.19],\n",
       "       [-81.11, -14.85]])"
      ]
     },
     "metadata": {},
     "execution_count": 13
    }
   ],
   "source": [
    "adjust_before = np.array([[-2414.75, 1405.4],[-1317.11, 2519.49],[-3147.84, 3296.2]])\n",
    "\n",
    "adjust_after = np.array([[-2497.4, 1390.8],[-1398.6, 2504.3],[-3228.95, 3281.35]])\n",
    "\n",
    "\n",
    "delta_adjust = adjust_after - adjust_before\n",
    "delta_adjust"
   ]
  },
  {
   "cell_type": "code",
   "execution_count": 14,
   "metadata": {},
   "outputs": [
    {
     "output_type": "execute_result",
     "data": {
      "text/plain": [
       "array([-81.75, -14.88])"
      ]
     },
     "metadata": {},
     "execution_count": 14
    }
   ],
   "source": [
    "manual_shift= np.mean(delta_adjust,axis=0)\n",
    "manual_shift"
   ]
  },
  {
   "cell_type": "code",
   "execution_count": 15,
   "metadata": {},
   "outputs": [],
   "source": [
    "#manual_shift = np.array([-28.1,  -8.7])\n",
    "adjusted_new_positions = new_positions + manual_shift"
   ]
  },
  {
   "cell_type": "code",
   "execution_count": 16,
   "metadata": {},
   "outputs": [
    {
     "output_type": "stream",
     "name": "stdout",
     "text": [
      "D:\\Shiwei\\20210503-P_Forebrain_CTP09_from0423smRNA_cleared\\adjusted_translated_positions_all.txt\n"
     ]
    }
   ],
   "source": [
    "adj_save_filename = os.path.join(data_folder, 'adjusted_translated_positions_all.txt')\n",
    "print(adj_save_filename)\n",
    "np.savetxt(adj_save_filename, adjusted_new_positions, fmt='%.2f', delimiter=',')"
   ]
  },
  {
   "cell_type": "code",
   "execution_count": null,
   "metadata": {},
   "outputs": [],
   "source": []
  }
 ],
 "metadata": {
  "kernelspec": {
   "name": "python354jvsc74a57bd0ba31b293437833cd1da4eacbe7e4e0c2a00ef3a0e32d0a25162271aee7ff4fde",
   "display_name": "Python 3.5.4 64-bit ('py35': conda)"
  },
  "language_info": {
   "codemirror_mode": {
    "name": "ipython",
    "version": 3
   },
   "file_extension": ".py",
   "mimetype": "text/x-python",
   "name": "python",
   "nbconvert_exporter": "python",
   "pygments_lexer": "ipython3",
   "version": "3.5.4"
  }
 },
 "nbformat": 4,
 "nbformat_minor": 4
}