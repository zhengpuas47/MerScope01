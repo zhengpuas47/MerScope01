{
 "cells": [
  {
   "cell_type": "markdown",
   "metadata": {},
   "source": [
    "# calculate rotation and transposition matrix"
   ]
  },
  {
   "cell_type": "code",
   "execution_count": 1,
   "metadata": {},
   "outputs": [],
   "source": [
    "import os\n",
    "\n",
    "data_folder = r'D:\\Shiwei\\20210624-P_Forebrain_smFISH_CTP09'\n",
    "before_position_file = os.path.join(data_folder, '10x_positions_before.txt')\n",
    "after_position_file = os.path.join(data_folder, '10x_positions_after.txt')\n"
   ]
  },
  {
   "cell_type": "code",
   "execution_count": 2,
   "metadata": {},
   "outputs": [],
   "source": [
    "import numpy as np\n",
    "import os, sys\n",
    "# 1. alignment for manually picked points\n",
    "def align_manual_points(pos_file_before, pos_file_after,\n",
    "                        save=True, save_folder=None, save_filename='', verbose=True):\n",
    "    \"\"\"Function to align two manually picked position files, \n",
    "    they should follow exactly the same order and of same length.\n",
    "    Inputs:\n",
    "        pos_file_before: full filename for positions file before translation\n",
    "        pos_file_after: full filename for positions file after translation\n",
    "        save: whether save rotation and translation info, bool (default: True)\n",
    "        save_folder: where to save rotation and translation info, None or string (default: same folder as pos_file_before)\n",
    "        save_filename: filename specified to save rotation and translation points\n",
    "        verbose: say something! bool (default: True)\n",
    "    Outputs:\n",
    "        R: rotation for positions, 2x2 array\n",
    "        T: traslation of positions, array of 2\n",
    "    Here's example for how to translate points\n",
    "        translated_ps_before = np.dot(ps_before, R) + t\n",
    "    \"\"\"\n",
    "    # load position_before\n",
    "    if os.path.isfile(pos_file_before):\n",
    "        ps_before = np.loadtxt(pos_file_before, delimiter=',')\n",
    "\n",
    "    # load position_after\n",
    "    if os.path.isfile(pos_file_after):\n",
    "        ps_after = np.loadtxt(pos_file_after, delimiter=',')\n",
    "\n",
    "    # do SVD decomposition to get best fit for rigid-translation\n",
    "    c_before = np.mean(ps_before, axis=0)\n",
    "    c_after = np.mean(ps_after, axis=0)\n",
    "    H = np.dot((ps_before - c_before).T, (ps_after - c_after))\n",
    "    U, _, V = np.linalg.svd(H)  # do SVD\n",
    "    # calcluate rotation\n",
    "    R = np.dot(V, U.T).T\n",
    "    if np.linalg.det(R) < 0:\n",
    "        R[:, -1] = -1 * R[:, -1]\n",
    "    # calculate translation\n",
    "    t = - np.dot(c_before, R) + c_after\n",
    "    # here's example for how to translate points\n",
    "    # translated_ps_before = np.dot(ps_before, R) + t\n",
    "    # save\n",
    "    if save:\n",
    "        if save_folder is None:\n",
    "            save_folder = os.path.dirname(pos_file_before)\n",
    "        if not os.path.exists(save_folder):\n",
    "            os.makedirs(save_folder)\n",
    "        if len(save_filename) > 0:\n",
    "            save_filename += '_'\n",
    "        rotation_name = os.path.join(save_folder, save_filename+'rotation')\n",
    "        translation_name = os.path.join(\n",
    "            save_folder, save_filename+'translation')\n",
    "        np.save(rotation_name, R)\n",
    "        np.save(translation_name, t)\n",
    "\n",
    "    return R, t"
   ]
  },
  {
   "cell_type": "code",
   "execution_count": 3,
   "metadata": {},
   "outputs": [],
   "source": [
    "R, T = align_manual_points(before_position_file, after_position_file, save=False)\n"
   ]
  },
  {
   "cell_type": "code",
   "execution_count": 4,
   "metadata": {},
   "outputs": [
    {
     "data": {
      "text/plain": [
       "(array([[ 0.99998462, -0.00554629],\n",
       "        [ 0.00554629,  0.99998462]]),\n",
       " array([ 521.80790523, -404.95187017]))"
      ]
     },
     "execution_count": 4,
     "metadata": {},
     "output_type": "execute_result"
    }
   ],
   "source": [
    "R, T"
   ]
  },
  {
   "cell_type": "markdown",
   "metadata": {},
   "source": [
    "# transpose 60x positions"
   ]
  },
  {
   "cell_type": "code",
   "execution_count": 5,
   "metadata": {},
   "outputs": [],
   "source": [
    "old_positions = np.loadtxt(os.path.join(data_folder, 'positions_all.txt'), delimiter=',')"
   ]
  },
  {
   "cell_type": "code",
   "execution_count": 6,
   "metadata": {},
   "outputs": [
    {
     "data": {
      "text/plain": [
       "array([[-2035.4,  5693.3],\n",
       "       [-2035.4,  5903.3],\n",
       "       [-2035.4,  6113.3],\n",
       "       [-2035.4,  6323.3],\n",
       "       [-2035.4,  6533.3],\n",
       "       [-1825.4,  6533.3],\n",
       "       [-1825.4,  6323.3],\n",
       "       [-1825.4,  6113.3],\n",
       "       [-1825.4,  5903.3],\n",
       "       [-1825.4,  5693.3],\n",
       "       [-1615.4,  5693.3],\n",
       "       [-1615.4,  5903.3],\n",
       "       [-1615.4,  6113.3],\n",
       "       [-1615.4,  6323.3],\n",
       "       [-1615.4,  6533.3],\n",
       "       [-1405.4,  6533.3],\n",
       "       [-1405.4,  6323.3],\n",
       "       [-1405.4,  6113.3],\n",
       "       [-1405.4,  5903.3],\n",
       "       [-1405.4,  5693.3],\n",
       "       [-1195.4,  5693.3],\n",
       "       [-1195.4,  5903.3],\n",
       "       [-1195.4,  6113.3],\n",
       "       [-1195.4,  6323.3],\n",
       "       [-1195.4,  6533.3],\n",
       "       [ -985.4,  6533.3],\n",
       "       [ -985.4,  6323.3],\n",
       "       [ -985.4,  6113.3],\n",
       "       [ -985.4,  5903.3],\n",
       "       [ -985.4,  5693.3],\n",
       "       [  575.6,  5488.8],\n",
       "       [  575.6,  5698.8],\n",
       "       [  575.6,  5908.8],\n",
       "       [  575.6,  6118.8],\n",
       "       [  575.6,  6328.8],\n",
       "       [  785.6,  6328.8],\n",
       "       [  785.6,  6118.8],\n",
       "       [  785.6,  5908.8],\n",
       "       [  785.6,  5698.8],\n",
       "       [  785.6,  5488.8],\n",
       "       [  995.6,  5488.8],\n",
       "       [  995.6,  5698.8],\n",
       "       [  995.6,  5908.8],\n",
       "       [  995.6,  6118.8],\n",
       "       [  995.6,  6328.8],\n",
       "       [ 1205.6,  6328.8],\n",
       "       [ 1205.6,  6118.8],\n",
       "       [ 1205.6,  5908.8],\n",
       "       [ 1205.6,  5698.8],\n",
       "       [ 1205.6,  5488.8],\n",
       "       [ 1415.6,  5488.8],\n",
       "       [ 1415.6,  5698.8],\n",
       "       [ 1415.6,  5908.8],\n",
       "       [ 1415.6,  6118.8],\n",
       "       [ 1415.6,  6328.8],\n",
       "       [ 1625.6,  6328.8],\n",
       "       [ 1625.6,  6118.8],\n",
       "       [ 1625.6,  5908.8],\n",
       "       [ 1625.6,  5698.8],\n",
       "       [ 1625.6,  5488.8],\n",
       "       [  926.6,  4229.5],\n",
       "       [  926.6,  4439.5],\n",
       "       [  926.6,  4649.5],\n",
       "       [ 1136.6,  4649.5],\n",
       "       [ 1136.6,  4439.5],\n",
       "       [ 1136.6,  4229.5],\n",
       "       [ 1346.6,  4229.5],\n",
       "       [ 1346.6,  4439.5],\n",
       "       [ 1346.6,  4649.5],\n",
       "       [ 1556.6,  4649.5],\n",
       "       [ 1556.6,  4439.5],\n",
       "       [ 1556.6,  4229.5],\n",
       "       [ 1766.6,  4229.5],\n",
       "       [ 1766.6,  4439.5],\n",
       "       [ 1766.6,  4649.5],\n",
       "       [ 1976.6,  4649.5],\n",
       "       [ 1976.6,  4439.5],\n",
       "       [ 1976.6,  4229.5],\n",
       "       [  664.2,  3308. ],\n",
       "       [  664.2,  3518. ],\n",
       "       [  664.2,  3728. ],\n",
       "       [  874.2,  3728. ],\n",
       "       [  874.2,  3518. ],\n",
       "       [  874.2,  3308. ],\n",
       "       [ 1084.2,  3308. ],\n",
       "       [ 1084.2,  3518. ],\n",
       "       [ 1084.2,  3728. ],\n",
       "       [ 1294.2,  3728. ],\n",
       "       [ 1294.2,  3518. ],\n",
       "       [ 1294.2,  3308. ]])"
      ]
     },
     "execution_count": 6,
     "metadata": {},
     "output_type": "execute_result"
    }
   ],
   "source": [
    "old_positions"
   ]
  },
  {
   "cell_type": "code",
   "execution_count": 7,
   "metadata": {
    "scrolled": true
   },
   "outputs": [
    {
     "name": "stdout",
     "output_type": "stream",
     "text": [
      "[[-1481.98408432  5299.54948513]\n",
      " [-1480.819363    5509.54625517]\n",
      " [-1479.65464167  5719.5430252 ]\n",
      " [-1478.48992035  5929.53979523]\n",
      " [-1477.32519902  6139.53656527]\n",
      " [-1267.32842899  6138.37184394]\n",
      " [-1268.49315032  5928.37507391]\n",
      " [-1269.65787164  5718.37830387]\n",
      " [-1270.82259297  5508.38153384]\n",
      " [-1271.98731429  5298.38476381]\n",
      " [-1061.99054426  5297.22004248]\n",
      " [-1060.82582293  5507.21681252]\n",
      " [-1059.66110161  5717.21358255]\n",
      " [-1058.49638028  5927.21035258]\n",
      " [-1057.33165896  6137.20712262]\n",
      " [ -847.33488893  6136.04240129]\n",
      " [ -848.49961025  5926.04563126]\n",
      " [ -849.66433158  5716.04886122]\n",
      " [ -850.8290529   5506.05209119]\n",
      " [ -851.99377423  5296.05532116]\n",
      " [ -641.99700419  5294.89059983]\n",
      " [ -640.83228287  5504.88736987]\n",
      " [ -639.66756154  5714.8841399 ]\n",
      " [ -638.50284022  5924.88090993]\n",
      " [ -637.33811889  6134.87767997]\n",
      " [ -427.34134886  6133.71295864]\n",
      " [ -428.50607018  5923.71618861]\n",
      " [ -429.67079151  5713.71941858]\n",
      " [ -430.83551283  5503.72264854]\n",
      " [ -432.00023416  5293.72587851]\n",
      " [ 1127.8415397   5080.57126203]\n",
      " [ 1129.00626102  5290.56803207]\n",
      " [ 1130.17098235  5500.5648021 ]\n",
      " [ 1131.33570367  5710.56157213]\n",
      " [ 1132.500425    5920.55834217]\n",
      " [ 1342.49719503  5919.39362084]\n",
      " [ 1341.33247371  5709.39685081]\n",
      " [ 1340.16775238  5499.40008077]\n",
      " [ 1339.00303106  5289.40331074]\n",
      " [ 1337.83830973  5079.40654071]\n",
      " [ 1547.83507977  5078.24181938]\n",
      " [ 1548.99980109  5288.23858942]\n",
      " [ 1550.16452241  5498.23535945]\n",
      " [ 1551.32924374  5708.23212948]\n",
      " [ 1552.49396506  5918.22889952]\n",
      " [ 1762.4907351   5917.06417819]\n",
      " [ 1761.32601377  5707.06740816]\n",
      " [ 1760.16129245  5497.07063812]\n",
      " [ 1758.99657112  5287.07386809]\n",
      " [ 1757.8318498   5077.07709806]\n",
      " [ 1967.82861983  5075.91237673]\n",
      " [ 1968.99334116  5285.90914677]\n",
      " [ 1970.15806248  5495.9059168 ]\n",
      " [ 1971.32278381  5705.90268683]\n",
      " [ 1972.48750513  5915.89945687]\n",
      " [ 2182.48427516  5914.73473554]\n",
      " [ 2181.31955384  5704.73796551]\n",
      " [ 2180.15483251  5494.74119548]\n",
      " [ 2178.99011119  5284.74442544]\n",
      " [ 2177.82538986  5074.74765541]\n",
      " [ 1471.8516955   3819.34388257]\n",
      " [ 1473.01641682  4029.3406526 ]\n",
      " [ 1474.18113814  4239.33742264]\n",
      " [ 1684.17790818  4238.17270131]\n",
      " [ 1683.01318685  4028.17593128]\n",
      " [ 1681.84846553  3818.17916125]\n",
      " [ 1891.84523556  3817.01443992]\n",
      " [ 1893.00995689  4027.01120995]\n",
      " [ 1894.17467821  4237.00797999]\n",
      " [ 2104.17144824  4235.84325866]\n",
      " [ 2103.00672692  4025.84648863]\n",
      " [ 2101.84200559  3815.8497186 ]\n",
      " [ 2311.83877563  3814.68499727]\n",
      " [ 2313.00349695  4024.6817673 ]\n",
      " [ 2314.16821828  4234.67853734]\n",
      " [ 2524.16498831  4233.51381601]\n",
      " [ 2523.00026698  4023.51704598]\n",
      " [ 2521.83554566  3813.52027595]\n",
      " [ 1204.34482332  2899.313403  ]\n",
      " [ 1205.50954464  3109.31017303]\n",
      " [ 1206.67426597  3319.30694307]\n",
      " [ 1416.671036    3318.14222174]\n",
      " [ 1415.50631467  3108.14545171]\n",
      " [ 1414.34159335  2898.14868168]\n",
      " [ 1624.33836338  2896.98396035]\n",
      " [ 1625.50308471  3106.98073038]\n",
      " [ 1626.66780603  3316.97750042]\n",
      " [ 1836.66457606  3315.81277909]\n",
      " [ 1835.49985474  3105.81600906]\n",
      " [ 1834.33513342  2895.81923903]]\n"
     ]
    }
   ],
   "source": [
    "new_positions = np.dot(old_positions, R) + T\n",
    "print(new_positions)"
   ]
  },
  {
   "cell_type": "code",
   "execution_count": 8,
   "metadata": {},
   "outputs": [
    {
     "name": "stdout",
     "output_type": "stream",
     "text": [
      "D:\\Shiwei\\20210624-P_Forebrain_smFISH_CTP09\\translated_positions_all.txt\n"
     ]
    }
   ],
   "source": [
    "save_filename = os.path.join(data_folder, 'translated_positions_all.txt')\n",
    "print(save_filename)\n",
    "np.savetxt(save_filename, new_positions, fmt='%.2f', delimiter=',')"
   ]
  },
  {
   "cell_type": "markdown",
   "metadata": {},
   "source": [
    "# further adjust manually"
   ]
  },
  {
   "cell_type": "code",
   "execution_count": 9,
   "metadata": {},
   "outputs": [
    {
     "data": {
      "text/plain": [
       "array([[-150.68,  -29.14],\n",
       "       [-148.92,  -29.05],\n",
       "       [-150.74,  -29.32]])"
      ]
     },
     "execution_count": 9,
     "metadata": {},
     "output_type": "execute_result"
    }
   ],
   "source": [
    "adjust_before = np.array([[1474.18, 4239.34],[-1481.98, 5299.55],[1834.34, 2895.82]])\n",
    "\n",
    "adjust_after = np.array([[1323.5, 4210.2],[-1630.9, 5270.5],[1683.6, 2866.5]])\n",
    "\n",
    "\n",
    "delta_adjust = adjust_after - adjust_before\n",
    "delta_adjust"
   ]
  },
  {
   "cell_type": "code",
   "execution_count": 10,
   "metadata": {},
   "outputs": [
    {
     "data": {
      "text/plain": [
       "array([-150.11333333,  -29.17      ])"
      ]
     },
     "execution_count": 10,
     "metadata": {},
     "output_type": "execute_result"
    }
   ],
   "source": [
    "manual_shift= np.mean(delta_adjust,axis=0)\n",
    "manual_shift"
   ]
  },
  {
   "cell_type": "code",
   "execution_count": 11,
   "metadata": {},
   "outputs": [],
   "source": [
    "#manual_shift = np.array([-28.1,  -8.7])\n",
    "adjusted_new_positions = new_positions + manual_shift"
   ]
  },
  {
   "cell_type": "code",
   "execution_count": 12,
   "metadata": {},
   "outputs": [
    {
     "name": "stdout",
     "output_type": "stream",
     "text": [
      "D:\\Shiwei\\20210624-P_Forebrain_smFISH_CTP09\\adjusted_translated_positions_all.txt\n"
     ]
    }
   ],
   "source": [
    "adj_save_filename = os.path.join(data_folder, 'adjusted_translated_positions_all.txt')\n",
    "print(adj_save_filename)\n",
    "np.savetxt(adj_save_filename, adjusted_new_positions, fmt='%.2f', delimiter=',')"
   ]
  },
  {
   "cell_type": "code",
   "execution_count": null,
   "metadata": {
    "collapsed": true
   },
   "outputs": [],
   "source": []
  }
 ],
 "metadata": {
  "kernelspec": {
   "display_name": "Python 3",
   "language": "python",
   "name": "python3"
  },
  "language_info": {
   "codemirror_mode": {
    "name": "ipython",
    "version": 3
   },
   "file_extension": ".py",
   "mimetype": "text/x-python",
   "name": "python",
   "nbconvert_exporter": "python",
   "pygments_lexer": "ipython3",
   "version": "3.9.5"
  }
 },
 "nbformat": 4,
 "nbformat_minor": 4
}
