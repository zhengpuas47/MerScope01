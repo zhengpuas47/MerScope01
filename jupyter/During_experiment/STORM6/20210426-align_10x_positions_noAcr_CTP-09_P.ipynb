{
 "cells": [
  {
   "cell_type": "markdown",
   "metadata": {},
   "source": [
    "# calculate rotation and transposition matrix"
   ]
  },
  {
   "cell_type": "code",
   "execution_count": 15,
   "metadata": {},
   "outputs": [],
   "source": [
    "data_folder = r'D:\\Shiwei\\20210423-P_Forebrain_smRNA'\n",
    "before_position_file = os.path.join(data_folder, '10x_positions_before.txt')\n",
    "after_position_file = os.path.join(data_folder, '10x_positions_after.txt')\n"
   ]
  },
  {
   "cell_type": "code",
   "execution_count": 16,
   "metadata": {},
   "outputs": [],
   "source": [
    "import numpy as np\n",
    "import os, sys\n",
    "# 1. alignment for manually picked points\n",
    "def align_manual_points(pos_file_before, pos_file_after,\n",
    "                        save=True, save_folder=None, save_filename='', verbose=True):\n",
    "    \"\"\"Function to align two manually picked position files, \n",
    "    they should follow exactly the same order and of same length.\n",
    "    Inputs:\n",
    "        pos_file_before: full filename for positions file before translation\n",
    "        pos_file_after: full filename for positions file after translation\n",
    "        save: whether save rotation and translation info, bool (default: True)\n",
    "        save_folder: where to save rotation and translation info, None or string (default: same folder as pos_file_before)\n",
    "        save_filename: filename specified to save rotation and translation points\n",
    "        verbose: say something! bool (default: True)\n",
    "    Outputs:\n",
    "        R: rotation for positions, 2x2 array\n",
    "        T: traslation of positions, array of 2\n",
    "    Here's example for how to translate points\n",
    "        translated_ps_before = np.dot(ps_before, R) + t\n",
    "    \"\"\"\n",
    "    # load position_before\n",
    "    if os.path.isfile(pos_file_before):\n",
    "        ps_before = np.loadtxt(pos_file_before, delimiter=',')\n",
    "\n",
    "    # load position_after\n",
    "    if os.path.isfile(pos_file_after):\n",
    "        ps_after = np.loadtxt(pos_file_after, delimiter=',')\n",
    "\n",
    "    # do SVD decomposition to get best fit for rigid-translation\n",
    "    c_before = np.mean(ps_before, axis=0)\n",
    "    c_after = np.mean(ps_after, axis=0)\n",
    "    H = np.dot((ps_before - c_before).T, (ps_after - c_after))\n",
    "    U, _, V = np.linalg.svd(H)  # do SVD\n",
    "    # calcluate rotation\n",
    "    R = np.dot(V, U.T).T\n",
    "    if np.linalg.det(R) < 0:\n",
    "        R[:, -1] = -1 * R[:, -1]\n",
    "    # calculate translation\n",
    "    t = - np.dot(c_before, R) + c_after\n",
    "    # here's example for how to translate points\n",
    "    # translated_ps_before = np.dot(ps_before, R) + t\n",
    "    # save\n",
    "    if save:\n",
    "        if save_folder is None:\n",
    "            save_folder = os.path.dirname(pos_file_before)\n",
    "        if not os.path.exists(save_folder):\n",
    "            os.makedirs(save_folder)\n",
    "        if len(save_filename) > 0:\n",
    "            save_filename += '_'\n",
    "        rotation_name = os.path.join(save_folder, save_filename+'rotation')\n",
    "        translation_name = os.path.join(\n",
    "            save_folder, save_filename+'translation')\n",
    "        np.save(rotation_name, R)\n",
    "        np.save(translation_name, t)\n",
    "\n",
    "    return R, t"
   ]
  },
  {
   "cell_type": "code",
   "execution_count": 17,
   "metadata": {},
   "outputs": [],
   "source": [
    "R, T = align_manual_points(before_position_file, after_position_file, save=False)\n"
   ]
  },
  {
   "cell_type": "code",
   "execution_count": 19,
   "metadata": {},
   "outputs": [
    {
     "output_type": "execute_result",
     "data": {
      "text/plain": [
       "(array([[ 0.99997965, -0.00637995],\n",
       "        [ 0.00637995,  0.99997965]]), array([-378.32416804,  729.82026289]))"
      ]
     },
     "metadata": {},
     "execution_count": 19
    }
   ],
   "source": [
    "R, T"
   ]
  },
  {
   "cell_type": "markdown",
   "metadata": {},
   "source": [
    "# transpose 60x positions"
   ]
  },
  {
   "cell_type": "code",
   "execution_count": 20,
   "metadata": {},
   "outputs": [],
   "source": [
    "old_positions = np.loadtxt(os.path.join(data_folder, 'positions_all.txt'), delimiter=',')"
   ]
  },
  {
   "cell_type": "code",
   "execution_count": 21,
   "metadata": {
    "scrolled": true
   },
   "outputs": [
    {
     "output_type": "stream",
     "name": "stdout",
     "text": [
      "[[-2917.88498205   947.82696446]\n [-2916.47373766  1169.02246259]\n [-2915.06249327  1390.21796071]\n [-2913.65188688  1611.31346086]\n [-2912.24064249  1832.50895899]\n [-2910.8293981   2053.70445711]\n [-2689.63389998  2052.29321272]\n [-2691.04514437  1831.0977146 ]\n [-2692.45638876  1609.90221648]\n [-2693.86699515  1388.80671632]\n [-2695.27823954  1167.6112182 ]\n [-2696.68948393   946.41572008]\n [-2475.49398581   945.00447569]\n [-2474.08274142  1166.19997381]\n [-2472.67149703  1387.39547193]\n [-2471.26089064  1608.49097209]\n [-2469.84964625  1829.68647021]\n [-2468.43840186  2050.88196833]\n [-2247.3429017   2049.47136194]\n [-2248.75414609  1828.27586382]\n [-2250.16539048  1607.08036569]\n [-2251.57599687  1385.98486554]\n [-2252.98724126  1164.78936742]\n [-2254.39848565   943.59386929]\n [-2033.20298753   942.18262491]\n [-2031.79174314  1163.37812303]\n [-2030.38049875  1384.57362115]\n [-2028.96989236  1605.66912131]\n [-2027.55864797  1826.86461943]\n [-2026.14740358  2048.06011755]\n [-1804.95190546  2046.64887316]\n [-1806.36314985  1825.45337504]\n [-1807.77439424  1604.25787692]\n [-1809.18500063  1383.16237676]\n [-1810.59624502  1161.96687864]\n [-1812.00748941   940.77138052]\n [-3627.59454323  2406.28455684]\n [-3626.18393684  2627.380057  ]\n [-3624.77269245  2848.57555512]\n [-3403.57719433  2847.16431073]\n [-3404.98843872  2625.96881261]\n [-3406.39904511  2404.87331246]\n [-3185.20354699  2403.46206807]\n [-3183.79294059  2624.55756822]\n [-3182.38169621  2845.75306635]\n [-2961.18619808  2844.34182196]\n [-2962.59744247  2623.14632384]\n [-2964.00804887  2402.05082368]\n [-2742.81255074  2400.63957929]\n [-2741.40194435  2621.73507945]\n [-2739.99069996  2842.93057757]\n [-2518.79520184  2841.51933318]\n [-2520.20644623  2620.32383506]\n [-2521.61705262  2399.2283349 ]\n [-2300.52155247  2397.81772851]\n [-2299.11094607  2618.91322866]\n [-2297.69970168  2840.10872679]\n [-2076.50420356  2838.6974824 ]\n [-2077.91544795  2617.50198428]\n [-2079.32605434  2396.40648412]\n [-1858.13055622  2394.99523973]\n [-1856.71994983  2616.09073989]\n [-1855.30870544  2837.28623801]\n [-1634.11320732  2835.87499362]\n [-1635.52445171  2614.6794955 ]\n [-1636.9350581   2393.58399534]\n [-1415.73955998  2392.17275095]\n [-1414.32895359  2613.26825111]\n [-1412.9177092   2834.46374923]\n [-1191.72221108  2833.05250484]\n [-1193.13345546  2611.85700672]\n [-1194.54406186  2390.76150657]\n [-2510.80956283  3481.88141792]\n [-2509.39831844  3703.07691604]\n [-2507.98707405  3924.27241416]\n [-2506.57646766  4145.36791432]\n [-2505.16522327  4366.56341244]\n [-2503.75397888  4587.75891056]\n [-2282.55848076  4586.34766617]\n [-2283.96972515  4365.15216805]\n [-2285.38096954  4143.95666993]\n [-2286.79157593  3922.86116977]\n [-2288.20282032  3701.66567165]\n [-2289.61406471  3480.47017353]\n [-2068.41856659  3479.05892914]\n [-2067.0073222   3700.25442726]\n [-2065.59607781  3921.44992538]\n [-2064.18547142  4142.54542554]\n [-2062.77422703  4363.74092366]\n [-2061.36298264  4584.93642178]\n [-1840.26748248  4583.52581539]\n [-1841.67872687  4362.33031727]\n [-1843.08997126  4141.13481915]\n [-1844.50057765  3920.03931899]\n [-1845.91182204  3698.84382087]\n [-1847.32306643  3477.64832275]\n [-1626.12756831  3476.23707836]\n [-1624.71632392  3697.43257648]\n [-1623.30507953  3918.6280746 ]\n [-1621.89447314  4139.72357476]\n [-1620.48322875  4360.91907288]\n [-1619.07198436  4582.114571  ]\n [-1397.87648624  4580.70332661]\n [-1399.28773063  4359.50782849]\n [-1400.69897502  4138.31233037]\n [-1402.10958141  3917.21683021]\n [-1403.5208258   3696.02133209]\n [-1404.93207019  3474.82583397]]\n"
     ]
    }
   ],
   "source": [
    "new_positions = np.dot(old_positions, R) + T\n",
    "print(new_positions)"
   ]
  },
  {
   "cell_type": "code",
   "execution_count": 22,
   "metadata": {},
   "outputs": [
    {
     "output_type": "stream",
     "name": "stdout",
     "text": [
      "D:\\Shiwei\\20210423-P_Forebrain_smRNA\\translated_positions_all.txt\n"
     ]
    }
   ],
   "source": [
    "save_filename = os.path.join(data_folder, 'translated_positions_all.txt')\n",
    "print(save_filename)\n",
    "#np.savetxt(save_filename, new_positions, fmt='%.2f', delimiter=',')"
   ]
  },
  {
   "cell_type": "markdown",
   "metadata": {},
   "source": [
    "# further adjust manually"
   ]
  },
  {
   "cell_type": "code",
   "execution_count": 8,
   "metadata": {},
   "outputs": [],
   "source": [
    "manual_shift = np.array([-28.1,  -8.7])\n",
    "adjusted_new_positions = new_positions + manual_shift"
   ]
  },
  {
   "cell_type": "code",
   "execution_count": 9,
   "metadata": {},
   "outputs": [
    {
     "name": "stdout",
     "output_type": "stream",
     "text": [
      "\\\\storm6-pc\\STORM6-FLASHDrive\\Pu\\20201127-NOAcr_CTP-08_E14_brain_no_clearing\\adjusted_translated_positions_all.txt\n"
     ]
    }
   ],
   "source": [
    "adj_save_filename = os.path.join(data_folder, 'adjusted_translated_positions_all.txt')\n",
    "print(adj_save_filename)\n",
    "np.savetxt(adj_save_filename, adjusted_new_positions, fmt='%.2f', delimiter=',')"
   ]
  },
  {
   "cell_type": "code",
   "execution_count": null,
   "metadata": {},
   "outputs": [],
   "source": []
  }
 ],
 "metadata": {
  "kernelspec": {
   "name": "python3",
   "display_name": "Python 3.5.4 64-bit ('py35': conda)"
  },
  "language_info": {
   "codemirror_mode": {
    "name": "ipython",
    "version": 3
   },
   "file_extension": ".py",
   "mimetype": "text/x-python",
   "name": "python",
   "nbconvert_exporter": "python",
   "pygments_lexer": "ipython3",
   "version": "3.5.4"
  }
 },
 "nbformat": 4,
 "nbformat_minor": 4
}