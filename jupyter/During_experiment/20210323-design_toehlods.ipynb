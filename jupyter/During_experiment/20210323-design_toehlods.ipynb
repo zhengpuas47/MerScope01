{
 "cells": [
  {
   "cell_type": "markdown",
   "metadata": {},
   "source": [
    "# Design toeholds to remove adaptors"
   ]
  },
  {
   "cell_type": "code",
   "execution_count": 4,
   "metadata": {},
   "outputs": [
    {
     "name": "stdout",
     "output_type": "stream",
     "text": [
      "10864\n"
     ]
    }
   ],
   "source": [
    "%run \"E:\\Users\\puzheng\\Documents\\Startup_py3.py\"\n",
    "sys.path.append(r\"E:\\Users\\puzheng\\Documents\")\n",
    "\n",
    "import ImageAnalysis3 as ia\n",
    "%matplotlib notebook\n",
    "\n",
    "from ImageAnalysis3 import *\n",
    "print(os.getpid())"
   ]
  },
  {
   "cell_type": "code",
   "execution_count": 5,
   "metadata": {},
   "outputs": [],
   "source": [
    "# biopython imports\n",
    "from Bio import SeqIO\n",
    "from Bio.Seq import Seq\n",
    "from Bio.Alphabet import IUPAC\n",
    "from Bio.SeqRecord import SeqRecord\n",
    "from Bio.Blast.Applications import NcbiblastnCommandline\n",
    "from Bio.Blast import NCBIXML"
   ]
  },
  {
   "cell_type": "markdown",
   "metadata": {},
   "source": [
    "\n",
    "# 36\n",
    "354\tNDB_271\t352\tNDB_269\n",
    "# 42\n",
    "372\tNDB_289\t370\tNDB_287\n",
    "375\tNDB_292\t373\tNDB_290\n",
    "379\tNDB_295\t376\tNDB_293\n",
    "382\tNDB_298\t380\tNDB_296\n",
    "43\tStv_119\t392\tNDB_308\n"
   ]
  },
  {
   "cell_type": "code",
   "execution_count": 7,
   "metadata": {},
   "outputs": [],
   "source": [
    "adt_names_750 = ['NDB_271', 'NDB_289', 'NDB_292', 'NDB_295', 'NDB_298']\n",
    "adt_names_647 = ['NDB_269', 'NDB_287', 'NDB_290', 'NDB_293', 'NDB_296', 'NDB_308']\n"
   ]
  },
  {
   "cell_type": "code",
   "execution_count": 8,
   "metadata": {},
   "outputs": [],
   "source": [
    "# Load adaptors\n",
    "readout_folder = r'\\\\10.245.74.212\\Chromatin_NAS_2\\Libraries\\Adaptors'\n",
    "\n",
    "ndb_adaptors = []\n",
    "with open(os.path.join(readout_folder, 'NDB_adaptors.fasta'), 'r') as _rd_handle:\n",
    "    for _readout in SeqIO.parse(_rd_handle, \"fasta\"):\n",
    "        ndb_adaptors.append(_readout)"
   ]
  },
  {
   "cell_type": "code",
   "execution_count": 9,
   "metadata": {},
   "outputs": [
    {
     "name": "stdout",
     "output_type": "stream",
     "text": [
      "5 6\n"
     ]
    }
   ],
   "source": [
    "adts_750 = [_adt for _adt in ndb_adaptors if _adt.id.split('_2x')[0] in adt_names_750]\n",
    "adts_647 = [_adt for _adt in ndb_adaptors if _adt.id.split('_2x')[0] in adt_names_647]\n",
    "print(len(adts_750), len(adts_647))"
   ]
  },
  {
   "cell_type": "code",
   "execution_count": 11,
   "metadata": {},
   "outputs": [],
   "source": [
    "toeholds_750 = []\n",
    "for _adt in adts_750:\n",
    "    _toe = _adt[:40].reverse_complement()\n",
    "    _toe.id = 'rc'+_adt.id.split('_2x')[0]+\"_\"+_adt.id.split(\"_2x\")[1]\n",
    "    _toe.name = ''\n",
    "    _toe.description = ''\n",
    "    toeholds_750.append(_toe)"
   ]
  },
  {
   "cell_type": "code",
   "execution_count": 13,
   "metadata": {},
   "outputs": [],
   "source": [
    "toeholds_647 = []\n",
    "for _adt in adts_647:\n",
    "    _toe = _adt[:40].reverse_complement()\n",
    "    _toe.id = 'rc'+_adt.id.split('_2x')[0]+\"_\"+_adt.id.split(\"_2x\")[1]\n",
    "    _toe.name = ''\n",
    "    _toe.description = ''\n",
    "    toeholds_647.append(_toe)"
   ]
  },
  {
   "cell_type": "code",
   "execution_count": 14,
   "metadata": {},
   "outputs": [
    {
     "name": "stdout",
     "output_type": "stream",
     "text": [
      "rcNDB_271_Stv_82 \t GTCAAGGACGGCAGTGCAAAAACGATCCAAGTGGAACGCC \t25nmS\tSTD\n",
      "rcNDB_289_Stv_82 \t GTCAAGGACGGCAGTGCAAATACGTAGCAAGACCGCTATC \t25nmS\tSTD\n",
      "rcNDB_292_Stv_82 \t GTCAAGGACGGCAGTGCAAACCGGCTATAGCGACGACGTT \t25nmS\tSTD\n",
      "rcNDB_295_Stv_82 \t GTCAAGGACGGCAGTGCAAATTTAGCGGACTCCGGCTTGT \t25nmS\tSTD\n",
      "rcNDB_298_Stv_82 \t GTCAAGGACGGCAGTGCAAAGATCGATTCAAGCCGGCCAA \t25nmS\tSTD\n",
      "rcNDB_269_Stv_1 \t GGGACGGTTCCAATCGGATCAGTGGTCGGTGCAACCCGAT \t25nmS\tSTD\n",
      "rcNDB_287_Stv_1 \t GGGACGGTTCCAATCGGATCTCAATATGTGCCACACGCGC \t25nmS\tSTD\n",
      "rcNDB_290_Stv_1 \t GGGACGGTTCCAATCGGATCACTTCCGCGGATGAGGCAAT \t25nmS\tSTD\n",
      "rcNDB_293_Stv_1 \t GGGACGGTTCCAATCGGATCCATACGTGGTGCTACCGACC \t25nmS\tSTD\n",
      "rcNDB_296_Stv_1 \t GGGACGGTTCCAATCGGATCTAAACGTCAGACGCGCTAGC \t25nmS\tSTD\n",
      "rcNDB_308_Stv_1 \t GGGACGGTTCCAATCGGATCTTTAGTCGCGGCGTCGACCA \t25nmS\tSTD\n"
     ]
    }
   ],
   "source": [
    "for _toe in toeholds_750:\n",
    "    print(_toe.id, '\\t', _toe.seq, '\\t25nmS\\tSTD', )\n",
    "for _toe in toeholds_647:\n",
    "    print(_toe.id, '\\t', _toe.seq, '\\t25nmS\\tSTD', )"
   ]
  },
  {
   "cell_type": "code",
   "execution_count": 17,
   "metadata": {},
   "outputs": [
    {
     "data": {
      "text/plain": [
       "Seq('GTCAAGGACGGCAGTGCAAAAAGTCCGCGCAGGAACGTGA')"
      ]
     },
     "execution_count": 17,
     "metadata": {},
     "output_type": "execute_result"
    }
   ],
   "source": [
    "_Seq('TCACGTTCCTGCGCGGACTTTTTGCACTGCCGTCCTTGACTTTGCACTGCCGTCCTTGAC')[:40].reverse_complement()"
   ]
  },
  {
   "cell_type": "code",
   "execution_count": null,
   "metadata": {},
   "outputs": [],
   "source": []
  }
 ],
 "metadata": {
  "kernelspec": {
   "display_name": "Python 3",
   "language": "python",
   "name": "python3"
  },
  "language_info": {
   "codemirror_mode": {
    "name": "ipython",
    "version": 3
   },
   "file_extension": ".py",
   "mimetype": "text/x-python",
   "name": "python",
   "nbconvert_exporter": "python",
   "pygments_lexer": "ipython3",
   "version": "3.7.3"
  }
 },
 "nbformat": 4,
 "nbformat_minor": 4
}
