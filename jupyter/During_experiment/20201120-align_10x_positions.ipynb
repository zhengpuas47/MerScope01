{
 "cells": [
  {
   "cell_type": "code",
   "execution_count": 1,
   "metadata": {},
   "outputs": [
    {
     "name": "stdout",
     "output_type": "stream",
     "text": [
      "26236\n"
     ]
    }
   ],
   "source": [
    "%run \"E:\\Users\\puzheng\\Documents\\Startup_py3.py\"\n",
    "sys.path.append(r\"E:\\Users\\puzheng\\Documents\")\n",
    "\n",
    "import ImageAnalysis3 as ia\n",
    "%matplotlib notebook\n",
    "\n",
    "from ImageAnalysis3 import *\n",
    "print(os.getpid())"
   ]
  },
  {
   "cell_type": "markdown",
   "metadata": {},
   "source": [
    "# calculate rotation and transposition matrix"
   ]
  },
  {
   "cell_type": "code",
   "execution_count": 2,
   "metadata": {},
   "outputs": [],
   "source": [
    "data_folder = r'\\\\storm6-pc\\STORM6-FLASHDrive\\Shiwei\\20201116_E14_ctp08_saline'\n",
    "before_position_file = os.path.join(data_folder, '10x_before_positions.txt')\n",
    "after_position_file = os.path.join(data_folder, '10x_after_positions.txt')\n"
   ]
  },
  {
   "cell_type": "code",
   "execution_count": 6,
   "metadata": {},
   "outputs": [
    {
     "name": "stdout",
     "output_type": "stream",
     "text": [
      "- Manually picked points aligned, rotation:\n",
      "[[ 0.99981543 -0.01921229]\n",
      " [ 0.01921229  0.99981543]],\n",
      " translation:[-4908.87107065   311.06634086]\n"
     ]
    }
   ],
   "source": [
    "R, T = alignment_tools.align_manual_points(before_position_file, after_position_file, save=False)\n"
   ]
  },
  {
   "cell_type": "markdown",
   "metadata": {},
   "source": [
    "# transpose 60x positions"
   ]
  },
  {
   "cell_type": "code",
   "execution_count": 7,
   "metadata": {},
   "outputs": [],
   "source": [
    "old_positions = np.loadtxt(os.path.join(data_folder, 'positions_all.txt'), delimiter=',')"
   ]
  },
  {
   "cell_type": "code",
   "execution_count": 10,
   "metadata": {
    "scrolled": true
   },
   "outputs": [
    {
     "name": "stdout",
     "output_type": "stream",
     "text": [
      "[[-1559.44563214 -2426.38903811]\n",
      " [-1555.62046605 -2227.32578659]\n",
      " [-1551.79722118 -2028.36251662]\n",
      " [-1547.97205509 -1829.2992651 ]\n",
      " [-1348.90880357 -1833.12443119]\n",
      " [-1352.73396967 -2032.18768271]\n",
      " [-1356.55721453 -2231.15095268]\n",
      " [-1360.38238062 -2430.2142042 ]\n",
      " [-1161.41911065 -2434.03744906]\n",
      " [-1157.59394456 -2234.97419755]\n",
      " [-1153.77069969 -2036.01092757]\n",
      " [-1149.9455336  -1836.94767606]\n",
      " [ -950.88228208 -1840.77284215]\n",
      " [ -954.70744817 -2039.83609367]\n",
      " [ -958.53069304 -2238.79936364]\n",
      " [ -962.35585913 -2437.86261516]\n",
      " [-1796.44021196 -3074.45544608]\n",
      " [-1792.61504586 -2875.39219456]\n",
      " [-1788.78987977 -2676.32894304]\n",
      " [-1589.72662825 -2680.15410914]\n",
      " [-1593.55179435 -2879.21736065]\n",
      " [-1597.37696044 -3078.28061217]\n",
      " [-1398.31370892 -3082.10577826]\n",
      " [-1394.48854283 -2883.04252675]\n",
      " [-1390.66337674 -2683.97927523]\n",
      " [ -462.33253799 -3107.69283866]\n",
      " [ -458.5073719  -2908.62958714]\n",
      " [ -454.6822058  -2709.56633562]\n",
      " [ -450.85896094 -2510.60306565]\n",
      " [ -447.03379485 -2311.53981413]\n",
      " [ -443.20862875 -2112.47656262]\n",
      " [ -244.14537724 -2116.30172871]\n",
      " [ -247.97054333 -2315.36498023]\n",
      " [ -251.79570942 -2514.42823174]\n",
      " [ -255.61895429 -2713.39150172]\n",
      " [ -259.44412038 -2912.45475323]\n",
      " [ -263.26928647 -3111.51800475]\n",
      " [  -64.3060165  -3115.34124962]\n",
      " [  -60.48085041 -2916.2779981 ]\n",
      " [  -56.65568431 -2717.21474658]\n",
      " [  -52.83243945 -2518.25147661]\n",
      " [  -49.00727335 -2319.18822509]\n",
      " [  -45.18210726 -2120.12497357]\n",
      " [  153.88114426 -2123.95013967]\n",
      " [  150.05597816 -2323.01339118]\n",
      " [  146.23081207 -2522.0766427 ]\n",
      " [  142.4075672  -2721.03991268]\n",
      " [  138.58240111 -2920.10316419]\n",
      " [  134.75723502 -3119.16641571]\n",
      " [-1299.80383818 -4576.37417964]\n",
      " [-1295.97867209 -4377.31092813]\n",
      " [-1292.15542722 -4178.34765815]\n",
      " [-1288.33026113 -3979.28440664]\n",
      " [-1284.50509503 -3780.22115512]\n",
      " [-1280.68185017 -3581.25788515]\n",
      " [-1276.85668408 -3382.19463363]\n",
      " [-1077.79343256 -3386.01979972]\n",
      " [-1081.61859865 -3585.08305124]\n",
      " [-1085.44184352 -3784.04632121]\n",
      " [-1089.26700961 -3983.10957273]\n",
      " [-1093.0921757  -4182.17282425]\n",
      " [-1096.91542057 -4381.13609422]\n",
      " [-1100.74058666 -4580.19934574]\n",
      " [ -901.67733515 -4584.02451183]\n",
      " [ -897.85216905 -4384.96126031]\n",
      " [ -894.02892419 -4185.99799034]\n",
      " [ -890.20375809 -3986.93473882]\n",
      " [ -886.378592   -3787.87148731]\n",
      " [ -882.55534714 -3588.90821733]\n",
      " [ -878.73018104 -3389.84496582]\n",
      " [ -679.76691107 -3393.66821068]\n",
      " [ -683.59207716 -3592.7314622 ]\n",
      " [ -687.41532203 -3791.69473217]\n",
      " [ -691.24048812 -3990.75798369]\n",
      " [ -695.06565421 -4189.8212352 ]\n",
      " [ -698.88889908 -4388.78450518]\n",
      " [ -702.71406517 -4587.84775669]\n",
      " [ -503.65081365 -4591.67292279]\n",
      " [ -499.82564756 -4392.60967127]\n",
      " [ -496.0024027  -4193.6464013 ]\n",
      " [ -492.1772366  -3994.58314978]\n",
      " [ -488.35207051 -3795.51989826]\n",
      " [ -484.52882565 -3596.55662829]\n",
      " [ -480.70365955 -3397.49337677]\n",
      " [ -281.64040804 -3401.31854287]\n",
      " [ -285.46557413 -3600.38179438]\n",
      " [ -289.28881899 -3799.34506436]\n",
      " [ -293.11398509 -3998.40831587]\n",
      " [ -296.93915118 -4197.47156739]\n",
      " [ -300.76239604 -4396.43483736]\n",
      " [ -304.58756214 -4595.49808888]]\n"
     ]
    }
   ],
   "source": [
    "new_positions = np.dot(old_positions, R) + T\n",
    "print(new_positions)"
   ]
  },
  {
   "cell_type": "code",
   "execution_count": 15,
   "metadata": {},
   "outputs": [
    {
     "name": "stdout",
     "output_type": "stream",
     "text": [
      "\\\\storm6-pc\\STORM6-FLASHDrive\\Shiwei\\20201116_E14_ctp08_saline\\translated_positions_all.txt\n"
     ]
    }
   ],
   "source": [
    "save_filename = os.path.join(data_folder, 'translated_positions_all.txt')\n",
    "print(save_filename)\n",
    "np.savetxt(save_filename, new_positions, fmt='%.2f', delimiter=',')"
   ]
  },
  {
   "cell_type": "markdown",
   "metadata": {},
   "source": [
    "# further adjust manually"
   ]
  },
  {
   "cell_type": "code",
   "execution_count": 16,
   "metadata": {},
   "outputs": [],
   "source": [
    "manual_shift = np.array([14.4, 5.9])\n",
    "adjusted_new_positions = new_positions + manual_shift"
   ]
  },
  {
   "cell_type": "code",
   "execution_count": 17,
   "metadata": {},
   "outputs": [
    {
     "name": "stdout",
     "output_type": "stream",
     "text": [
      "\\\\storm6-pc\\STORM6-FLASHDrive\\Shiwei\\20201116_E14_ctp08_saline\\adjusted_translated_positions_all.txt\n"
     ]
    }
   ],
   "source": [
    "adj_save_filename = os.path.join(data_folder, 'adjusted_translated_positions_all.txt')\n",
    "print(adj_save_filename)\n",
    "np.savetxt(adj_save_filename, adjusted_new_positions, fmt='%.2f', delimiter=',')"
   ]
  },
  {
   "cell_type": "code",
   "execution_count": null,
   "metadata": {},
   "outputs": [],
   "source": []
  }
 ],
 "metadata": {
  "kernelspec": {
   "display_name": "Python 3",
   "language": "python",
   "name": "python3"
  },
  "language_info": {
   "codemirror_mode": {
    "name": "ipython",
    "version": 3
   },
   "file_extension": ".py",
   "mimetype": "text/x-python",
   "name": "python",
   "nbconvert_exporter": "python",
   "pygments_lexer": "ipython3",
   "version": "3.7.9"
  }
 },
 "nbformat": 4,
 "nbformat_minor": 4
}
