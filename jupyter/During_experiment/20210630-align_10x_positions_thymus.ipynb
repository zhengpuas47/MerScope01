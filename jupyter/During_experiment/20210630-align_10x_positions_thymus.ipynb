{
 "cells": [
  {
   "cell_type": "code",
   "execution_count": 11,
   "metadata": {
    "collapsed": false
   },
   "outputs": [
    {
     "name": "stdout",
     "output_type": "stream",
     "text": [
      "101592\n"
     ]
    }
   ],
   "source": [
    "%run \"C:\\Users\\neoSTORM6\\Documents\\ImageAnalysis3\\required_files\\Startup_py3.py\"\n",
    "sys.path.append(r\"C:\\Users\\neoSTORM6\\Documents\")\n",
    "\n",
    "import ImageAnalysis3 as ia\n",
    "%matplotlib notebook\n",
    "\n",
    "from ImageAnalysis3 import *\n",
    "print(os.getpid())"
   ]
  },
  {
   "cell_type": "markdown",
   "metadata": {},
   "source": [
    "# calculate rotation and transposition matrix"
   ]
  },
  {
   "cell_type": "code",
   "execution_count": 12,
   "metadata": {
    "collapsed": true
   },
   "outputs": [],
   "source": [
    "data_folder = r'D:\\Pu\\20210625-Thymus_IF_RNA'\n",
    "before_position_file = os.path.join(data_folder, '10x_positions_before.txt')\n",
    "after_position_file = os.path.join(data_folder, '10x_positions_after.txt')\n"
   ]
  },
  {
   "cell_type": "code",
   "execution_count": 13,
   "metadata": {
    "collapsed": false
   },
   "outputs": [
    {
     "name": "stdout",
     "output_type": "stream",
     "text": [
      "- Manually picked points aligned, rotation:\n",
      "[[ 0.99672227  0.08089936]\n",
      " [-0.08089936  0.99672227]],\n",
      " translation:[109.56080109 -56.9087515 ]\n"
     ]
    }
   ],
   "source": [
    "R, T = alignment_tools.align_manual_points(before_position_file, after_position_file, save=False)\n"
   ]
  },
  {
   "cell_type": "markdown",
   "metadata": {},
   "source": [
    "# transpose 60x positions"
   ]
  },
  {
   "cell_type": "code",
   "execution_count": 14,
   "metadata": {
    "collapsed": true
   },
   "outputs": [],
   "source": [
    "old_positions = np.loadtxt(os.path.join(data_folder, 'positions.txt'), delimiter=',')"
   ]
  },
  {
   "cell_type": "code",
   "execution_count": 15,
   "metadata": {
    "collapsed": false,
    "scrolled": true
   },
   "outputs": [
    {
     "name": "stdout",
     "output_type": "stream",
     "text": [
      "[[-4028.63117319 -4696.89443942]\n",
      " [-4045.62003919 -4487.58276169]\n",
      " [-4062.6089052  -4278.27108397]\n",
      " [-3853.29722747 -4261.28221796]\n",
      " [-3836.30836147 -4470.59389569]\n",
      " [-3819.31949546 -4679.90557341]\n",
      " [-3610.00781774 -4662.91670741]\n",
      " [-3626.99668374 -4453.60502968]\n",
      " [-3643.98554975 -4244.29335196]\n",
      " [-3434.67387202 -4227.30448595]\n",
      " [-3417.68500602 -4436.61616368]\n",
      " [-3400.69614001 -4645.9278414 ]\n",
      " [-3191.38446229 -4628.9389754 ]\n",
      " [-3208.37332829 -4419.62729767]\n",
      " [-3225.3621943  -4210.31561995]\n",
      " [-2998.38230661 -4472.81348772]\n",
      " [-3015.37117261 -4263.50180999]\n",
      " [-3032.36003862 -4054.19013227]\n",
      " [-2823.0483609  -4037.20126626]\n",
      " [-2806.05949489 -4246.51294399]\n",
      " [-2789.07062888 -4455.82462171]\n",
      " [-1890.43368992 -4031.73541891]\n",
      " [-1907.42255593 -3822.42374119]\n",
      " [-1924.41142193 -3613.11206346]\n",
      " [-1715.09974421 -3596.12319746]\n",
      " [-1698.1108782  -3805.43487518]\n",
      " [-1681.1220122  -4014.74655291]\n",
      " [-1471.81033447 -3997.7576869 ]\n",
      " [-1488.79920048 -3788.44600918]\n",
      " [-1505.78806648 -3579.13433145]\n",
      " [-1296.47638876 -3562.14546545]\n",
      " [-1279.48752275 -3771.45714317]\n",
      " [-1262.49865675 -3980.7688209 ]\n",
      " [ -885.78337339 -4095.60921007]\n",
      " [ -243.72919114 -3997.33532161]\n",
      " [   65.0672121  -4010.73781932]\n",
      " [ -715.45848828 -3208.66286924]\n",
      " [-1235.8826256  -3004.7264022 ]\n",
      " [-1041.92315661 -1792.772754  ]\n",
      " [ -778.98675423 -1809.88746414]\n",
      " [ -248.42411429 -2186.07833537]\n",
      " [  937.00205316 -2432.19481698]\n",
      " [ 1729.1656416  -2856.3896823 ]\n",
      " [ 1413.8611641   -601.84784493]\n",
      " [ 1880.7910187    -42.37973495]\n",
      " [ 2421.58696947   403.07037542]\n",
      " [ 3307.52685386   918.0804081 ]\n",
      " [ 3153.87157404  1629.60196609]\n",
      " [-1801.73981606  4820.70572762]\n",
      " [-1793.1663942   4477.37396484]\n",
      " [-1702.40229393  3453.92212884]\n",
      " [-1428.26035663  2872.29361827]\n",
      " [-1629.31221213  2505.94787078]\n",
      " [-1880.41899413  1531.82057082]\n",
      " [-1768.56584706  1313.81485624]\n",
      " [-1682.43516786  1071.55872422]\n",
      " [-1629.16479061   688.17162623]\n",
      " [-1887.33775479   661.67876183]\n",
      " [-2946.67361573   952.33184753]\n",
      " [-2927.37378213  1397.000694  ]\n",
      " [-3647.60481805  1194.53082217]\n",
      " [-3853.60883112  1548.90677592]\n",
      " [-3479.46769649  1989.14754321]\n",
      " [-3397.5563882   2344.73964896]\n",
      " [-2614.06661142  3610.24143899]\n",
      " [-2369.99581412  3264.49334354]]\n"
     ]
    }
   ],
   "source": [
    "new_positions = np.dot(old_positions, R) + T\n",
    "print(new_positions)"
   ]
  },
  {
   "cell_type": "code",
   "execution_count": 16,
   "metadata": {
    "collapsed": false
   },
   "outputs": [
    {
     "name": "stdout",
     "output_type": "stream",
     "text": [
      "D:\\Pu\\20210625-Thymus_IF_RNA\\translated_positions.txt\n"
     ]
    }
   ],
   "source": [
    "save_filename = os.path.join(data_folder, 'translated_positions.txt')\n",
    "print(save_filename)\n",
    "np.savetxt(save_filename, new_positions, fmt='%.2f', delimiter=',')"
   ]
  },
  {
   "cell_type": "markdown",
   "metadata": {},
   "source": [
    "# further adjust manually"
   ]
  },
  {
   "cell_type": "code",
   "execution_count": 8,
   "metadata": {
    "collapsed": true
   },
   "outputs": [],
   "source": [
    "manual_shift = np.array([-28.1,  -8.7])\n",
    "adjusted_new_positions = new_positions + manual_shift"
   ]
  },
  {
   "cell_type": "code",
   "execution_count": 9,
   "metadata": {
    "collapsed": false
   },
   "outputs": [
    {
     "name": "stdout",
     "output_type": "stream",
     "text": [
      "\\\\storm6-pc\\STORM6-FLASHDrive\\Pu\\20201127-NOAcr_CTP-08_E14_brain_no_clearing\\adjusted_translated_positions_all.txt\n"
     ]
    }
   ],
   "source": [
    "adj_save_filename = os.path.join(data_folder, 'adjusted_translated_positions_all.txt')\n",
    "print(adj_save_filename)\n",
    "np.savetxt(adj_save_filename, adjusted_new_positions, fmt='%.2f', delimiter=',')"
   ]
  },
  {
   "cell_type": "code",
   "execution_count": null,
   "metadata": {
    "collapsed": true
   },
   "outputs": [],
   "source": []
  }
 ],
 "metadata": {
  "kernelspec": {
   "display_name": "Python 3",
   "language": "python",
   "name": "python3"
  },
  "language_info": {
   "codemirror_mode": {
    "name": "ipython",
    "version": 3
   },
   "file_extension": ".py",
   "mimetype": "text/x-python",
   "name": "python",
   "nbconvert_exporter": "python",
   "pygments_lexer": "ipython3",
   "version": "3.9.5"
  }
 },
 "nbformat": 4,
 "nbformat_minor": 4
}
