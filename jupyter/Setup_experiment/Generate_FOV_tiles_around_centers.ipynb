{
 "cells": [
  {
   "cell_type": "markdown",
   "id": "561d3859-bbbb-4490-9ea0-132f9c55b2d0",
   "metadata": {},
   "source": [
    "# Generate field-of-view tiles around selected centers\n",
    "\n",
    "by Pu Zheng\n",
    "\n",
    "2023.08.13"
   ]
  },
  {
   "cell_type": "code",
   "execution_count": 34,
   "id": "907895e4-6080-4195-ac8c-cc6c6d0fb4ec",
   "metadata": {},
   "outputs": [],
   "source": [
    "import pandas as pd\n",
    "import numpy as np\n",
    "import matplotlib.pyplot as plt\n",
    "import os, sys\n",
    "\n",
    "camera_sizes = [2304, 2304]\n",
    "pixel_size = 0.107 # um\n",
    "tile_sizes = np.round(np.array(camera_sizes) * pixel_size * 1)"
   ]
  },
  {
   "cell_type": "code",
   "execution_count": 35,
   "id": "4505658a-74eb-40f3-b35c-09b0f3219437",
   "metadata": {},
   "outputs": [],
   "source": [
    "data_folder = r'E:\\Data\\20231120-4T1v21x_cell_labelX_test\\1-5'\n",
    "local_center_filename = 'local_centers.txt'\n",
    "local_centers = pd.read_csv(os.path.join(data_folder, local_center_filename), header=None, names=['X','Y'])"
   ]
  },
  {
   "cell_type": "markdown",
   "id": "1b975c46-77ed-47b6-97c2-e281585c6f91",
   "metadata": {},
   "source": [
    "## Load parameters"
   ]
  },
  {
   "cell_type": "code",
   "execution_count": 36,
   "id": "9029a260-5ada-4420-a982-847bfae56d03",
   "metadata": {},
   "outputs": [],
   "source": [
    "def generate_tiles_from_center(center, dims=[3,3], sizes=tile_sizes, vertical=True):\n",
    "    \"\"\"Function to generate a snake-like tile list given center coordinates\"\"\"\n",
    "    dim_x, dim_y = dims\n",
    "    size_x, size_y = sizes\n",
    "    # indices of positions\n",
    "    pos_indices = np.indices([dim_x,dim_y]) - np.array([float(dim_x-1)/2,float(dim_y-1)/2])[:,np.newaxis,np.newaxis]\n",
    "    # calculate positions\n",
    "    positions = pos_indices * sizes[:,np.newaxis,np.newaxis] + np.round(center)[:,np.newaxis,np.newaxis]\n",
    "    # sort position\n",
    "    sorted_positions = np.zeros([dim_x*dim_y, 2])\n",
    "    for i in range(dim_x):\n",
    "        if not i%2:\n",
    "            sorted_positions[i*dim_y:(i+1)*dim_y,:] = positions[:,i].transpose()\n",
    "        else:\n",
    "            sorted_positions[i*dim_y:(i+1)*dim_y,:] = np.fliplr(positions[:,i]).transpose()\n",
    "    sorted_positions = np.round(sorted_positions, 1)\n",
    "    return sorted_positions"
   ]
  },
  {
   "cell_type": "code",
   "execution_count": 37,
   "id": "dff81f0c-9c81-4482-92d8-fb61ffbceebf",
   "metadata": {},
   "outputs": [],
   "source": [
    "all_positions = []\n",
    "tile_dims = [12, 13]\n",
    "#tile_dims = [17,15]\n",
    "add_intermediate_frame = False\n",
    "for _i, _row in local_centers.iterrows():\n",
    "    _tiles = generate_tiles_from_center(_row.values, tile_dims)\n",
    "    all_positions.append(_tiles)\n",
    "\n",
    "\n",
    "final_positions = []\n",
    "\n",
    "if add_intermediate_frame:    \n",
    "    for _j in range(len(all_positions)):\n",
    "        _mid_center = (all_positions[_j][-1] + all_positions[(_j+1)%len(all_positions)][0]) / 2\n",
    "        final_positions.extend(list(all_positions[_j]))\n",
    "        final_positions.append(_mid_center)\n",
    "    final_positions = np.array(final_positions)\n",
    "else:\n",
    "    final_positions = np.concatenate(all_positions)"
   ]
  },
  {
   "cell_type": "code",
   "execution_count": 38,
   "id": "710dccd0-920a-47c9-9c15-c6e081bc793c",
   "metadata": {},
   "outputs": [
    {
     "data": {
      "text/plain": [
       "array([ 1358.5, -1482. ])"
      ]
     },
     "execution_count": 38,
     "metadata": {},
     "output_type": "execute_result"
    }
   ],
   "source": [
    "final_positions[-1]"
   ]
  },
  {
   "cell_type": "code",
   "execution_count": 39,
   "id": "43453118-e18b-4867-82c2-413397c910ae",
   "metadata": {},
   "outputs": [
    {
     "data": {
      "text/plain": [
       "array([-1358.5, -1482. ])"
      ]
     },
     "execution_count": 39,
     "metadata": {},
     "output_type": "execute_result"
    }
   ],
   "source": [
    "final_positions[0]"
   ]
  },
  {
   "cell_type": "code",
   "execution_count": 40,
   "id": "821fbffe-0d90-4389-9e31-223e7ee093fd",
   "metadata": {},
   "outputs": [
    {
     "data": {
      "image/png": "[encoded data removed]",
      "text/plain": [
       "<Figure size 640x480 with 1 Axes>"
      ]
     },
     "metadata": {},
     "output_type": "display_data"
    }
   ],
   "source": [
    "plt.figure()\n",
    "plt.scatter(final_positions[:,0], final_positions[:,1],#'o-', \n",
    "            s=2,\n",
    "            c=np.arange(len(final_positions)), cmap='Spectral')\n",
    "plt.axis('equal')\n",
    "plt.show()"
   ]
  },
  {
   "cell_type": "code",
   "execution_count": 41,
   "id": "0a8b61b8-2307-422a-bae0-25e3148d2d5e",
   "metadata": {},
   "outputs": [
    {
     "name": "stdout",
     "output_type": "stream",
     "text": [
      "Saving 156 positions into file: E:\\Data\\20231120-4T1v21x_cell_labelX_test\\1-5\\positions_all.txt\n"
     ]
    }
   ],
   "source": [
    "# write into a file\n",
    "fl = os.path.join(data_folder, 'positions_all.txt')\n",
    "print(f\"Saving {len(final_positions)} positions into file: {fl}\")\n",
    "f = open(fl,'w')\n",
    "for _x, _y in final_positions:\n",
    "    f.write(f\"{_x:.1f}, {_y:.1f}\\n\")\n",
    "f.close()"
   ]
  },
  {
   "cell_type": "code",
   "execution_count": null,
   "id": "8c97015a-b9b2-498a-88e7-a784b82eb210",
   "metadata": {},
   "outputs": [],
   "source": []
  }
 ],
 "metadata": {
  "kernelspec": {
   "display_name": "Python 3 (ipykernel)",
   "language": "python",
   "name": "python3"
  },
  "language_info": {
   "codemirror_mode": {
    "name": "ipython",
    "version": 3
   },
   "file_extension": ".py",
   "mimetype": "text/x-python",
   "name": "python",
   "nbconvert_exporter": "python",
   "pygments_lexer": "ipython3",
   "version": "3.10.12"
  }
 },
 "nbformat": 4,
 "nbformat_minor": 5
}
