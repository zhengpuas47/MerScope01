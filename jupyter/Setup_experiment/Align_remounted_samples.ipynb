{
 "cells": [
  {
   "cell_type": "code",
   "execution_count": 16,
   "id": "08d867e4-3e7b-4703-bb48-85f46c34e878",
   "metadata": {},
   "outputs": [
    {
     "name": "stdout",
     "output_type": "stream",
     "text": [
      "True True\n"
     ]
    }
   ],
   "source": [
    "import os\n",
    "\n",
    "old_folder = r'E:\\Data\\20240606-4T1noMMt3v210xPE2_colony0529Live3_MF8'\n",
    "\n",
    "before_position_file = os.path.join(old_folder, '10x_positions_before.txt')\n",
    "\n",
    "new_folder = r'E:\\Data\\20240617-4T1noMMt3v210xPE2_colony0529Live3_sample0606_intBCv2Editv3'\n",
    "\n",
    "after_position_file = os.path.join(new_folder, '10x_positions_after.txt')\n",
    "\n",
    "print(os.path.exists(before_position_file), os.path.exists(after_position_file))"
   ]
  },
  {
   "cell_type": "markdown",
   "id": "e9ec2beb-61cc-4c43-9988-6d5df24c1ccc",
   "metadata": {},
   "source": [
    "# Calculate rotation matrix"
   ]
  },
  {
   "cell_type": "code",
   "execution_count": 17,
   "id": "e3f564fd-95fb-4bef-959e-0639fb1122c5",
   "metadata": {},
   "outputs": [],
   "source": [
    "import numpy as np\n",
    "import os\n",
    "# 1. alignment for manually picked points\n",
    "def align_manual_points(pos_file_before, pos_file_after,\n",
    "                        save=True, save_folder=None, save_filename='', verbose=True):\n",
    "    \"\"\"Function to align two manually picked position files, \n",
    "    they should follow exactly the same order and of same length.\n",
    "    Inputs:\n",
    "        pos_file_before: full filename for positions file before translation\n",
    "        pos_file_after: full filename for positions file after translation\n",
    "        save: whether save rotation and translation info, bool (default: True)\n",
    "        save_folder: where to save rotation and translation info, None or string (default: same folder as pos_file_before)\n",
    "        save_filename: filename specified to save rotation and translation points\n",
    "        verbose: say something! bool (default: True)\n",
    "    Outputs:\n",
    "        R: rotation for positions, 2x2 array\n",
    "        T: traslation of positions, array of 2\n",
    "    Here's example for how to translate points\n",
    "        translated_ps_before = np.dot(ps_before, R) + t\n",
    "    \"\"\"\n",
    "    # load position_before\n",
    "    if os.path.isfile(pos_file_before):\n",
    "        ps_before = np.loadtxt(pos_file_before, delimiter=',')\n",
    "\n",
    "    # load position_after\n",
    "    if os.path.isfile(pos_file_after):\n",
    "        ps_after = np.loadtxt(pos_file_after, delimiter=',')\n",
    "\n",
    "    # do SVD decomposition to get best fit for rigid-translation\n",
    "    c_before = np.mean(ps_before, axis=0)\n",
    "    c_after = np.mean(ps_after, axis=0)\n",
    "    H = np.dot((ps_before - c_before).T, (ps_after - c_after))\n",
    "    U, _, V = np.linalg.svd(H)  # do SVD\n",
    "    # calcluate rotation\n",
    "    R = np.dot(V, U.T).T\n",
    "    if np.linalg.det(R) < 0:\n",
    "        R[:, -1] = -1 * R[:, -1]\n",
    "    # calculate translation\n",
    "    t = - np.dot(c_before, R) + c_after\n",
    "    # here's example for how to translate points\n",
    "    # translated_ps_before = np.dot(ps_before, R) + t\n",
    "    # save\n",
    "    if save:\n",
    "        if save_folder is None:\n",
    "            save_folder = os.path.dirname(pos_file_before)\n",
    "        if not os.path.exists(save_folder):\n",
    "            os.makedirs(save_folder)\n",
    "        if len(save_filename) > 0:\n",
    "            save_filename += '_'\n",
    "        rotation_name = os.path.join(save_folder, save_filename+'rotation')\n",
    "        translation_name = os.path.join(\n",
    "            save_folder, save_filename+'translation')\n",
    "        np.save(rotation_name, R)\n",
    "        np.save(translation_name, t)\n",
    "\n",
    "    return R, t"
   ]
  },
  {
   "cell_type": "code",
   "execution_count": 18,
   "id": "17bccbb9-32fe-43cc-a86e-13e4c5f86b3c",
   "metadata": {},
   "outputs": [
    {
     "data": {
      "text/plain": [
       "('E:\\\\Data\\\\20240606-4T1noMMt3v210xPE2_colony0529Live3_MF8\\\\10x_positions_before.txt',\n",
       " 'E:\\\\Data\\\\20240617-4T1noMMt3v210xPE2_colony0529Live3_sample0606_intBCv2Editv3\\\\10x_positions_after.txt')"
      ]
     },
     "execution_count": 18,
     "metadata": {},
     "output_type": "execute_result"
    }
   ],
   "source": [
    "before_position_file, after_position_file"
   ]
  },
  {
   "cell_type": "code",
   "execution_count": 19,
   "id": "8de70d34-e4cc-466c-bdff-f776f55f93ea",
   "metadata": {},
   "outputs": [
    {
     "data": {
      "text/plain": [
       "(array([[ 0.99997513, -0.0070522 ],\n",
       "        [ 0.0070522 ,  0.99997513]]),\n",
       " array([ 347.66504317, -408.15777806]))"
      ]
     },
     "execution_count": 19,
     "metadata": {},
     "output_type": "execute_result"
    }
   ],
   "source": [
    "R, T = align_manual_points(before_position_file, after_position_file, save=True, save_folder=new_folder)\n",
    "R, T"
   ]
  },
  {
   "cell_type": "code",
   "execution_count": 20,
   "id": "94f27365-9b7a-4e16-8f74-07ac2a0524bf",
   "metadata": {},
   "outputs": [
    {
     "name": "stdout",
     "output_type": "stream",
     "text": [
      "E:\\Data\\20240606-4T1noMMt3v210xPE2_colony0529Live3_MF8\\positions_all.txt\n",
      "333\n"
     ]
    }
   ],
   "source": [
    "# Translate 60x positions\n",
    "old_fov_position_file = os.path.join(old_folder, r'positions_all.txt')\n",
    "print(old_fov_position_file)\n",
    "old_fov_positions = np.loadtxt(old_fov_position_file, delimiter=',')\n",
    "print(len(old_fov_positions))"
   ]
  },
  {
   "cell_type": "code",
   "execution_count": 21,
   "id": "ebff7448-6009-4bca-b8a7-70c2cad345af",
   "metadata": {},
   "outputs": [
    {
     "name": "stdout",
     "output_type": "stream",
     "text": [
      "Save 333 coordinates into the file: E:\\Data\\20240617-4T1noMMt3v210xPE2_colony0529Live3_sample0606_intBCv2Editv3\\positions_all.txt\n"
     ]
    }
   ],
   "source": [
    "new_fov_positions = np.dot(old_fov_positions, R) + T\n",
    "#print(new_fov_positions)\n",
    "new_fov_position_savefile = os.path.join(new_folder, r'positions_all.txt')\n",
    "# save\n",
    "print(f\"Save {len(new_fov_positions)} coordinates into the file: {new_fov_position_savefile}\")\n",
    "np.savetxt(new_fov_position_savefile, np.round(new_fov_positions, 2), delimiter=',', fmt='%.2f')"
   ]
  },
  {
   "cell_type": "code",
   "execution_count": null,
   "id": "6d1a001d-471a-4075-beba-1dfa857c8846",
   "metadata": {},
   "outputs": [],
   "source": []
  },
  {
   "cell_type": "code",
   "execution_count": null,
   "id": "6264d2ba-dad9-4c74-b189-3e23e4ac1a41",
   "metadata": {},
   "outputs": [],
   "source": []
  }
 ],
 "metadata": {
  "kernelspec": {
   "display_name": "postanalysis",
   "language": "python",
   "name": "postanalysis"
  },
  "language_info": {
   "codemirror_mode": {
    "name": "ipython",
    "version": 3
   },
   "file_extension": ".py",
   "mimetype": "text/x-python",
   "name": "python",
   "nbconvert_exporter": "python",
   "pygments_lexer": "ipython3",
   "version": "3.10.12"
  }
 },
 "nbformat": 4,
 "nbformat_minor": 5
}
