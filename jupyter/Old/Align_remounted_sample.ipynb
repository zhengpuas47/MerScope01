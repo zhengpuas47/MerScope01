{
 "cells": [
  {
   "cell_type": "code",
   "execution_count": 56,
   "metadata": {
    "collapsed": true
   },
   "outputs": [],
   "source": [
    "import os\n",
    "\n",
    "old_folder = r'D:\\Pu\\20220208-P_brain_M1_nonclear\\Alignment'\n",
    "\n",
    "before_position_file = os.path.join(old_folder, '10x_positions_before.txt')\n",
    "\n",
    "new_folder = r'D:\\Pu\\20220215-P_brain_CTP11-1000_CTP12_from0208\\Alignment'\n",
    "\n",
    "after_position_file = os.path.join(new_folder, '10x_positions_after.txt')"
   ]
  },
  {
   "cell_type": "code",
   "execution_count": 57,
   "metadata": {
    "collapsed": false
   },
   "outputs": [
    {
     "data": {
      "text/plain": [
       "(True, True)"
      ]
     },
     "execution_count": 57,
     "metadata": {},
     "output_type": "execute_result"
    }
   ],
   "source": [
    "os.path.isfile(before_position_file), os.path.isfile(after_position_file)"
   ]
  },
  {
   "cell_type": "markdown",
   "metadata": {},
   "source": [
    "# Calculate rotation matrix"
   ]
  },
  {
   "cell_type": "code",
   "execution_count": 58,
   "metadata": {
    "collapsed": true
   },
   "outputs": [],
   "source": [
    "import numpy as np\n",
    "import os\n",
    "# 1. alignment for manually picked points\n",
    "def align_manual_points(pos_file_before, pos_file_after,\n",
    "                        save=True, save_folder=None, save_filename='', verbose=True):\n",
    "    \"\"\"Function to align two manually picked position files, \n",
    "    they should follow exactly the same order and of same length.\n",
    "    Inputs:\n",
    "        pos_file_before: full filename for positions file before translation\n",
    "        pos_file_after: full filename for positions file after translation\n",
    "        save: whether save rotation and translation info, bool (default: True)\n",
    "        save_folder: where to save rotation and translation info, None or string (default: same folder as pos_file_before)\n",
    "        save_filename: filename specified to save rotation and translation points\n",
    "        verbose: say something! bool (default: True)\n",
    "    Outputs:\n",
    "        R: rotation for positions, 2x2 array\n",
    "        T: traslation of positions, array of 2\n",
    "    Here's example for how to translate points\n",
    "        translated_ps_before = np.dot(ps_before, R) + t\n",
    "    \"\"\"\n",
    "    # load position_before\n",
    "    if os.path.isfile(pos_file_before):\n",
    "        ps_before = np.loadtxt(pos_file_before, delimiter=',')\n",
    "\n",
    "    # load position_after\n",
    "    if os.path.isfile(pos_file_after):\n",
    "        ps_after = np.loadtxt(pos_file_after, delimiter=',')\n",
    "\n",
    "    # do SVD decomposition to get best fit for rigid-translation\n",
    "    c_before = np.mean(ps_before, axis=0)\n",
    "    c_after = np.mean(ps_after, axis=0)\n",
    "    H = np.dot((ps_before - c_before).T, (ps_after - c_after))\n",
    "    U, _, V = np.linalg.svd(H)  # do SVD\n",
    "    # calcluate rotation\n",
    "    R = np.dot(V, U.T).T\n",
    "    if np.linalg.det(R) < 0:\n",
    "        R[:, -1] = -1 * R[:, -1]\n",
    "    # calculate translation\n",
    "    t = - np.dot(c_before, R) + c_after\n",
    "    # here's example for how to translate points\n",
    "    # translated_ps_before = np.dot(ps_before, R) + t\n",
    "    # save\n",
    "    if save:\n",
    "        if save_folder is None:\n",
    "            save_folder = os.path.dirname(pos_file_before)\n",
    "        if not os.path.exists(save_folder):\n",
    "            os.makedirs(save_folder)\n",
    "        if len(save_filename) > 0:\n",
    "            save_filename += '_'\n",
    "        rotation_name = os.path.join(save_folder, save_filename+'rotation')\n",
    "        translation_name = os.path.join(\n",
    "            save_folder, save_filename+'translation')\n",
    "        np.save(rotation_name, R)\n",
    "        np.save(translation_name, t)\n",
    "\n",
    "    return R, t"
   ]
  },
  {
   "cell_type": "code",
   "execution_count": 59,
   "metadata": {
    "collapsed": false
   },
   "outputs": [
    {
     "data": {
      "text/plain": [
       "(array([[ 0.99989048, -0.01479949],\n",
       "        [ 0.01479949,  0.99989048]]),\n",
       " array([   50.27017055, -1393.00834786]))"
      ]
     },
     "execution_count": 59,
     "metadata": {},
     "output_type": "execute_result"
    }
   ],
   "source": [
    "R, T = align_manual_points(before_position_file, after_position_file, save=False, save_folder=new_folder)\n",
    "R, T"
   ]
  },
  {
   "cell_type": "markdown",
   "metadata": {},
   "source": [
    "# Translate 60x positions"
   ]
  },
  {
   "cell_type": "code",
   "execution_count": 60,
   "metadata": {
    "collapsed": true
   },
   "outputs": [],
   "source": [
    "old_positions = np.loadtxt(os.path.join(os.path.dirname(old_folder), 'positions_all.txt'), delimiter=',')"
   ]
  },
  {
   "cell_type": "code",
   "execution_count": 61,
   "metadata": {
    "collapsed": false
   },
   "outputs": [
    {
     "name": "stdout",
     "output_type": "stream",
     "text": [
      "[[-2513.90835986  -372.5480477 ]\n",
      " [-2516.86825835  -572.52614401]\n",
      " [-2519.82815685  -772.50424031]\n",
      " [-2522.78805535  -972.48233661]\n",
      " [-2322.80995904  -975.44223511]\n",
      " [-2319.85006055  -775.46413881]\n",
      " [-2316.89016205  -575.4860425 ]\n",
      " [-2313.93026355  -375.5079462 ]\n",
      " [-2310.97036506  -175.5298499 ]\n",
      " [-2110.99226875  -178.4897484 ]\n",
      " [-2113.95216725  -378.4678447 ]\n",
      " [-2116.91206575  -578.445941  ]\n",
      " [-2119.87196424  -778.4240373 ]\n",
      " [-2122.83186274  -978.40213361]\n",
      " [-1922.85376644  -981.3620321 ]\n",
      " [-1919.89386794  -781.3839358 ]\n",
      " [-1916.93396945  -581.4058395 ]\n",
      " [-1913.97407095  -381.4277432 ]\n",
      " [-1911.01417245  -181.44964689]\n",
      " [-1711.03607615  -184.40954539]\n",
      " [-1713.99597465  -384.38764169]\n",
      " [-1716.95587314  -584.36573799]\n",
      " [-1719.91577164  -784.3438343 ]\n",
      " [-1722.87567014  -984.3219306 ]\n",
      " [-1522.89757383  -987.2818291 ]\n",
      " [-1519.93767534  -787.30373279]\n",
      " [-1516.97777684  -587.32563649]\n",
      " [-1514.01787834  -387.34754019]\n",
      " [-1511.05797985  -187.36944389]\n",
      " [-1311.07988354  -190.32934238]\n",
      " [-1314.03978204  -390.30743869]\n",
      " [-1316.99968054  -590.28553499]\n",
      " [-1319.95957903  -790.26363129]\n",
      " [-1322.91947753  -990.24172759]\n",
      " [-1122.94138123  -993.20162609]\n",
      " [-1119.98148273  -793.22352979]\n",
      " [-1117.02158423  -593.24543349]\n",
      " [-1114.06168574  -393.26733718]\n",
      " [-1111.10178724  -193.28924088]\n",
      " [-2605.10160157  1865.14663492]\n",
      " [-2608.06150006  1665.16853862]\n",
      " [-2611.02139856  1465.19044232]\n",
      " [-2613.98129706  1265.21234602]\n",
      " [-2616.94119555  1065.23424971]\n",
      " [-2416.96309925  1062.27435122]\n",
      " [-2414.00320075  1262.25244752]\n",
      " [-2411.04330226  1462.23054382]\n",
      " [-2408.08340376  1662.20864012]\n",
      " [-2405.12350526  1862.18673643]\n",
      " [-2205.14540896  1859.22683793]\n",
      " [-2208.10530746  1659.24874163]\n",
      " [-2211.06520595  1459.27064533]\n",
      " [-2214.02510445  1259.29254902]\n",
      " [-2216.98500295  1059.31445272]\n",
      " [-2017.00690664  1056.35455422]\n",
      " [-2014.04700815  1256.33265053]\n",
      " [-2011.08710965  1456.31074683]\n",
      " [-2008.12721115  1656.28884313]\n",
      " [-2005.16731266  1856.26693943]\n",
      " [-1805.18921635  1853.30704094]\n",
      " [-1808.14911485  1653.32894463]\n",
      " [-1811.10901335  1453.35084833]\n",
      " [-1814.06891184  1253.37275203]\n",
      " [-1817.02881034  1053.39465573]\n",
      " [-1617.05071404  1050.43475723]\n",
      " [-1614.09081554  1250.41285353]\n",
      " [-1611.13091704  1450.39094983]\n",
      " [-1608.17101855  1650.36904614]\n",
      " [-1605.21112005  1850.34714244]\n",
      " [-1405.23302375  1847.38724394]\n",
      " [-1408.19292225  1647.40914764]\n",
      " [-1411.15282074  1447.43105134]\n",
      " [-1414.11271924  1247.45295504]\n",
      " [-1417.07261774  1047.47485873]\n",
      " [-1220.05441993   844.53686393]\n",
      " [-1217.09452143  1044.51496024]\n",
      " [-1214.13462294  1244.49305654]\n",
      " [-1211.17472444  1444.47115284]\n",
      " [-1208.21482594  1644.44924914]\n",
      " [-1205.25492745  1844.42734545]\n",
      " [-1202.29502895  2044.40544175]\n",
      " [-1002.31693265  2041.44554325]\n",
      " [-1005.27683114  1841.46744695]\n",
      " [-1008.23672964  1641.48935065]\n",
      " [-1011.19662814  1441.51125434]\n",
      " [-1014.15652663  1241.53315804]\n",
      " [-1017.11642513  1041.55506174]\n",
      " [-1020.07632363   841.57696544]\n",
      " [ 4039.44517299   109.61845209]\n",
      " [ 4036.48527449   -90.35964422]\n",
      " [ 4033.525376    -290.33774052]\n",
      " [ 4030.5654775   -490.31583682]\n",
      " [ 4027.605579    -690.29393313]\n",
      " [ 4227.58367531  -693.25383162]\n",
      " [ 4230.5435738   -493.27573532]\n",
      " [ 4233.5034723   -293.29763902]\n",
      " [ 4236.4633708    -93.31954271]\n",
      " [ 4239.42326929   106.65855359]\n",
      " [ 4439.4013656    103.69865509]\n",
      " [ 4436.4414671    -96.27944121]\n",
      " [ 4433.4815686   -296.25753751]\n",
      " [ 4430.52167011  -496.23563382]\n",
      " [ 4427.56177161  -696.21373012]\n",
      " [ 4627.53986791  -699.17362862]\n",
      " [ 4630.49976641  -499.19553231]\n",
      " [ 4633.45966491  -299.21743601]\n",
      " [ 4636.4195634    -99.23933971]\n",
      " [ 4639.3794619    100.7387566 ]\n",
      " [ 4839.3575582     97.7788581 ]\n",
      " [ 4836.3976597   -102.1992382 ]\n",
      " [ 4833.43776121  -302.17733451]\n",
      " [ 4830.47786271  -502.15543081]\n",
      " [ 4827.51796421  -702.13352711]\n",
      " [ 5027.49606052  -705.09342561]\n",
      " [ 5030.45595901  -505.11532931]\n",
      " [ 5033.41585751  -305.137233  ]\n",
      " [ 5036.37575601  -105.1591367 ]\n",
      " [ 5039.3356545     94.8189596 ]\n",
      " [ 5239.31375081    91.85906111]\n",
      " [ 5236.35385231  -108.1190352 ]\n",
      " [ 5233.39395381  -308.0971315 ]\n",
      " [ 5230.43405532  -508.0752278 ]\n",
      " [ 5227.47415682  -708.05332411]\n",
      " [ 5430.41215162  -511.0351263 ]\n",
      " [ 5433.37205012  -311.05703   ]\n",
      " [ 5436.33194861  -111.07893369]\n",
      " [ 5439.29184711    88.89916261]\n",
      " [ 3954.40961222 -2507.10964487]\n",
      " [ 3957.36951072 -2307.13154857]\n",
      " [ 3960.32940921 -2107.15345227]\n",
      " [ 3963.28930771 -1907.17535596]\n",
      " [ 4166.22730251 -1710.15715816]\n",
      " [ 4163.26740401 -1910.13525446]\n",
      " [ 4160.30750552 -2110.11335076]\n",
      " [ 4157.34760702 -2310.09144707]\n",
      " [ 4154.38770852 -2510.06954337]\n",
      " [ 4151.42781003 -2710.04763967]\n",
      " [ 4351.40590633 -2713.00753817]\n",
      " [ 4354.36580483 -2513.02944186]\n",
      " [ 4357.32570332 -2313.05134556]\n",
      " [ 4360.28560182 -2113.07324926]\n",
      " [ 4363.24550032 -1913.09515296]\n",
      " [ 4366.20539881 -1713.11705665]\n",
      " [ 4563.22359662 -1916.05505145]\n",
      " [ 4560.26369812 -2116.03314776]\n",
      " [ 4557.30379963 -2316.01124406]\n",
      " [ 4554.34390113 -2515.98934036]\n",
      " [ 4754.32199743 -2518.94923886]\n",
      " [ 4757.28189593 -2318.97114256]\n",
      " [ 4760.24179443 -2118.99304625]\n",
      " [ 4763.20169292 -1919.01494995]\n",
      " [ 4963.17978923 -1921.97484845]\n",
      " [ 4960.21989073 -2121.95294475]\n",
      " [ 4957.25999223 -2321.93104105]\n",
      " [ 4954.30009373 -2521.90913736]\n",
      " [ 5154.27819004 -2524.86903585]\n",
      " [ 5157.23808853 -2324.89093955]\n",
      " [ 5160.19798703 -2124.91284325]\n",
      " [ 5163.15788553 -1924.93474694]\n",
      " [ 5363.13598183 -1927.89464544]\n",
      " [ 5360.17608333 -2127.87274174]\n",
      " [ 5357.21618484 -2327.85083805]\n",
      " [ 5354.25628634 -2527.82893435]]\n"
     ]
    }
   ],
   "source": [
    "new_positions = np.dot(old_positions, R) + T\n",
    "print(new_positions)"
   ]
  },
  {
   "cell_type": "code",
   "execution_count": 62,
   "metadata": {
    "collapsed": false
   },
   "outputs": [
    {
     "name": "stdout",
     "output_type": "stream",
     "text": [
      "D:\\Pu\\20220215-P_brain_CTP11-1000_CTP12_from0208\\Alignment\\translated_positions_all.txt\n"
     ]
    }
   ],
   "source": [
    "save_filename = os.path.join(new_folder, 'translated_positions_all.txt')\n",
    "print(save_filename)\n",
    "np.savetxt(save_filename, new_positions, fmt='%.2f', delimiter=',')"
   ]
  },
  {
   "cell_type": "markdown",
   "metadata": {},
   "source": [
    "# Manual adjust positions"
   ]
  },
  {
   "cell_type": "code",
   "execution_count": 63,
   "metadata": {
    "collapsed": false
   },
   "outputs": [
    {
     "name": "stdout",
     "output_type": "stream",
     "text": [
      "D:\\Pu\\20220208-P_brain_M1_nonclear\\60x_positions_before.txt\n"
     ]
    }
   ],
   "source": [
    "manual_positions_before_file = os.path.join(os.path.dirname(old_folder), '60x_positions_before.txt')\n",
    "print(manual_positions_before_file)"
   ]
  },
  {
   "cell_type": "code",
   "execution_count": 64,
   "metadata": {
    "collapsed": false
   },
   "outputs": [
    {
     "name": "stdout",
     "output_type": "stream",
     "text": [
      "[[-3834.    -602.92]\n",
      " [-3101.46  4229.73]\n",
      " [ 6538.3   2639.23]\n",
      " [ 5862.38 -2320.71]]\n",
      "translated manual positions:\n",
      "[[-3792.23 -1939.12]\n",
      " [-2988.25  2882.16]\n",
      " [ 6626.91  1149.17]\n",
      " [ 5877.66 -3800.22]]\n"
     ]
    }
   ],
   "source": [
    "manual_positions = np.loadtxt(manual_positions_before_file, delimiter=',')\n",
    "print(manual_positions)\n",
    "translated_manual_positions = np.dot(manual_positions, R) + T\n",
    "print('translated manual positions:')\n",
    "print(np.round(translated_manual_positions, 2))"
   ]
  },
  {
   "cell_type": "code",
   "execution_count": 68,
   "metadata": {
    "collapsed": false,
    "scrolled": true
   },
   "outputs": [
    {
     "data": {
      "text/plain": [
       "array([[-23.76715442,  -2.37893721],\n",
       "       [-27.7476951 ,  -2.15845247],\n",
       "       [-28.91337038,   2.33091404],\n",
       "       [-21.16280137,   3.22443596]])"
      ]
     },
     "execution_count": 68,
     "metadata": {},
     "output_type": "execute_result"
    }
   ],
   "source": [
    "manual_real_positions = [\n",
    "    [-3816, -1941.5],\n",
    "    [-3016, 2880],\n",
    "    [6598, 1151.5],\n",
    "    [5856.5, -3797],\n",
    "]\n",
    "manual_shifts = np.array(manual_real_positions) - translated_manual_positions[:len(manual_real_positions)]\n",
    "manual_shifts"
   ]
  },
  {
   "cell_type": "code",
   "execution_count": 69,
   "metadata": {
    "collapsed": false
   },
   "outputs": [
    {
     "data": {
      "text/plain": [
       "array([-25.39775532,   0.25449008])"
      ]
     },
     "execution_count": 69,
     "metadata": {},
     "output_type": "execute_result"
    }
   ],
   "source": [
    "manual_shift = np.mean(manual_shifts, axis=0)\n",
    "manual_shift"
   ]
  },
  {
   "cell_type": "code",
   "execution_count": 70,
   "metadata": {
    "collapsed": true
   },
   "outputs": [],
   "source": [
    "adjusted_new_positions = new_positions + manual_shift"
   ]
  },
  {
   "cell_type": "code",
   "execution_count": 71,
   "metadata": {
    "collapsed": false
   },
   "outputs": [
    {
     "name": "stdout",
     "output_type": "stream",
     "text": [
      "D:\\Pu\\20220215-P_brain_CTP11-1000_CTP12_from0208\\Alignment\\adjusted_translated_positions_all.txt\n"
     ]
    }
   ],
   "source": [
    "adj_save_filename = os.path.join(new_folder, 'adjusted_translated_positions_all.txt')\n",
    "print(adj_save_filename)\n",
    "np.savetxt(adj_save_filename, adjusted_new_positions, fmt='%.2f', delimiter=',')"
   ]
  },
  {
   "cell_type": "code",
   "execution_count": null,
   "metadata": {
    "collapsed": true
   },
   "outputs": [],
   "source": []
  }
 ],
 "metadata": {
  "kernelspec": {
   "display_name": "Python 3",
   "language": "python",
   "name": "python3"
  },
  "language_info": {
   "codemirror_mode": {
    "name": "ipython",
    "version": 3
   },
   "file_extension": ".py",
   "mimetype": "text/x-python",
   "name": "python",
   "nbconvert_exporter": "python",
   "pygments_lexer": "ipython3",
   "version": "3.9.5"
  }
 },
 "nbformat": 4,
 "nbformat_minor": 0
}
