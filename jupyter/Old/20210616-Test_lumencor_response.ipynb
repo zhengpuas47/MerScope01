{
 "cells": [
  {
   "cell_type": "code",
   "execution_count": 1,
   "metadata": {
    "collapsed": false
   },
   "outputs": [],
   "source": [
    "import os, sys\n",
    "sys.path.append(r'../')\n",
    "import numpy as np\n",
    "from importlib import reload"
   ]
  },
  {
   "cell_type": "code",
   "execution_count": null,
   "metadata": {
    "collapsed": true
   },
   "outputs": [],
   "source": []
  },
  {
   "cell_type": "code",
   "execution_count": 6,
   "metadata": {
    "collapsed": true
   },
   "outputs": [],
   "source": [
    "import urllib.request\n",
    "import traceback"
   ]
  },
  {
   "cell_type": "code",
   "execution_count": 7,
   "metadata": {
    "collapsed": true
   },
   "outputs": [],
   "source": [
    "import storm_control.sc_hardware.lumencor.celesta as celesta"
   ]
  },
  {
   "cell_type": "code",
   "execution_count": 8,
   "metadata": {
    "collapsed": false
   },
   "outputs": [
    {
     "name": "stdout",
     "output_type": "stream",
     "text": [
      "http://192.168.201.200/service/?command=GET%20IP\n"
     ]
    },
    {
     "data": {
      "text/plain": [
       "{'message': 'A IP 192.168.201.200', 'status': ''}"
      ]
     },
     "execution_count": 8,
     "metadata": {},
     "output_type": "execute_result"
    }
   ],
   "source": [
    "celesta.lumencor_httpcommand()\n"
   ]
  },
  {
   "cell_type": "code",
   "execution_count": 9,
   "metadata": {
    "collapsed": false
   },
   "outputs": [
    {
     "name": "stdout",
     "output_type": "stream",
     "text": [
      "http://192.168.201.200/service/?command=GET%20IP\n",
      "http://192.168.201.200/service/?command=GET%20CHMAP\n",
      "http://192.168.201.200/service/?command=GET%20MAXINT\n",
      "http://192.168.201.200/service/?command=SET%20TTLENABLE%201\n",
      "http://192.168.201.200/service/?command=GET%20CH%200\n",
      "http://192.168.201.200/service/?command=SET%20CH%200%200\n",
      "Turning On/Off False {'message': 'A CH', 'status': ''}\n"
     ]
    }
   ],
   "source": [
    "lc = celesta.LumencorLaser()"
   ]
  },
  {
   "cell_type": "code",
   "execution_count": 14,
   "metadata": {
    "collapsed": false
   },
   "outputs": [
    {
     "name": "stdout",
     "output_type": "stream",
     "text": [
      "http://192.168.201.200/service/?command=GET%20CHMAP\n"
     ]
    },
    {
     "data": {
      "text/plain": [
       "5"
      ]
     },
     "execution_count": 14,
     "metadata": {},
     "output_type": "execute_result"
    }
   ],
   "source": [
    "lc.getNumberLasers()"
   ]
  },
  {
   "cell_type": "code",
   "execution_count": 3,
   "metadata": {
    "collapsed": false
   },
   "outputs": [],
   "source": [
    "sys.path.append(r'../storm-analysis')\n",
    "import storm_analysis"
   ]
  },
  {
   "cell_type": "code",
   "execution_count": 7,
   "metadata": {
    "collapsed": false
   },
   "outputs": [],
   "source": [
    "import storm_control.sc_hardware.utility.sa_lock_peak_finder"
   ]
  },
  {
   "cell_type": "code",
   "execution_count": 6,
   "metadata": {
    "collapsed": false
   },
   "outputs": [
    {
     "name": "stdout",
     "output_type": "stream",
     "text": [
      "['C:\\\\Users\\\\neoSTORM6\\\\Documents\\\\STORM6\\\\jupyter', 'C:\\\\Users\\\\neoSTORM6\\\\anaconda3\\\\envs\\\\halenv\\\\python39.zip', 'C:\\\\Users\\\\neoSTORM6\\\\anaconda3\\\\envs\\\\halenv\\\\DLLs', 'C:\\\\Users\\\\neoSTORM6\\\\anaconda3\\\\envs\\\\halenv\\\\lib', 'C:\\\\Users\\\\neoSTORM6\\\\anaconda3\\\\envs\\\\halenv', '', 'C:\\\\Users\\\\neoSTORM6\\\\anaconda3\\\\envs\\\\halenv\\\\lib\\\\site-packages', 'C:\\\\Users\\\\neoSTORM6\\\\anaconda3\\\\envs\\\\halenv\\\\lib\\\\site-packages\\\\win32', 'C:\\\\Users\\\\neoSTORM6\\\\anaconda3\\\\envs\\\\halenv\\\\lib\\\\site-packages\\\\win32\\\\lib', 'C:\\\\Users\\\\neoSTORM6\\\\anaconda3\\\\envs\\\\halenv\\\\lib\\\\site-packages\\\\Pythonwin', 'C:\\\\Users\\\\neoSTORM6\\\\anaconda3\\\\envs\\\\halenv\\\\lib\\\\site-packages\\\\IPython\\\\extensions', 'C:\\\\Users\\\\neoSTORM6\\\\.ipython', '../', '../storm-analysis', '../storm-analysis', '../../../../STORM6/storm-analysis', '../../../../STORM6/storm-analysis', '../../../../STORM6/storm-analysis']\n"
     ]
    },
    {
     "data": {
      "text/plain": [
       "<module 'storm_control.sc_hardware.utility.sa_lock_peak_finder' from 'C:\\\\Users\\\\neoSTORM6\\\\Documents\\\\STORM6\\\\jupyter\\\\..\\\\storm_control\\\\sc_hardware\\\\utility\\\\sa_lock_peak_finder.py'>"
      ]
     },
     "execution_count": 6,
     "metadata": {},
     "output_type": "execute_result"
    }
   ],
   "source": [
    "reload(storm_control.sc_hardware.utility.sa_lock_peak_finder)"
   ]
  },
  {
   "cell_type": "code",
   "execution_count": null,
   "metadata": {
    "collapsed": true
   },
   "outputs": [],
   "source": []
  }
 ],
 "metadata": {
  "kernelspec": {
   "display_name": "Python 3",
   "language": "python",
   "name": "python3"
  },
  "language_info": {
   "codemirror_mode": {
    "name": "ipython",
    "version": 3
   },
   "file_extension": ".py",
   "mimetype": "text/x-python",
   "name": "python",
   "nbconvert_exporter": "python",
   "pygments_lexer": "ipython3",
   "version": "3.9.5"
  }
 },
 "nbformat": 4,
 "nbformat_minor": 0
}
