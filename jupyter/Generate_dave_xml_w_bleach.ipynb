{
 "cells": [
  {
   "cell_type": "code",
   "execution_count": 5,
   "metadata": {
    "collapsed": true
   },
   "outputs": [],
   "source": [
    "from xml.etree import ElementTree\n",
    "from xml.dom import minidom\n",
    "from xml.etree.ElementTree import Element, SubElement, Comment, indent\n",
    "\n",
    "def prettify(elem):\n",
    "    \"\"\"Return a pretty-printed XML string for the Element.\n",
    "    \"\"\"\n",
    "    rough_string = ElementTree.tostring(elem, encoding=\"ISO-8859-1\")\n",
    "    reparsed = minidom.parseString(rough_string)\n",
    "    return reparsed.toprettyxml(indent=\"\\t\")"
   ]
  },
  {
   "cell_type": "code",
   "execution_count": 29,
   "metadata": {
    "collapsed": true
   },
   "outputs": [],
   "source": [
    "import numpy as np\n",
    "import os\n",
    "valve_ids = np.arange(2,4+1)\n",
    "hyb_ids = np.arange(34,36+1)\n",
    "reg_names = [f'GM{_i}' for _i in np.arange(1,3+1)]"
   ]
  },
  {
   "cell_type": "code",
   "execution_count": 26,
   "metadata": {
    "collapsed": true
   },
   "outputs": [],
   "source": [
    "source_folder = r'D:\\Shiwei\\20210706-P_Forebrain_CTP09_only'\n",
    "target_drive = r'\\\\KOLMOGOROV\\Chromatin_NAS_5'\n",
    "imaging_protocol = r'Zscan_750_647_488_s60_n200'\n",
    "bleach_protocol = r'Bleach_740_647_s5'\n"
   ]
  },
  {
   "cell_type": "code",
   "execution_count": 30,
   "metadata": {
    "collapsed": false
   },
   "outputs": [],
   "source": [
    "cmd_seq = Element('command_sequence')\n",
    "\n",
    "for _vid, _hid, _rname in zip(valve_ids, hyb_ids, reg_names):\n",
    "    # comments\n",
    "    comment = Comment(f\"Hyb {_hid} for {_rname}\")\n",
    "    cmd_seq.append(comment)\n",
    "    # TCEP\n",
    "    tcep = SubElement(cmd_seq, 'valve_protocol')\n",
    "    tcep.text = \"Flow TCEP\"\n",
    "    # flow adaptor\n",
    "    adt = SubElement(cmd_seq, 'valve_protocol')\n",
    "    adt.text = f\"Hybridize {_vid}\"\n",
    "    # delay time\n",
    "    adt_incubation = SubElement(cmd_seq, 'delay')\n",
    "    adt_incubation.text = \"60000\"\n",
    "    \n",
    "    # change bleach directory\n",
    "    change_dir = SubElement(cmd_seq, 'change_directory')\n",
    "    change_dir.text = os.path.join(source_folder, f\"Bleach\")    \n",
    "    # wakeup\n",
    "    wakeup = SubElement(cmd_seq, 'wakeup')\n",
    "    wakeup.text = \"5000\"\n",
    "    # bleach loop\n",
    "    loop = SubElement(cmd_seq, 'loop', name='Position Loop Zscan', increment=\"name\")\n",
    "    loop_item = SubElement(loop, 'item', name=bleach_protocol)\n",
    "    loop_item.text = \" \"\n",
    "    \n",
    "    # wash\n",
    "    wash = SubElement(cmd_seq, 'valve_protocol')\n",
    "    wash.text = \"Short Wash\"\n",
    "    # readouts\n",
    "    readouts = SubElement(cmd_seq, 'valve_protocol')\n",
    "    readouts.text = \"Flow Readouts\"\n",
    "    # delay time\n",
    "    adt_incubation = SubElement(cmd_seq, 'delay')\n",
    "    adt_incubation.text = \"60000\"\n",
    "    \n",
    "    # change directory\n",
    "    change_dir = SubElement(cmd_seq, 'change_directory')\n",
    "    change_dir.text = os.path.join(source_folder, f\"H{_hid}{_rname.upper()}\")\n",
    "    # wakeup\n",
    "    wakeup = SubElement(cmd_seq, 'wakeup')\n",
    "    wakeup.text = \"5000\"\n",
    "    \n",
    "    # hybridization loop\n",
    "    loop = SubElement(cmd_seq, 'loop', name='Position Loop Zscan', increment=\"name\")\n",
    "    loop_item = SubElement(loop, 'item', name=imaging_protocol)\n",
    "    loop_item.text = \" \"\n",
    "    # delay time\n",
    "    delay = SubElement(cmd_seq, 'delay')\n",
    "    delay.text = \"2000\"\n",
    "    # copy folder\n",
    "    copy_dir = SubElement(cmd_seq, 'copy_directory')\n",
    "    source_dir = SubElement(copy_dir, 'source_path')\n",
    "    source_dir.text = change_dir.text#cmd_seq.findall('change_directory')[-1].text\n",
    "    target_dir = SubElement(copy_dir, 'target_path')\n",
    "    target_dir.text = os.path.join(target_drive, \n",
    "                                   os.path.basename(os.path.dirname(source_dir.text)), \n",
    "                                   os.path.basename(source_dir.text))\n",
    "    del_source = SubElement(copy_dir, 'delete_source')\n",
    "    del_source.text = \"True\"\n",
    "    # empty line\n",
    "    indent(target_dir)\n"
   ]
  },
  {
   "cell_type": "code",
   "execution_count": 31,
   "metadata": {
    "collapsed": false
   },
   "outputs": [
    {
     "name": "stdout",
     "output_type": "stream",
     "text": [
      "<?xml version=\"1.0\" ?>\n",
      "<command_sequence>\n",
      "\t<!--Hyb 34 for GM1-->\n",
      "\t<valve_protocol>Flow TCEP</valve_protocol>\n",
      "\t<valve_protocol>Hybridize 2</valve_protocol>\n",
      "\t<delay>60000</delay>\n",
      "\t<change_directory>D:\\Shiwei\\20210706-P_Forebrain_CTP09_only\\Bleach</change_directory>\n",
      "\t<wakeup>5000</wakeup>\n",
      "\t<loop name=\"Position Loop Zscan\" increment=\"name\">\n",
      "\t\t<item name=\"Bleach_740_647_s5\"> </item>\n",
      "\t</loop>\n",
      "\t<valve_protocol>Short Wash</valve_protocol>\n",
      "\t<valve_protocol>Flow Readouts</valve_protocol>\n",
      "\t<delay>60000</delay>\n",
      "\t<change_directory>D:\\Shiwei\\20210706-P_Forebrain_CTP09_only\\H34GM1</change_directory>\n",
      "\t<wakeup>5000</wakeup>\n",
      "\t<loop name=\"Position Loop Zscan\" increment=\"name\">\n",
      "\t\t<item name=\"Zscan_750_647_488_s60_n200\"> </item>\n",
      "\t</loop>\n",
      "\t<delay>2000</delay>\n",
      "\t<copy_directory>\n",
      "\t\t<source_path>D:\\Shiwei\\20210706-P_Forebrain_CTP09_only\\H34GM1</source_path>\n",
      "\t\t<target_path>\\\\KOLMOGOROV\\Chromatin_NAS_5\\20210706-P_Forebrain_CTP09_only\\H34GM1</target_path>\n",
      "\t\t<delete_source>True</delete_source>\n",
      "\t</copy_directory>\n",
      "\t<!--Hyb 35 for GM2-->\n",
      "\t<valve_protocol>Flow TCEP</valve_protocol>\n",
      "\t<valve_protocol>Hybridize 3</valve_protocol>\n",
      "\t<delay>60000</delay>\n",
      "\t<change_directory>D:\\Shiwei\\20210706-P_Forebrain_CTP09_only\\Bleach</change_directory>\n",
      "\t<wakeup>5000</wakeup>\n",
      "\t<loop name=\"Position Loop Zscan\" increment=\"name\">\n",
      "\t\t<item name=\"Bleach_740_647_s5\"> </item>\n",
      "\t</loop>\n",
      "\t<valve_protocol>Short Wash</valve_protocol>\n",
      "\t<valve_protocol>Flow Readouts</valve_protocol>\n",
      "\t<delay>60000</delay>\n",
      "\t<change_directory>D:\\Shiwei\\20210706-P_Forebrain_CTP09_only\\H35GM2</change_directory>\n",
      "\t<wakeup>5000</wakeup>\n",
      "\t<loop name=\"Position Loop Zscan\" increment=\"name\">\n",
      "\t\t<item name=\"Zscan_750_647_488_s60_n200\"> </item>\n",
      "\t</loop>\n",
      "\t<delay>2000</delay>\n",
      "\t<copy_directory>\n",
      "\t\t<source_path>D:\\Shiwei\\20210706-P_Forebrain_CTP09_only\\H35GM2</source_path>\n",
      "\t\t<target_path>\\\\KOLMOGOROV\\Chromatin_NAS_5\\20210706-P_Forebrain_CTP09_only\\H35GM2</target_path>\n",
      "\t\t<delete_source>True</delete_source>\n",
      "\t</copy_directory>\n",
      "\t<!--Hyb 36 for GM3-->\n",
      "\t<valve_protocol>Flow TCEP</valve_protocol>\n",
      "\t<valve_protocol>Hybridize 4</valve_protocol>\n",
      "\t<delay>60000</delay>\n",
      "\t<change_directory>D:\\Shiwei\\20210706-P_Forebrain_CTP09_only\\Bleach</change_directory>\n",
      "\t<wakeup>5000</wakeup>\n",
      "\t<loop name=\"Position Loop Zscan\" increment=\"name\">\n",
      "\t\t<item name=\"Bleach_740_647_s5\"> </item>\n",
      "\t</loop>\n",
      "\t<valve_protocol>Short Wash</valve_protocol>\n",
      "\t<valve_protocol>Flow Readouts</valve_protocol>\n",
      "\t<delay>60000</delay>\n",
      "\t<change_directory>D:\\Shiwei\\20210706-P_Forebrain_CTP09_only\\H36GM3</change_directory>\n",
      "\t<wakeup>5000</wakeup>\n",
      "\t<loop name=\"Position Loop Zscan\" increment=\"name\">\n",
      "\t\t<item name=\"Zscan_750_647_488_s60_n200\"> </item>\n",
      "\t</loop>\n",
      "\t<delay>2000</delay>\n",
      "\t<copy_directory>\n",
      "\t\t<source_path>D:\\Shiwei\\20210706-P_Forebrain_CTP09_only\\H36GM3</source_path>\n",
      "\t\t<target_path>\\\\KOLMOGOROV\\Chromatin_NAS_5\\20210706-P_Forebrain_CTP09_only\\H36GM3</target_path>\n",
      "\t\t<delete_source>True</delete_source>\n",
      "\t</copy_directory>\n",
      "</command_sequence>\n",
      "\n"
     ]
    }
   ],
   "source": [
    "print( prettify(cmd_seq))"
   ]
  },
  {
   "cell_type": "code",
   "execution_count": null,
   "metadata": {
    "collapsed": true
   },
   "outputs": [],
   "source": []
  }
 ],
 "metadata": {
  "kernelspec": {
   "display_name": "Python 3",
   "language": "python",
   "name": "python3"
  },
  "language_info": {
   "codemirror_mode": {
    "name": "ipython",
    "version": 3
   },
   "file_extension": ".py",
   "mimetype": "text/x-python",
   "name": "python",
   "nbconvert_exporter": "python",
   "pygments_lexer": "ipython3",
   "version": "3.9.5"
  }
 },
 "nbformat": 4,
 "nbformat_minor": 5
}
